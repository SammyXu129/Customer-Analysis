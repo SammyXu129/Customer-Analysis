{
 "cells": [
  {
   "cell_type": "markdown",
   "metadata": {},
   "source": [
    "# Customer Analysis"
   ]
  },
  {
   "cell_type": "markdown",
   "metadata": {},
   "source": [
    "### The analysis will follow this structure:\n",
    "1. Analyze transaction and customer data to identify trends and inconsistencies. \n",
    "2. Develop metrics and examine sales drivers to gain insights into overall sales performance. \n",
    "3. Create visualizations and prepare findings to formulate a clear recommendation for the client's strategy."
   ]
  },
  {
   "cell_type": "markdown",
   "metadata": {},
   "source": [
    "## Load Data"
   ]
  },
  {
   "cell_type": "code",
   "execution_count": 2,
   "metadata": {},
   "outputs": [],
   "source": [
    "import pandas as pd\n",
    "from matplotlib import pyplot as plt"
   ]
  },
  {
   "cell_type": "code",
   "execution_count": 3,
   "metadata": {},
   "outputs": [
    {
     "data": {
      "text/html": [
       "<div>\n",
       "<style scoped>\n",
       "    .dataframe tbody tr th:only-of-type {\n",
       "        vertical-align: middle;\n",
       "    }\n",
       "\n",
       "    .dataframe tbody tr th {\n",
       "        vertical-align: top;\n",
       "    }\n",
       "\n",
       "    .dataframe thead th {\n",
       "        text-align: right;\n",
       "    }\n",
       "</style>\n",
       "<table border=\"1\" class=\"dataframe\">\n",
       "  <thead>\n",
       "    <tr style=\"text-align: right;\">\n",
       "      <th></th>\n",
       "      <th>LYLTY_CARD_NBR</th>\n",
       "      <th>LIFESTAGE</th>\n",
       "      <th>PREMIUM_CUSTOMER</th>\n",
       "    </tr>\n",
       "  </thead>\n",
       "  <tbody>\n",
       "    <tr>\n",
       "      <th>0</th>\n",
       "      <td>1000</td>\n",
       "      <td>YOUNG SINGLES/COUPLES</td>\n",
       "      <td>Premium</td>\n",
       "    </tr>\n",
       "    <tr>\n",
       "      <th>1</th>\n",
       "      <td>1002</td>\n",
       "      <td>YOUNG SINGLES/COUPLES</td>\n",
       "      <td>Mainstream</td>\n",
       "    </tr>\n",
       "    <tr>\n",
       "      <th>2</th>\n",
       "      <td>1003</td>\n",
       "      <td>YOUNG FAMILIES</td>\n",
       "      <td>Budget</td>\n",
       "    </tr>\n",
       "    <tr>\n",
       "      <th>3</th>\n",
       "      <td>1004</td>\n",
       "      <td>OLDER SINGLES/COUPLES</td>\n",
       "      <td>Mainstream</td>\n",
       "    </tr>\n",
       "    <tr>\n",
       "      <th>4</th>\n",
       "      <td>1005</td>\n",
       "      <td>MIDAGE SINGLES/COUPLES</td>\n",
       "      <td>Mainstream</td>\n",
       "    </tr>\n",
       "  </tbody>\n",
       "</table>\n",
       "</div>"
      ],
      "text/plain": [
       "   LYLTY_CARD_NBR               LIFESTAGE PREMIUM_CUSTOMER\n",
       "0            1000   YOUNG SINGLES/COUPLES          Premium\n",
       "1            1002   YOUNG SINGLES/COUPLES       Mainstream\n",
       "2            1003          YOUNG FAMILIES           Budget\n",
       "3            1004   OLDER SINGLES/COUPLES       Mainstream\n",
       "4            1005  MIDAGE SINGLES/COUPLES       Mainstream"
      ]
     },
     "execution_count": 3,
     "metadata": {},
     "output_type": "execute_result"
    }
   ],
   "source": [
    "#import dataset1\n",
    "\n",
    "df_behavir = pd.read_csv(\"QVI_purchase_behaviour.csv\")\n",
    "df_behavir.head()"
   ]
  },
  {
   "cell_type": "code",
   "execution_count": 4,
   "metadata": {},
   "outputs": [
    {
     "data": {
      "text/html": [
       "<div>\n",
       "<style scoped>\n",
       "    .dataframe tbody tr th:only-of-type {\n",
       "        vertical-align: middle;\n",
       "    }\n",
       "\n",
       "    .dataframe tbody tr th {\n",
       "        vertical-align: top;\n",
       "    }\n",
       "\n",
       "    .dataframe thead th {\n",
       "        text-align: right;\n",
       "    }\n",
       "</style>\n",
       "<table border=\"1\" class=\"dataframe\">\n",
       "  <thead>\n",
       "    <tr style=\"text-align: right;\">\n",
       "      <th></th>\n",
       "      <th>DATE</th>\n",
       "      <th>STORE_NBR</th>\n",
       "      <th>LYLTY_CARD_NBR</th>\n",
       "      <th>TXN_ID</th>\n",
       "      <th>PROD_NBR</th>\n",
       "      <th>PROD_NAME</th>\n",
       "      <th>PROD_QTY</th>\n",
       "      <th>TOT_SALES</th>\n",
       "    </tr>\n",
       "  </thead>\n",
       "  <tbody>\n",
       "    <tr>\n",
       "      <th>0</th>\n",
       "      <td>43390</td>\n",
       "      <td>1</td>\n",
       "      <td>1000</td>\n",
       "      <td>1</td>\n",
       "      <td>5</td>\n",
       "      <td>Natural Chip        Compny SeaSalt175g</td>\n",
       "      <td>2</td>\n",
       "      <td>6.0</td>\n",
       "    </tr>\n",
       "    <tr>\n",
       "      <th>1</th>\n",
       "      <td>43599</td>\n",
       "      <td>1</td>\n",
       "      <td>1307</td>\n",
       "      <td>348</td>\n",
       "      <td>66</td>\n",
       "      <td>CCs Nacho Cheese    175g</td>\n",
       "      <td>3</td>\n",
       "      <td>6.3</td>\n",
       "    </tr>\n",
       "    <tr>\n",
       "      <th>2</th>\n",
       "      <td>43605</td>\n",
       "      <td>1</td>\n",
       "      <td>1343</td>\n",
       "      <td>383</td>\n",
       "      <td>61</td>\n",
       "      <td>Smiths Crinkle Cut  Chips Chicken 170g</td>\n",
       "      <td>2</td>\n",
       "      <td>2.9</td>\n",
       "    </tr>\n",
       "    <tr>\n",
       "      <th>3</th>\n",
       "      <td>43329</td>\n",
       "      <td>2</td>\n",
       "      <td>2373</td>\n",
       "      <td>974</td>\n",
       "      <td>69</td>\n",
       "      <td>Smiths Chip Thinly  S/Cream&amp;Onion 175g</td>\n",
       "      <td>5</td>\n",
       "      <td>15.0</td>\n",
       "    </tr>\n",
       "    <tr>\n",
       "      <th>4</th>\n",
       "      <td>43330</td>\n",
       "      <td>2</td>\n",
       "      <td>2426</td>\n",
       "      <td>1038</td>\n",
       "      <td>108</td>\n",
       "      <td>Kettle Tortilla ChpsHny&amp;Jlpno Chili 150g</td>\n",
       "      <td>3</td>\n",
       "      <td>13.8</td>\n",
       "    </tr>\n",
       "  </tbody>\n",
       "</table>\n",
       "</div>"
      ],
      "text/plain": [
       "    DATE  STORE_NBR  LYLTY_CARD_NBR  TXN_ID  PROD_NBR  \\\n",
       "0  43390          1            1000       1         5   \n",
       "1  43599          1            1307     348        66   \n",
       "2  43605          1            1343     383        61   \n",
       "3  43329          2            2373     974        69   \n",
       "4  43330          2            2426    1038       108   \n",
       "\n",
       "                                  PROD_NAME  PROD_QTY  TOT_SALES  \n",
       "0    Natural Chip        Compny SeaSalt175g         2        6.0  \n",
       "1                  CCs Nacho Cheese    175g         3        6.3  \n",
       "2    Smiths Crinkle Cut  Chips Chicken 170g         2        2.9  \n",
       "3    Smiths Chip Thinly  S/Cream&Onion 175g         5       15.0  \n",
       "4  Kettle Tortilla ChpsHny&Jlpno Chili 150g         3       13.8  "
      ]
     },
     "execution_count": 4,
     "metadata": {},
     "output_type": "execute_result"
    }
   ],
   "source": [
    "#import dataset2\n",
    "\n",
    "df_transaction = pd.read_csv(\"QVI_transaction_data.csv\")\n",
    "df_transaction.head()"
   ]
  },
  {
   "cell_type": "markdown",
   "metadata": {},
   "source": [
    " ##  Exploratory data analysis"
   ]
  },
  {
   "cell_type": "code",
   "execution_count": 5,
   "metadata": {},
   "outputs": [
    {
     "data": {
      "text/plain": [
       "DATE                int64\n",
       "STORE_NBR           int64\n",
       "LYLTY_CARD_NBR      int64\n",
       "TXN_ID              int64\n",
       "PROD_NBR            int64\n",
       "PROD_NAME          object\n",
       "PROD_QTY            int64\n",
       "TOT_SALES         float64\n",
       "dtype: object"
      ]
     },
     "execution_count": 5,
     "metadata": {},
     "output_type": "execute_result"
    }
   ],
   "source": [
    "#### Examine transaction data\n",
    "df_transaction.dtypes"
   ]
  },
  {
   "cell_type": "markdown",
   "metadata": {},
   "source": [
    "Change date format"
   ]
  },
  {
   "cell_type": "code",
   "execution_count": 1,
   "metadata": {},
   "outputs": [
    {
     "ename": "NameError",
     "evalue": "name 'df_transaction' is not defined",
     "output_type": "error",
     "traceback": [
      "\u001b[0;31m---------------------------------------------------------------------------\u001b[0m",
      "\u001b[0;31mNameError\u001b[0m                                 Traceback (most recent call last)",
      "Cell \u001b[0;32mIn[1], line 8\u001b[0m\n\u001b[1;32m      5\u001b[0m new_date \u001b[38;5;241m=\u001b[39m []\n\u001b[1;32m      6\u001b[0m start \u001b[38;5;241m=\u001b[39m date(\u001b[38;5;241m1899\u001b[39m, \u001b[38;5;241m12\u001b[39m, \u001b[38;5;241m30\u001b[39m)\n\u001b[0;32m----> 8\u001b[0m \u001b[38;5;28;01mfor\u001b[39;00m date \u001b[38;5;129;01min\u001b[39;00m df_transaction[\u001b[38;5;124m'\u001b[39m\u001b[38;5;124mDATE\u001b[39m\u001b[38;5;124m'\u001b[39m]:\n\u001b[1;32m      9\u001b[0m     delta \u001b[38;5;241m=\u001b[39m timedelta(date)\n\u001b[1;32m     10\u001b[0m     new_date\u001b[38;5;241m.\u001b[39mappend(start \u001b[38;5;241m+\u001b[39m delta)\n",
      "\u001b[0;31mNameError\u001b[0m: name 'df_transaction' is not defined"
     ]
    }
   ],
   "source": [
    "###errors in date type\n",
    "\n",
    "from datetime import date, timedelta\n",
    "\n",
    "new_date = []\n",
    "start = date(1899, 12, 30)\n",
    "\n",
    "for date in df_transaction['DATE']:\n",
    "    delta = timedelta(date)\n",
    "    new_date.append(start + delta)\n",
    "\n",
    "df_transaction['DATE'] = pd.to_datetime(pd.Series(new_date))\n",
    "df_transaction\n"
   ]
  },
  {
   "cell_type": "code",
   "execution_count": 7,
   "metadata": {},
   "outputs": [
    {
     "data": {
      "text/html": [
       "<div>\n",
       "<style scoped>\n",
       "    .dataframe tbody tr th:only-of-type {\n",
       "        vertical-align: middle;\n",
       "    }\n",
       "\n",
       "    .dataframe tbody tr th {\n",
       "        vertical-align: top;\n",
       "    }\n",
       "\n",
       "    .dataframe thead th {\n",
       "        text-align: right;\n",
       "    }\n",
       "</style>\n",
       "<table border=\"1\" class=\"dataframe\">\n",
       "  <thead>\n",
       "    <tr style=\"text-align: right;\">\n",
       "      <th></th>\n",
       "      <th>LYLTY_CARD_NBR</th>\n",
       "    </tr>\n",
       "  </thead>\n",
       "  <tbody>\n",
       "    <tr>\n",
       "      <th>count</th>\n",
       "      <td>7.263700e+04</td>\n",
       "    </tr>\n",
       "    <tr>\n",
       "      <th>mean</th>\n",
       "      <td>1.361859e+05</td>\n",
       "    </tr>\n",
       "    <tr>\n",
       "      <th>std</th>\n",
       "      <td>8.989293e+04</td>\n",
       "    </tr>\n",
       "    <tr>\n",
       "      <th>min</th>\n",
       "      <td>1.000000e+03</td>\n",
       "    </tr>\n",
       "    <tr>\n",
       "      <th>25%</th>\n",
       "      <td>6.620200e+04</td>\n",
       "    </tr>\n",
       "    <tr>\n",
       "      <th>50%</th>\n",
       "      <td>1.340400e+05</td>\n",
       "    </tr>\n",
       "    <tr>\n",
       "      <th>75%</th>\n",
       "      <td>2.033750e+05</td>\n",
       "    </tr>\n",
       "    <tr>\n",
       "      <th>max</th>\n",
       "      <td>2.373711e+06</td>\n",
       "    </tr>\n",
       "  </tbody>\n",
       "</table>\n",
       "</div>"
      ],
      "text/plain": [
       "       LYLTY_CARD_NBR\n",
       "count    7.263700e+04\n",
       "mean     1.361859e+05\n",
       "std      8.989293e+04\n",
       "min      1.000000e+03\n",
       "25%      6.620200e+04\n",
       "50%      1.340400e+05\n",
       "75%      2.033750e+05\n",
       "max      2.373711e+06"
      ]
     },
     "execution_count": 7,
     "metadata": {},
     "output_type": "execute_result"
    }
   ],
   "source": [
    "###Examine behavior data\n",
    "df_behavir.describe()\n"
   ]
  },
  {
   "cell_type": "code",
   "execution_count": 8,
   "metadata": {},
   "outputs": [
    {
     "data": {
      "text/plain": [
       "LYLTY_CARD_NBR       int64\n",
       "LIFESTAGE           object\n",
       "PREMIUM_CUSTOMER    object\n",
       "dtype: object"
      ]
     },
     "execution_count": 8,
     "metadata": {},
     "output_type": "execute_result"
    }
   ],
   "source": [
    "df_behavir.dtypes"
   ]
  },
  {
   "cell_type": "code",
   "execution_count": 9,
   "metadata": {},
   "outputs": [
    {
     "data": {
      "text/html": [
       "<div>\n",
       "<style scoped>\n",
       "    .dataframe tbody tr th:only-of-type {\n",
       "        vertical-align: middle;\n",
       "    }\n",
       "\n",
       "    .dataframe tbody tr th {\n",
       "        vertical-align: top;\n",
       "    }\n",
       "\n",
       "    .dataframe thead th {\n",
       "        text-align: right;\n",
       "    }\n",
       "</style>\n",
       "<table border=\"1\" class=\"dataframe\">\n",
       "  <thead>\n",
       "    <tr style=\"text-align: right;\">\n",
       "      <th></th>\n",
       "      <th>STORE_NBR</th>\n",
       "      <th>LYLTY_CARD_NBR</th>\n",
       "      <th>TXN_ID</th>\n",
       "      <th>PROD_NBR</th>\n",
       "      <th>PROD_QTY</th>\n",
       "      <th>TOT_SALES</th>\n",
       "    </tr>\n",
       "  </thead>\n",
       "  <tbody>\n",
       "    <tr>\n",
       "      <th>count</th>\n",
       "      <td>264836.00000</td>\n",
       "      <td>2.648360e+05</td>\n",
       "      <td>2.648360e+05</td>\n",
       "      <td>264836.000000</td>\n",
       "      <td>264836.000000</td>\n",
       "      <td>264836.000000</td>\n",
       "    </tr>\n",
       "    <tr>\n",
       "      <th>mean</th>\n",
       "      <td>135.08011</td>\n",
       "      <td>1.355495e+05</td>\n",
       "      <td>1.351583e+05</td>\n",
       "      <td>56.583157</td>\n",
       "      <td>1.907309</td>\n",
       "      <td>7.304200</td>\n",
       "    </tr>\n",
       "    <tr>\n",
       "      <th>std</th>\n",
       "      <td>76.78418</td>\n",
       "      <td>8.057998e+04</td>\n",
       "      <td>7.813303e+04</td>\n",
       "      <td>32.826638</td>\n",
       "      <td>0.643654</td>\n",
       "      <td>3.083226</td>\n",
       "    </tr>\n",
       "    <tr>\n",
       "      <th>min</th>\n",
       "      <td>1.00000</td>\n",
       "      <td>1.000000e+03</td>\n",
       "      <td>1.000000e+00</td>\n",
       "      <td>1.000000</td>\n",
       "      <td>1.000000</td>\n",
       "      <td>1.500000</td>\n",
       "    </tr>\n",
       "    <tr>\n",
       "      <th>25%</th>\n",
       "      <td>70.00000</td>\n",
       "      <td>7.002100e+04</td>\n",
       "      <td>6.760150e+04</td>\n",
       "      <td>28.000000</td>\n",
       "      <td>2.000000</td>\n",
       "      <td>5.400000</td>\n",
       "    </tr>\n",
       "    <tr>\n",
       "      <th>50%</th>\n",
       "      <td>130.00000</td>\n",
       "      <td>1.303575e+05</td>\n",
       "      <td>1.351375e+05</td>\n",
       "      <td>56.000000</td>\n",
       "      <td>2.000000</td>\n",
       "      <td>7.400000</td>\n",
       "    </tr>\n",
       "    <tr>\n",
       "      <th>75%</th>\n",
       "      <td>203.00000</td>\n",
       "      <td>2.030942e+05</td>\n",
       "      <td>2.027012e+05</td>\n",
       "      <td>85.000000</td>\n",
       "      <td>2.000000</td>\n",
       "      <td>9.200000</td>\n",
       "    </tr>\n",
       "    <tr>\n",
       "      <th>max</th>\n",
       "      <td>272.00000</td>\n",
       "      <td>2.373711e+06</td>\n",
       "      <td>2.415841e+06</td>\n",
       "      <td>114.000000</td>\n",
       "      <td>200.000000</td>\n",
       "      <td>650.000000</td>\n",
       "    </tr>\n",
       "  </tbody>\n",
       "</table>\n",
       "</div>"
      ],
      "text/plain": [
       "          STORE_NBR  LYLTY_CARD_NBR        TXN_ID       PROD_NBR  \\\n",
       "count  264836.00000    2.648360e+05  2.648360e+05  264836.000000   \n",
       "mean      135.08011    1.355495e+05  1.351583e+05      56.583157   \n",
       "std        76.78418    8.057998e+04  7.813303e+04      32.826638   \n",
       "min         1.00000    1.000000e+03  1.000000e+00       1.000000   \n",
       "25%        70.00000    7.002100e+04  6.760150e+04      28.000000   \n",
       "50%       130.00000    1.303575e+05  1.351375e+05      56.000000   \n",
       "75%       203.00000    2.030942e+05  2.027012e+05      85.000000   \n",
       "max       272.00000    2.373711e+06  2.415841e+06     114.000000   \n",
       "\n",
       "            PROD_QTY      TOT_SALES  \n",
       "count  264836.000000  264836.000000  \n",
       "mean        1.907309       7.304200  \n",
       "std         0.643654       3.083226  \n",
       "min         1.000000       1.500000  \n",
       "25%         2.000000       5.400000  \n",
       "50%         2.000000       7.400000  \n",
       "75%         2.000000       9.200000  \n",
       "max       200.000000     650.000000  "
      ]
     },
     "execution_count": 9,
     "metadata": {},
     "output_type": "execute_result"
    }
   ],
   "source": [
    "df_transaction.describe()"
   ]
  },
  {
   "cell_type": "markdown",
   "metadata": {},
   "source": [
    "#### We could see the ourliers in transaction dataset, which is 200 PROD_QTY"
   ]
  },
  {
   "cell_type": "code",
   "execution_count": 10,
   "metadata": {},
   "outputs": [
    {
     "data": {
      "text/plain": [
       "LYLTY_CARD_NBR      0\n",
       "LIFESTAGE           0\n",
       "PREMIUM_CUSTOMER    0\n",
       "dtype: int64"
      ]
     },
     "execution_count": 10,
     "metadata": {},
     "output_type": "execute_result"
    }
   ],
   "source": [
    "###check missing values\n",
    "df_behavir.isnull().sum()"
   ]
  },
  {
   "cell_type": "code",
   "execution_count": 11,
   "metadata": {},
   "outputs": [
    {
     "data": {
      "text/plain": [
       "DATE              0\n",
       "STORE_NBR         0\n",
       "LYLTY_CARD_NBR    0\n",
       "TXN_ID            0\n",
       "PROD_NBR          0\n",
       "PROD_NAME         0\n",
       "PROD_QTY          0\n",
       "TOT_SALES         0\n",
       "dtype: int64"
      ]
     },
     "execution_count": 11,
     "metadata": {},
     "output_type": "execute_result"
    }
   ],
   "source": [
    "df_transaction.isnull().sum()"
   ]
  },
  {
   "cell_type": "code",
   "execution_count": 12,
   "metadata": {},
   "outputs": [
    {
     "data": {
      "text/html": [
       "<div>\n",
       "<style scoped>\n",
       "    .dataframe tbody tr th:only-of-type {\n",
       "        vertical-align: middle;\n",
       "    }\n",
       "\n",
       "    .dataframe tbody tr th {\n",
       "        vertical-align: top;\n",
       "    }\n",
       "\n",
       "    .dataframe thead th {\n",
       "        text-align: right;\n",
       "    }\n",
       "</style>\n",
       "<table border=\"1\" class=\"dataframe\">\n",
       "  <thead>\n",
       "    <tr style=\"text-align: right;\">\n",
       "      <th></th>\n",
       "      <th>DATE</th>\n",
       "      <th>STORE_NBR</th>\n",
       "      <th>LYLTY_CARD_NBR</th>\n",
       "      <th>TXN_ID</th>\n",
       "      <th>PROD_NBR</th>\n",
       "      <th>PROD_NAME</th>\n",
       "      <th>PROD_QTY</th>\n",
       "      <th>TOT_SALES</th>\n",
       "    </tr>\n",
       "  </thead>\n",
       "  <tbody>\n",
       "    <tr>\n",
       "      <th>69762</th>\n",
       "      <td>2018-08-19</td>\n",
       "      <td>226</td>\n",
       "      <td>226000</td>\n",
       "      <td>226201</td>\n",
       "      <td>4</td>\n",
       "      <td>Dorito Corn Chp     Supreme 380g</td>\n",
       "      <td>200</td>\n",
       "      <td>650.0</td>\n",
       "    </tr>\n",
       "    <tr>\n",
       "      <th>69763</th>\n",
       "      <td>2019-05-20</td>\n",
       "      <td>226</td>\n",
       "      <td>226000</td>\n",
       "      <td>226210</td>\n",
       "      <td>4</td>\n",
       "      <td>Dorito Corn Chp     Supreme 380g</td>\n",
       "      <td>200</td>\n",
       "      <td>650.0</td>\n",
       "    </tr>\n",
       "  </tbody>\n",
       "</table>\n",
       "</div>"
      ],
      "text/plain": [
       "            DATE  STORE_NBR  LYLTY_CARD_NBR  TXN_ID  PROD_NBR  \\\n",
       "69762 2018-08-19        226          226000  226201         4   \n",
       "69763 2019-05-20        226          226000  226210         4   \n",
       "\n",
       "                              PROD_NAME  PROD_QTY  TOT_SALES  \n",
       "69762  Dorito Corn Chp     Supreme 380g       200      650.0  \n",
       "69763  Dorito Corn Chp     Supreme 380g       200      650.0  "
      ]
     },
     "execution_count": 12,
     "metadata": {},
     "output_type": "execute_result"
    }
   ],
   "source": [
    "###check outliers-- 200 PROD_QTY might be the case\n",
    "\n",
    "df_transaction[df_transaction['PROD_QTY'] == 200]\n"
   ]
  },
  {
   "cell_type": "code",
   "execution_count": 13,
   "metadata": {},
   "outputs": [
    {
     "data": {
      "text/html": [
       "<div>\n",
       "<style scoped>\n",
       "    .dataframe tbody tr th:only-of-type {\n",
       "        vertical-align: middle;\n",
       "    }\n",
       "\n",
       "    .dataframe tbody tr th {\n",
       "        vertical-align: top;\n",
       "    }\n",
       "\n",
       "    .dataframe thead th {\n",
       "        text-align: right;\n",
       "    }\n",
       "</style>\n",
       "<table border=\"1\" class=\"dataframe\">\n",
       "  <thead>\n",
       "    <tr style=\"text-align: right;\">\n",
       "      <th></th>\n",
       "      <th>LYLTY_CARD_NBR</th>\n",
       "      <th>LIFESTAGE</th>\n",
       "      <th>PREMIUM_CUSTOMER</th>\n",
       "    </tr>\n",
       "  </thead>\n",
       "  <tbody>\n",
       "    <tr>\n",
       "      <th>59694</th>\n",
       "      <td>226000</td>\n",
       "      <td>OLDER FAMILIES</td>\n",
       "      <td>Premium</td>\n",
       "    </tr>\n",
       "  </tbody>\n",
       "</table>\n",
       "</div>"
      ],
      "text/plain": [
       "       LYLTY_CARD_NBR       LIFESTAGE PREMIUM_CUSTOMER\n",
       "59694          226000  OLDER FAMILIES          Premium"
      ]
     },
     "execution_count": 13,
     "metadata": {},
     "output_type": "execute_result"
    }
   ],
   "source": [
    "\n",
    "df_behavir[df_behavir['LYLTY_CARD_NBR'] == 226000]"
   ]
  },
  {
   "cell_type": "markdown",
   "metadata": {},
   "source": [
    "#### This customer might buy products for commerical purposes thereby removing it"
   ]
  },
  {
   "cell_type": "code",
   "execution_count": 14,
   "metadata": {},
   "outputs": [],
   "source": [
    "dd = df_transaction[df_transaction.LYLTY_CARD_NBR == 226000].index\n",
    "\n",
    "df_transaction.drop(dd, inplace=True)\n",
    "\n",
    "#df_transaction.drop(df_transaction[df_transaction.LYLTY_CARD_NBR == 226000].index)"
   ]
  },
  {
   "cell_type": "code",
   "execution_count": 15,
   "metadata": {},
   "outputs": [
    {
     "data": {
      "text/plain": [
       "array(['Natural Chip        Compny SeaSalt175g',\n",
       "       'CCs Nacho Cheese    175g',\n",
       "       'Smiths Crinkle Cut  Chips Chicken 170g',\n",
       "       'Smiths Chip Thinly  S/Cream&Onion 175g',\n",
       "       'Kettle Tortilla ChpsHny&Jlpno Chili 150g',\n",
       "       'Old El Paso Salsa   Dip Tomato Mild 300g',\n",
       "       'Smiths Crinkle Chips Salt & Vinegar 330g',\n",
       "       'Grain Waves         Sweet Chilli 210g',\n",
       "       'Doritos Corn Chip Mexican Jalapeno 150g',\n",
       "       'Grain Waves Sour    Cream&Chives 210G',\n",
       "       'Kettle Sensations   Siracha Lime 150g',\n",
       "       'Twisties Cheese     270g', 'WW Crinkle Cut      Chicken 175g',\n",
       "       'Thins Chips Light&  Tangy 175g', 'CCs Original 175g',\n",
       "       'Burger Rings 220g', 'NCC Sour Cream &    Garden Chives 175g',\n",
       "       'Doritos Corn Chip Southern Chicken 150g',\n",
       "       'Cheezels Cheese Box 125g', 'Smiths Crinkle      Original 330g',\n",
       "       'Infzns Crn Crnchers Tangy Gcamole 110g',\n",
       "       'Kettle Sea Salt     And Vinegar 175g',\n",
       "       'Smiths Chip Thinly  Cut Original 175g', 'Kettle Original 175g',\n",
       "       'Red Rock Deli Thai  Chilli&Lime 150g',\n",
       "       'Pringles Sthrn FriedChicken 134g', 'Pringles Sweet&Spcy BBQ 134g',\n",
       "       'Red Rock Deli SR    Salsa & Mzzrlla 150g',\n",
       "       'Thins Chips         Originl saltd 175g',\n",
       "       'Red Rock Deli Sp    Salt & Truffle 150G',\n",
       "       'Smiths Thinly       Swt Chli&S/Cream175G', 'Kettle Chilli 175g',\n",
       "       'Doritos Mexicana    170g',\n",
       "       'Smiths Crinkle Cut  French OnionDip 150g',\n",
       "       'Natural ChipCo      Hony Soy Chckn175g',\n",
       "       'Dorito Corn Chp     Supreme 380g', 'Twisties Chicken270g',\n",
       "       'Smiths Thinly Cut   Roast Chicken 175g',\n",
       "       'Smiths Crinkle Cut  Tomato Salsa 150g',\n",
       "       'Kettle Mozzarella   Basil & Pesto 175g',\n",
       "       'Infuzions Thai SweetChili PotatoMix 110g',\n",
       "       'Kettle Sensations   Camembert & Fig 150g',\n",
       "       'Smith Crinkle Cut   Mac N Cheese 150g',\n",
       "       'Kettle Honey Soy    Chicken 175g',\n",
       "       'Thins Chips Seasonedchicken 175g',\n",
       "       'Smiths Crinkle Cut  Salt & Vinegar 170g',\n",
       "       'Infuzions BBQ Rib   Prawn Crackers 110g',\n",
       "       'GrnWves Plus Btroot & Chilli Jam 180g',\n",
       "       'Tyrrells Crisps     Lightly Salted 165g',\n",
       "       'Kettle Sweet Chilli And Sour Cream 175g',\n",
       "       'Doritos Salsa       Medium 300g', 'Kettle 135g Swt Pot Sea Salt',\n",
       "       'Pringles SourCream  Onion 134g',\n",
       "       'Doritos Corn Chips  Original 170g',\n",
       "       'Twisties Cheese     Burger 250g',\n",
       "       'Old El Paso Salsa   Dip Chnky Tom Ht300g',\n",
       "       'Cobs Popd Swt/Chlli &Sr/Cream Chips 110g',\n",
       "       'Woolworths Mild     Salsa 300g',\n",
       "       'Natural Chip Co     Tmato Hrb&Spce 175g',\n",
       "       'Smiths Crinkle Cut  Chips Original 170g',\n",
       "       'Cobs Popd Sea Salt  Chips 110g',\n",
       "       'Smiths Crinkle Cut  Chips Chs&Onion170g',\n",
       "       'French Fries Potato Chips 175g',\n",
       "       'Old El Paso Salsa   Dip Tomato Med 300g',\n",
       "       'Doritos Corn Chips  Cheese Supreme 170g',\n",
       "       'Pringles Original   Crisps 134g',\n",
       "       'RRD Chilli&         Coconut 150g',\n",
       "       'WW Original Corn    Chips 200g',\n",
       "       'Thins Potato Chips  Hot & Spicy 175g',\n",
       "       'Cobs Popd Sour Crm  &Chives Chips 110g',\n",
       "       'Smiths Crnkle Chip  Orgnl Big Bag 380g',\n",
       "       'Doritos Corn Chips  Nacho Cheese 170g',\n",
       "       'Kettle Sensations   BBQ&Maple 150g',\n",
       "       'WW D/Style Chip     Sea Salt 200g',\n",
       "       'Pringles Chicken    Salt Crips 134g',\n",
       "       'WW Original Stacked Chips 160g',\n",
       "       'Smiths Chip Thinly  CutSalt/Vinegr175g', 'Cheezels Cheese 330g',\n",
       "       'Tostitos Lightly    Salted 175g',\n",
       "       'Thins Chips Salt &  Vinegar 175g',\n",
       "       'Smiths Crinkle Cut  Chips Barbecue 170g', 'Cheetos Puffs 165g',\n",
       "       'RRD Sweet Chilli &  Sour Cream 165g',\n",
       "       'WW Crinkle Cut      Original 175g',\n",
       "       'Tostitos Splash Of  Lime 175g', 'Woolworths Medium   Salsa 300g',\n",
       "       'Kettle Tortilla ChpsBtroot&Ricotta 150g',\n",
       "       'CCs Tasty Cheese    175g', 'Woolworths Cheese   Rings 190g',\n",
       "       'Tostitos Smoked     Chipotle 175g', 'Pringles Barbeque   134g',\n",
       "       'WW Supreme Cheese   Corn Chips 200g',\n",
       "       'Pringles Mystery    Flavour 134g',\n",
       "       'Tyrrells Crisps     Ched & Chives 165g',\n",
       "       'Snbts Whlgrn Crisps Cheddr&Mstrd 90g',\n",
       "       'Cheetos Chs & Bacon Balls 190g', 'Pringles Slt Vingar 134g',\n",
       "       'Infuzions SourCream&Herbs Veg Strws 110g',\n",
       "       'Kettle Tortilla ChpsFeta&Garlic 150g',\n",
       "       'Infuzions Mango     Chutny Papadums 70g',\n",
       "       'RRD Steak &         Chimuchurri 150g',\n",
       "       'RRD Honey Soy       Chicken 165g',\n",
       "       'Sunbites Whlegrn    Crisps Frch/Onin 90g',\n",
       "       'RRD Salt & Vinegar  165g', 'Doritos Cheese      Supreme 330g',\n",
       "       'Smiths Crinkle Cut  Snag&Sauce 150g',\n",
       "       'WW Sour Cream &OnionStacked Chips 160g',\n",
       "       'RRD Lime & Pepper   165g',\n",
       "       'Natural ChipCo Sea  Salt & Vinegr 175g',\n",
       "       'Red Rock Deli Chikn&Garlic Aioli 150g',\n",
       "       'RRD SR Slow Rst     Pork Belly 150g', 'RRD Pc Sea Salt     165g',\n",
       "       'Smith Crinkle Cut   Bolognese 150g', 'Doritos Salsa Mild  300g'],\n",
       "      dtype=object)"
      ]
     },
     "execution_count": 15,
     "metadata": {},
     "output_type": "execute_result"
    }
   ],
   "source": [
    "###check PROD_NAME:\n",
    "df_transaction['PROD_NAME'].unique()"
   ]
  },
  {
   "cell_type": "code",
   "execution_count": 16,
   "metadata": {},
   "outputs": [
    {
     "name": "stderr",
     "output_type": "stream",
     "text": [
      "/var/folders/qc/zvz1knc173n7lpbcfzncj0_h0000gn/T/ipykernel_54847/948948315.py:1: FutureWarning: The default value of regex will change from True to False in a future version.\n",
      "  pro_words = df_transaction[\"PROD_NAME\"].str.replace(r'([0-9]+[gG])','').str.replace(r'[^\\w]',' ').str.split()\n"
     ]
    },
    {
     "data": {
      "text/plain": [
       "0                  [Natural, Chip, Compny, SeaSalt]\n",
       "1                              [CCs, Nacho, Cheese]\n",
       "2            [Smiths, Crinkle, Cut, Chips, Chicken]\n",
       "3           [Smiths, Chip, Thinly, S, Cream, Onion]\n",
       "4         [Kettle, Tortilla, ChpsHny, Jlpno, Chili]\n",
       "                            ...                    \n",
       "264831    [Kettle, Sweet, Chilli, And, Sour, Cream]\n",
       "264832                 [Tostitos, Splash, Of, Lime]\n",
       "264833                          [Doritos, Mexicana]\n",
       "264834     [Doritos, Corn, Chip, Mexican, Jalapeno]\n",
       "264835                 [Tostitos, Splash, Of, Lime]\n",
       "Name: PROD_NAME, Length: 264834, dtype: object"
      ]
     },
     "execution_count": 16,
     "metadata": {},
     "output_type": "execute_result"
    }
   ],
   "source": [
    "pro_words = df_transaction[\"PROD_NAME\"].str.replace(r'([0-9]+[gG])','').str.replace(r'[^\\w]',' ').str.split()\n",
    "pro_words"
   ]
  },
  {
   "cell_type": "code",
   "execution_count": 17,
   "metadata": {},
   "outputs": [
    {
     "data": {
      "text/plain": [
       "Chips       49770\n",
       "Kettle      41288\n",
       "Smiths      28860\n",
       "Salt        27976\n",
       "Cheese      27890\n",
       "            ...  \n",
       "Sunbites     1432\n",
       "Pc           1431\n",
       "Garden       1419\n",
       "NCC          1419\n",
       "Fries        1418\n",
       "Length: 198, dtype: int64"
      ]
     },
     "execution_count": 17,
     "metadata": {},
     "output_type": "execute_result"
    }
   ],
   "source": [
    "word_counts = {}\n",
    "\n",
    "def count_word(lines):\n",
    "    for word in lines:\n",
    "        if word not in word_counts:\n",
    "            word_counts[word] = 1\n",
    "        else:\n",
    "            word_counts[word] += 1 \n",
    "            \n",
    "pro_words.apply(lambda line: count_word(line))\n",
    "\n",
    "pd.Series(word_counts).sort_values(ascending = False)"
   ]
  },
  {
   "cell_type": "code",
   "execution_count": 18,
   "metadata": {},
   "outputs": [],
   "source": [
    "df_transaction = df_transaction[~df_transaction.PROD_NAME.str.contains(\"Salsa\")]"
   ]
  },
  {
   "cell_type": "code",
   "execution_count": 19,
   "metadata": {},
   "outputs": [
    {
     "data": {
      "text/plain": [
       "2018-12-24    865\n",
       "2018-12-23    853\n",
       "2018-12-22    840\n",
       "2018-12-19    839\n",
       "2018-12-20    808\n",
       "             ... \n",
       "2019-06-24    612\n",
       "2018-10-18    611\n",
       "2018-11-25    610\n",
       "2018-09-22    609\n",
       "2019-06-13    607\n",
       "Name: DATE, Length: 364, dtype: int64"
      ]
     },
     "execution_count": 19,
     "metadata": {},
     "output_type": "execute_result"
    }
   ],
   "source": [
    "#### Count the number of transactions by date\n",
    "\n",
    "df_transaction['DATE'].value_counts()"
   ]
  },
  {
   "cell_type": "code",
   "execution_count": 26,
   "metadata": {},
   "outputs": [
    {
     "data": {
      "text/html": [
       "<div>\n",
       "<style scoped>\n",
       "    .dataframe tbody tr th:only-of-type {\n",
       "        vertical-align: middle;\n",
       "    }\n",
       "\n",
       "    .dataframe tbody tr th {\n",
       "        vertical-align: top;\n",
       "    }\n",
       "\n",
       "    .dataframe thead th {\n",
       "        text-align: right;\n",
       "    }\n",
       "</style>\n",
       "<table border=\"1\" class=\"dataframe\">\n",
       "  <thead>\n",
       "    <tr style=\"text-align: right;\">\n",
       "      <th></th>\n",
       "      <th>DATE</th>\n",
       "      <th>STORE_NBR</th>\n",
       "      <th>LYLTY_CARD_NBR</th>\n",
       "      <th>TXN_ID</th>\n",
       "      <th>PROD_NBR</th>\n",
       "      <th>PROD_NAME</th>\n",
       "      <th>PROD_QTY</th>\n",
       "      <th>TOT_SALES</th>\n",
       "    </tr>\n",
       "  </thead>\n",
       "  <tbody>\n",
       "    <tr>\n",
       "      <th>120465</th>\n",
       "      <td>2018-12-25</td>\n",
       "      <td>NaN</td>\n",
       "      <td>NaN</td>\n",
       "      <td>NaN</td>\n",
       "      <td>NaN</td>\n",
       "      <td>NaN</td>\n",
       "      <td>NaN</td>\n",
       "      <td>NaN</td>\n",
       "    </tr>\n",
       "  </tbody>\n",
       "</table>\n",
       "</div>"
      ],
      "text/plain": [
       "             DATE  STORE_NBR  LYLTY_CARD_NBR  TXN_ID  PROD_NBR PROD_NAME  \\\n",
       "120465 2018-12-25        NaN             NaN     NaN       NaN       NaN   \n",
       "\n",
       "        PROD_QTY  TOT_SALES  \n",
       "120465       NaN        NaN  "
      ]
     },
     "execution_count": 26,
     "metadata": {},
     "output_type": "execute_result"
    }
   ],
   "source": [
    "date_range = pd.date_range(start=df_transaction[\"DATE\"].min(), \n",
    "                           end=df_transaction[\"DATE\"].max(), freq='D')\n",
    "df_date = pd.DataFrame(date_range, columns=['DATE'])\n",
    "df_date_check = df_date.merge(df_transaction, how='left', on='DATE')\n",
    "df_date_check[df_date_check.isnull().any(axis=1)]\n"
   ]
  },
  {
   "cell_type": "markdown",
   "metadata": {},
   "source": [
    "#### We could see 2018-12-25 has no transaction"
   ]
  },
  {
   "cell_type": "markdown",
   "metadata": {},
   "source": []
  },
  {
   "cell_type": "code",
   "execution_count": 30,
   "metadata": {},
   "outputs": [
    {
     "data": {
      "image/png": "[encoded data removed]",
      "text/plain": [
       "<Figure size 1500x300 with 1 Axes>"
      ]
     },
     "metadata": {},
     "output_type": "display_data"
    },
    {
     "data": {
      "text/plain": [
       "<Figure size 640x480 with 0 Axes>"
      ]
     },
     "metadata": {},
     "output_type": "display_data"
    }
   ],
   "source": [
    "trans_date = df_date_check['DATE'].value_counts()\n",
    "\n",
    "df_trans_date = pd.DataFrame(trans_date)\n",
    "df_trans_date_reset = df_trans_date.reset_index()\n",
    "df_trans_date_reset.columns = ['date', 'sale']\n",
    "ax = df_trans_date_reset.plot('date' , 'sale',figsize=(15,3), color='darkred')\n",
    "plt.title(\"Sales from July 2018 to June 2019\", fontsize=20, fontweight='bold', color='darkred')\n",
    "plt.xlabel(\"Date\", fontsize=15, fontweight='bold', color='brown')\n",
    "plt.ylabel(\"Number of Sales\", fontsize=10, fontweight='bold', color='brown')\n",
    "plt.legend()\n",
    "plt.show()\n",
    "#transa_date.DATE =pd.to_datetime(transa_date['DATE'], format='%Y-%m-%d')\n",
    "\n",
    "#plt.plot( df_trans_date_reset.date,df_trans_date_reset.sale)\n",
    "\n",
    "#ax = df_trans_date_reset.plot(figsize=(15,3), color='orange')\n",
    "plt. savefig(\"plot1\") "
   ]
  },
  {
   "cell_type": "markdown",
   "metadata": {},
   "source": [
    "This is because store closed on Christmas day. Then zoom into December sales in 2018"
   ]
  },
  {
   "cell_type": "code",
   "execution_count": 34,
   "metadata": {},
   "outputs": [
    {
     "data": {
      "image/png": "[encoded data removed]",
      "text/plain": [
       "<Figure size 1500x300 with 1 Axes>"
      ]
     },
     "metadata": {},
     "output_type": "display_data"
    }
   ],
   "source": [
    "df_trans_dec = df_trans_date_reset[(df_trans_date_reset['date'] >= '2018-12-01') & (df_trans_date_reset['date'] <= '2018-12-31')]\n",
    "ax = df_trans_dec.plot('date' , 'sale',figsize=(15,3), color='darkred')\n",
    "plt.title(\"Sales of Dec in 2018\", fontsize=20, fontweight='bold', color='brown')\n",
    "plt.xlabel(\"Date\", fontsize=15, fontweight='bold', color='brown')\n",
    "plt.ylabel(\"Number of Sales\", fontsize=10, fontweight='bold', color='brown')\n",
    "plt.legend()\n",
    "plt.show()\n",
    "\n"
   ]
  },
  {
   "cell_type": "markdown",
   "metadata": {},
   "source": [
    "---------------------------------------------------------------------------------------------------------"
   ]
  },
  {
   "cell_type": "code",
   "execution_count": 35,
   "metadata": {},
   "outputs": [],
   "source": [
    "#merge two dataset\n",
    "\n",
    "df_all = df_transaction.merge(df_behavir, how='left', on='LYLTY_CARD_NBR')\n"
   ]
  },
  {
   "cell_type": "code",
   "execution_count": 36,
   "metadata": {},
   "outputs": [
    {
     "name": "stderr",
     "output_type": "stream",
     "text": [
      "/var/folders/qc/zvz1knc173n7lpbcfzncj0_h0000gn/T/ipykernel_54847/2040469289.py:2: FutureWarning: The default value of regex will change from True to False in a future version.\n",
      "  df_all['PROD_NAME'] = df_all['PROD_NAME'].str.replace(r'[0-9]+(G)','g')\n"
     ]
    },
    {
     "name": "stdout",
     "output_type": "stream",
     "text": [
      "count    240676.000000\n",
      "mean        175.302286\n",
      "std          60.014468\n",
      "min          70.000000\n",
      "25%         150.000000\n",
      "50%         170.000000\n",
      "75%         175.000000\n",
      "max         380.000000\n",
      "Name: 0, dtype: float64\n",
      "175.0    64929\n",
      "150.0    38705\n",
      "134.0    25102\n",
      "110.0    22387\n",
      "170.0    19983\n",
      "165.0    15297\n",
      "330.0    12540\n",
      "380.0     6416\n",
      "270.0     6285\n",
      "200.0     4473\n",
      "135.0     3257\n",
      "250.0     3169\n",
      "210.0     3167\n",
      "90.0      3008\n",
      "190.0     2995\n",
      "160.0     2970\n",
      "220.0     1564\n",
      "70.0      1507\n",
      "180.0     1468\n",
      "125.0     1454\n",
      "Name: 0, dtype: int64\n"
     ]
    },
    {
     "data": {
      "image/png": "[encoded data removed]",
      "text/plain": [
       "<Figure size 1500x300 with 1 Axes>"
      ]
     },
     "metadata": {},
     "output_type": "display_data"
    }
   ],
   "source": [
    "#analyse pack sizes\n",
    "df_all['PROD_NAME'] = df_all['PROD_NAME'].str.replace(r'[0-9]+(G)','g')\n",
    "\n",
    "pack_size =df_all['PROD_NAME'].str.extract(r'([0-9]+[gG])')[0].str.replace(\"g\",\"\").astype(\"float\")\n",
    "\n",
    "print(pack_size.describe())\n",
    "print(pack_size.value_counts())\n",
    "\n",
    "pack_size.plot.hist(figsize=(15,3), color='darkred')\n",
    "plt.show()"
   ]
  },
  {
   "cell_type": "code",
   "execution_count": 37,
   "metadata": {},
   "outputs": [],
   "source": [
    "df_all['PROD_NAME'].str.split(\" \",expand=True)[0].value_counts().sort_index()\n",
    "\n",
    "df_all[\"BRAND_NAME\"] = df_all['PROD_NAME'].str.split(\" \",expand=True)[0]\n",
    "#df_all[df_all['BRAND_NAME']==\"WW\"]"
   ]
  },
  {
   "cell_type": "code",
   "execution_count": 38,
   "metadata": {},
   "outputs": [
    {
     "data": {
      "text/plain": [
       "0          Natural\n",
       "1              CCs\n",
       "2           Smiths\n",
       "3           Smiths\n",
       "4           Kettle\n",
       "            ...   \n",
       "246735      Kettle\n",
       "246736    Tostitos\n",
       "246737     Doritos\n",
       "246738     Doritos\n",
       "246739    Tostitos\n",
       "Name: BRAND_NAME, Length: 246740, dtype: object"
      ]
     },
     "execution_count": 38,
     "metadata": {},
     "output_type": "execute_result"
    }
   ],
   "source": [
    "df_all['PROD_NAME'].str.split(\" \",expand=True)[0].value_counts().sort_index()\n",
    "df_all['BRAND_NAME'] = df_all['PROD_NAME'].str.split(\" \",expand=True)[0]\n",
    "df_all['BRAND_NAME']"
   ]
  },
  {
   "cell_type": "markdown",
   "metadata": {},
   "source": [
    "PROD_NAME Column:ensure all chips "
   ]
  },
  {
   "cell_type": "code",
   "execution_count": 39,
   "metadata": {},
   "outputs": [],
   "source": [
    "#### Brands\n",
    "\n",
    "def rename_brand(line):\n",
    "    brand = line[\"BRAND_NAME\"]\n",
    "    \n",
    "    if brand  == \"Red\":\n",
    "        return \"red\"\n",
    "    elif brand  == \"Natural\" or brand == \"NCC\":\n",
    "        return \"Natural Chip Co\"\n",
    "    elif brand == \"Dorito\":\n",
    "        return \"Doritos\"\n",
    "    elif brand == \"Smith\":\n",
    "        return \"Smiths\"\n",
    "    elif brand == \"Snbts\":\n",
    "        return \"Sunbites\"\n",
    "    elif brand == \"WW\":\n",
    "        return \"Woolworths\"\n",
    "    elif brand == \"GrnWves\" or brand == \"Grain\":\n",
    "        return \"Grain Waves\"\n",
    "    elif brand == \"Infzns\":\n",
    "        return \"Infuzions\"\n",
    "    else:\n",
    "        return brand\n",
    "    \n",
    "df_all['BRAND_NAME'] = df_all.apply(lambda line: rename_brand(line), axis = 1)\n"
   ]
  },
  {
   "cell_type": "code",
   "execution_count": 40,
   "metadata": {},
   "outputs": [
    {
     "data": {
      "text/plain": [
       "<Axes: >"
      ]
     },
     "execution_count": 40,
     "metadata": {},
     "output_type": "execute_result"
    },
    {
     "data": {
      "image/png": "[encoded data removed]",
      "text/plain": [
       "<Figure size 1500x600 with 1 Axes>"
      ]
     },
     "metadata": {},
     "output_type": "display_data"
    }
   ],
   "source": [
    "df_all['BRAND_NAME'].value_counts(ascending=True).plot.barh(figsize=(15,6), color='darkred')"
   ]
  },
  {
   "cell_type": "markdown",
   "metadata": {},
   "source": [
    "## Data analysis on customer segments\n"
   ]
  },
  {
   "cell_type": "markdown",
   "metadata": {},
   "source": [
    "### Who spends the most on chips?"
   ]
  },
  {
   "cell_type": "code",
   "execution_count": 41,
   "metadata": {},
   "outputs": [
    {
     "data": {
      "text/plain": [
       "LIFESTAGE\n",
       "MIDAGE SINGLES/COUPLES    23398\n",
       "NEW FAMILIES               6497\n",
       "OLDER FAMILIES            45158\n",
       "OLDER SINGLES/COUPLES     50793\n",
       "RETIREES                  46431\n",
       "YOUNG FAMILIES            40494\n",
       "YOUNG SINGLES/COUPLES     33969\n",
       "Name: LIFESTAGE, dtype: int64"
      ]
     },
     "execution_count": 41,
     "metadata": {},
     "output_type": "execute_result"
    }
   ],
   "source": [
    "#### Examining the values of lifestage and premium_customer\n",
    "df_all.groupby('LIFESTAGE')['LIFESTAGE'].count()\n"
   ]
  },
  {
   "cell_type": "code",
   "execution_count": 42,
   "metadata": {},
   "outputs": [
    {
     "data": {
      "text/plain": [
       "PREMIUM_CUSTOMER\n",
       "Budget        86762\n",
       "Mainstream    95043\n",
       "Premium       64935\n",
       "Name: PREMIUM_CUSTOMER, dtype: int64"
      ]
     },
     "execution_count": 42,
     "metadata": {},
     "output_type": "execute_result"
    }
   ],
   "source": [
    "df_all.groupby('PREMIUM_CUSTOMER')['PREMIUM_CUSTOMER'].count()"
   ]
  },
  {
   "cell_type": "code",
   "execution_count": 43,
   "metadata": {},
   "outputs": [
    {
     "data": {
      "text/html": [
       "<div>\n",
       "<style scoped>\n",
       "    .dataframe tbody tr th:only-of-type {\n",
       "        vertical-align: middle;\n",
       "    }\n",
       "\n",
       "    .dataframe tbody tr th {\n",
       "        vertical-align: top;\n",
       "    }\n",
       "\n",
       "    .dataframe thead th {\n",
       "        text-align: right;\n",
       "    }\n",
       "</style>\n",
       "<table border=\"1\" class=\"dataframe\">\n",
       "  <thead>\n",
       "    <tr style=\"text-align: right;\">\n",
       "      <th></th>\n",
       "      <th>LIFESTAGE</th>\n",
       "      <th>PREMIUM_CUSTOMER</th>\n",
       "      <th>TOT_SALES</th>\n",
       "    </tr>\n",
       "  </thead>\n",
       "  <tbody>\n",
       "    <tr>\n",
       "      <th>0</th>\n",
       "      <td>MIDAGE SINGLES/COUPLES</td>\n",
       "      <td>Budget</td>\n",
       "      <td>33345.70</td>\n",
       "    </tr>\n",
       "    <tr>\n",
       "      <th>1</th>\n",
       "      <td>MIDAGE SINGLES/COUPLES</td>\n",
       "      <td>Mainstream</td>\n",
       "      <td>84734.25</td>\n",
       "    </tr>\n",
       "    <tr>\n",
       "      <th>2</th>\n",
       "      <td>MIDAGE SINGLES/COUPLES</td>\n",
       "      <td>Premium</td>\n",
       "      <td>54443.85</td>\n",
       "    </tr>\n",
       "    <tr>\n",
       "      <th>3</th>\n",
       "      <td>NEW FAMILIES</td>\n",
       "      <td>Budget</td>\n",
       "      <td>20607.45</td>\n",
       "    </tr>\n",
       "    <tr>\n",
       "      <th>4</th>\n",
       "      <td>NEW FAMILIES</td>\n",
       "      <td>Mainstream</td>\n",
       "      <td>15979.70</td>\n",
       "    </tr>\n",
       "    <tr>\n",
       "      <th>5</th>\n",
       "      <td>NEW FAMILIES</td>\n",
       "      <td>Premium</td>\n",
       "      <td>10760.80</td>\n",
       "    </tr>\n",
       "    <tr>\n",
       "      <th>6</th>\n",
       "      <td>OLDER FAMILIES</td>\n",
       "      <td>Budget</td>\n",
       "      <td>156863.75</td>\n",
       "    </tr>\n",
       "    <tr>\n",
       "      <th>7</th>\n",
       "      <td>OLDER FAMILIES</td>\n",
       "      <td>Mainstream</td>\n",
       "      <td>96413.55</td>\n",
       "    </tr>\n",
       "    <tr>\n",
       "      <th>8</th>\n",
       "      <td>OLDER FAMILIES</td>\n",
       "      <td>Premium</td>\n",
       "      <td>75242.60</td>\n",
       "    </tr>\n",
       "    <tr>\n",
       "      <th>9</th>\n",
       "      <td>OLDER SINGLES/COUPLES</td>\n",
       "      <td>Budget</td>\n",
       "      <td>127833.60</td>\n",
       "    </tr>\n",
       "    <tr>\n",
       "      <th>10</th>\n",
       "      <td>OLDER SINGLES/COUPLES</td>\n",
       "      <td>Mainstream</td>\n",
       "      <td>124648.50</td>\n",
       "    </tr>\n",
       "    <tr>\n",
       "      <th>11</th>\n",
       "      <td>OLDER SINGLES/COUPLES</td>\n",
       "      <td>Premium</td>\n",
       "      <td>123537.55</td>\n",
       "    </tr>\n",
       "    <tr>\n",
       "      <th>12</th>\n",
       "      <td>RETIREES</td>\n",
       "      <td>Budget</td>\n",
       "      <td>105916.30</td>\n",
       "    </tr>\n",
       "    <tr>\n",
       "      <th>13</th>\n",
       "      <td>RETIREES</td>\n",
       "      <td>Mainstream</td>\n",
       "      <td>145168.95</td>\n",
       "    </tr>\n",
       "    <tr>\n",
       "      <th>14</th>\n",
       "      <td>RETIREES</td>\n",
       "      <td>Premium</td>\n",
       "      <td>91296.65</td>\n",
       "    </tr>\n",
       "    <tr>\n",
       "      <th>15</th>\n",
       "      <td>YOUNG FAMILIES</td>\n",
       "      <td>Budget</td>\n",
       "      <td>129717.95</td>\n",
       "    </tr>\n",
       "    <tr>\n",
       "      <th>16</th>\n",
       "      <td>YOUNG FAMILIES</td>\n",
       "      <td>Mainstream</td>\n",
       "      <td>86338.25</td>\n",
       "    </tr>\n",
       "    <tr>\n",
       "      <th>17</th>\n",
       "      <td>YOUNG FAMILIES</td>\n",
       "      <td>Premium</td>\n",
       "      <td>78571.70</td>\n",
       "    </tr>\n",
       "    <tr>\n",
       "      <th>18</th>\n",
       "      <td>YOUNG SINGLES/COUPLES</td>\n",
       "      <td>Budget</td>\n",
       "      <td>57122.10</td>\n",
       "    </tr>\n",
       "    <tr>\n",
       "      <th>19</th>\n",
       "      <td>YOUNG SINGLES/COUPLES</td>\n",
       "      <td>Mainstream</td>\n",
       "      <td>147582.20</td>\n",
       "    </tr>\n",
       "    <tr>\n",
       "      <th>20</th>\n",
       "      <td>YOUNG SINGLES/COUPLES</td>\n",
       "      <td>Premium</td>\n",
       "      <td>39052.30</td>\n",
       "    </tr>\n",
       "  </tbody>\n",
       "</table>\n",
       "</div>"
      ],
      "text/plain": [
       "                 LIFESTAGE PREMIUM_CUSTOMER  TOT_SALES\n",
       "0   MIDAGE SINGLES/COUPLES           Budget   33345.70\n",
       "1   MIDAGE SINGLES/COUPLES       Mainstream   84734.25\n",
       "2   MIDAGE SINGLES/COUPLES          Premium   54443.85\n",
       "3             NEW FAMILIES           Budget   20607.45\n",
       "4             NEW FAMILIES       Mainstream   15979.70\n",
       "5             NEW FAMILIES          Premium   10760.80\n",
       "6           OLDER FAMILIES           Budget  156863.75\n",
       "7           OLDER FAMILIES       Mainstream   96413.55\n",
       "8           OLDER FAMILIES          Premium   75242.60\n",
       "9    OLDER SINGLES/COUPLES           Budget  127833.60\n",
       "10   OLDER SINGLES/COUPLES       Mainstream  124648.50\n",
       "11   OLDER SINGLES/COUPLES          Premium  123537.55\n",
       "12                RETIREES           Budget  105916.30\n",
       "13                RETIREES       Mainstream  145168.95\n",
       "14                RETIREES          Premium   91296.65\n",
       "15          YOUNG FAMILIES           Budget  129717.95\n",
       "16          YOUNG FAMILIES       Mainstream   86338.25\n",
       "17          YOUNG FAMILIES          Premium   78571.70\n",
       "18   YOUNG SINGLES/COUPLES           Budget   57122.10\n",
       "19   YOUNG SINGLES/COUPLES       Mainstream  147582.20\n",
       "20   YOUNG SINGLES/COUPLES          Premium   39052.30"
      ]
     },
     "execution_count": 43,
     "metadata": {},
     "output_type": "execute_result"
    }
   ],
   "source": [
    "#### Total sales by LIFESTAGE and PREMIUM_CUSTOMER\n",
    "\n",
    "customer_sales = pd.DataFrame(df_all.groupby(['LIFESTAGE', 'PREMIUM_CUSTOMER'])[\"TOT_SALES\"].sum()).reset_index()\n",
    "customer_sales\n",
    "#pd.crosstab(customer_sales['LIFESTAGE'],customer_sales['PREMIUM_CUSTOMER'])\n",
    "#pivot_df = customer_sales.pivot(index = 'LIFESTAGE', columns = 'PREMIUM_CUSTOMER', values='TOT_SALES')\n",
    "#pivot_customer.reset_index()\n",
    "#pivot_df.reset_index(inplace=True)\n",
    "#pivot_df.columns = ['LIFESTAGE'] + ['PREMIUM_CUSTOMER_' + col for col in pivot_df.columns[1:]]\n",
    "#customer_sales.reset_index().dtypes\n",
    "#customer_sales.sort_values(ascending = True, by = )\n",
    "\n"
   ]
  },
  {
   "cell_type": "code",
   "execution_count": 44,
   "metadata": {},
   "outputs": [
    {
     "data": {
      "text/html": [
       "<div>\n",
       "<style scoped>\n",
       "    .dataframe tbody tr th:only-of-type {\n",
       "        vertical-align: middle;\n",
       "    }\n",
       "\n",
       "    .dataframe tbody tr th {\n",
       "        vertical-align: top;\n",
       "    }\n",
       "\n",
       "    .dataframe thead th {\n",
       "        text-align: right;\n",
       "    }\n",
       "</style>\n",
       "<table border=\"1\" class=\"dataframe\">\n",
       "  <thead>\n",
       "    <tr style=\"text-align: right;\">\n",
       "      <th>PREMIUM_CUSTOMER</th>\n",
       "      <th>Budget</th>\n",
       "      <th>Mainstream</th>\n",
       "      <th>Premium</th>\n",
       "      <th>Total</th>\n",
       "    </tr>\n",
       "    <tr>\n",
       "      <th>LIFESTAGE</th>\n",
       "      <th></th>\n",
       "      <th></th>\n",
       "      <th></th>\n",
       "      <th></th>\n",
       "    </tr>\n",
       "  </thead>\n",
       "  <tbody>\n",
       "    <tr>\n",
       "      <th>MIDAGE SINGLES/COUPLES</th>\n",
       "      <td>33345.70</td>\n",
       "      <td>84734.25</td>\n",
       "      <td>54443.85</td>\n",
       "      <td>172523.80</td>\n",
       "    </tr>\n",
       "    <tr>\n",
       "      <th>NEW FAMILIES</th>\n",
       "      <td>20607.45</td>\n",
       "      <td>15979.70</td>\n",
       "      <td>10760.80</td>\n",
       "      <td>47347.95</td>\n",
       "    </tr>\n",
       "    <tr>\n",
       "      <th>OLDER FAMILIES</th>\n",
       "      <td>156863.75</td>\n",
       "      <td>96413.55</td>\n",
       "      <td>75242.60</td>\n",
       "      <td>328519.90</td>\n",
       "    </tr>\n",
       "    <tr>\n",
       "      <th>OLDER SINGLES/COUPLES</th>\n",
       "      <td>127833.60</td>\n",
       "      <td>124648.50</td>\n",
       "      <td>123537.55</td>\n",
       "      <td>376019.65</td>\n",
       "    </tr>\n",
       "    <tr>\n",
       "      <th>RETIREES</th>\n",
       "      <td>105916.30</td>\n",
       "      <td>145168.95</td>\n",
       "      <td>91296.65</td>\n",
       "      <td>342381.90</td>\n",
       "    </tr>\n",
       "    <tr>\n",
       "      <th>YOUNG FAMILIES</th>\n",
       "      <td>129717.95</td>\n",
       "      <td>86338.25</td>\n",
       "      <td>78571.70</td>\n",
       "      <td>294627.90</td>\n",
       "    </tr>\n",
       "    <tr>\n",
       "      <th>YOUNG SINGLES/COUPLES</th>\n",
       "      <td>57122.10</td>\n",
       "      <td>147582.20</td>\n",
       "      <td>39052.30</td>\n",
       "      <td>243756.60</td>\n",
       "    </tr>\n",
       "    <tr>\n",
       "      <th>Total</th>\n",
       "      <td>631406.85</td>\n",
       "      <td>700865.40</td>\n",
       "      <td>472905.45</td>\n",
       "      <td>1805177.70</td>\n",
       "    </tr>\n",
       "  </tbody>\n",
       "</table>\n",
       "</div>"
      ],
      "text/plain": [
       "PREMIUM_CUSTOMER           Budget  Mainstream    Premium       Total\n",
       "LIFESTAGE                                                           \n",
       "MIDAGE SINGLES/COUPLES   33345.70    84734.25   54443.85   172523.80\n",
       "NEW FAMILIES             20607.45    15979.70   10760.80    47347.95\n",
       "OLDER FAMILIES          156863.75    96413.55   75242.60   328519.90\n",
       "OLDER SINGLES/COUPLES   127833.60   124648.50  123537.55   376019.65\n",
       "RETIREES                105916.30   145168.95   91296.65   342381.90\n",
       "YOUNG FAMILIES          129717.95    86338.25   78571.70   294627.90\n",
       "YOUNG SINGLES/COUPLES    57122.10   147582.20   39052.30   243756.60\n",
       "Total                   631406.85   700865.40  472905.45  1805177.70"
      ]
     },
     "execution_count": 44,
     "metadata": {},
     "output_type": "execute_result"
    }
   ],
   "source": [
    "#pivot_df = customer_sales.pivot_table(index = 'LIFESTAGE', columns = 'PREMIUM_CUSTOMER', values='TOT_SALES')\n",
    "pivot_df = pd.crosstab(index = customer_sales['LIFESTAGE'], columns = customer_sales['PREMIUM_CUSTOMER'], values=customer_sales['TOT_SALES'],aggfunc=sum,margins = True,margins_name= \"Total\")\n",
    "pivot_df = pd.DataFrame(pivot_df)\n",
    "pivot_df"
   ]
  },
  {
   "cell_type": "code",
   "execution_count": 45,
   "metadata": {},
   "outputs": [
    {
     "data": {
      "text/html": [
       "<div>\n",
       "<style scoped>\n",
       "    .dataframe tbody tr th:only-of-type {\n",
       "        vertical-align: middle;\n",
       "    }\n",
       "\n",
       "    .dataframe tbody tr th {\n",
       "        vertical-align: top;\n",
       "    }\n",
       "\n",
       "    .dataframe thead th {\n",
       "        text-align: right;\n",
       "    }\n",
       "</style>\n",
       "<table border=\"1\" class=\"dataframe\">\n",
       "  <thead>\n",
       "    <tr style=\"text-align: right;\">\n",
       "      <th>PREMIUM_CUSTOMER</th>\n",
       "      <th>Budget</th>\n",
       "      <th>Mainstream</th>\n",
       "      <th>Premium</th>\n",
       "    </tr>\n",
       "    <tr>\n",
       "      <th>LIFESTAGE</th>\n",
       "      <th></th>\n",
       "      <th></th>\n",
       "      <th></th>\n",
       "    </tr>\n",
       "  </thead>\n",
       "  <tbody>\n",
       "    <tr>\n",
       "      <th>MIDAGE SINGLES/COUPLES</th>\n",
       "      <td>0.018472</td>\n",
       "      <td>0.046940</td>\n",
       "      <td>0.030160</td>\n",
       "    </tr>\n",
       "    <tr>\n",
       "      <th>NEW FAMILIES</th>\n",
       "      <td>0.011416</td>\n",
       "      <td>0.008852</td>\n",
       "      <td>0.005961</td>\n",
       "    </tr>\n",
       "    <tr>\n",
       "      <th>OLDER FAMILIES</th>\n",
       "      <td>0.086897</td>\n",
       "      <td>0.053409</td>\n",
       "      <td>0.041682</td>\n",
       "    </tr>\n",
       "    <tr>\n",
       "      <th>OLDER SINGLES/COUPLES</th>\n",
       "      <td>0.070815</td>\n",
       "      <td>0.069051</td>\n",
       "      <td>0.068435</td>\n",
       "    </tr>\n",
       "    <tr>\n",
       "      <th>RETIREES</th>\n",
       "      <td>0.058674</td>\n",
       "      <td>0.080418</td>\n",
       "      <td>0.050575</td>\n",
       "    </tr>\n",
       "    <tr>\n",
       "      <th>YOUNG FAMILIES</th>\n",
       "      <td>0.071859</td>\n",
       "      <td>0.047828</td>\n",
       "      <td>0.043526</td>\n",
       "    </tr>\n",
       "    <tr>\n",
       "      <th>YOUNG SINGLES/COUPLES</th>\n",
       "      <td>0.031643</td>\n",
       "      <td>0.081755</td>\n",
       "      <td>0.021633</td>\n",
       "    </tr>\n",
       "  </tbody>\n",
       "</table>\n",
       "</div>"
      ],
      "text/plain": [
       "PREMIUM_CUSTOMER          Budget  Mainstream   Premium\n",
       "LIFESTAGE                                             \n",
       "MIDAGE SINGLES/COUPLES  0.018472    0.046940  0.030160\n",
       "NEW FAMILIES            0.011416    0.008852  0.005961\n",
       "OLDER FAMILIES          0.086897    0.053409  0.041682\n",
       "OLDER SINGLES/COUPLES   0.070815    0.069051  0.068435\n",
       "RETIREES                0.058674    0.080418  0.050575\n",
       "YOUNG FAMILIES          0.071859    0.047828  0.043526\n",
       "YOUNG SINGLES/COUPLES   0.031643    0.081755  0.021633"
      ]
     },
     "execution_count": 45,
     "metadata": {},
     "output_type": "execute_result"
    }
   ],
   "source": [
    "pivot_df_per = pivot_df.apply(lambda r: r/pivot_df['Total'][-1].round(2), axis=1).drop('Total', axis=1).drop('Total')\n",
    "pivot_df_per"
   ]
  },
  {
   "cell_type": "code",
   "execution_count": 46,
   "metadata": {
    "scrolled": true
   },
   "outputs": [
    {
     "name": "stderr",
     "output_type": "stream",
     "text": [
      "/var/folders/qc/zvz1knc173n7lpbcfzncj0_h0000gn/T/ipykernel_54847/2606990425.py:11: UserWarning: FixedFormatter should only be used together with FixedLocator\n",
      "  ax.set_xticklabels([''] + pivot_df_per.columns.tolist())\n",
      "/var/folders/qc/zvz1knc173n7lpbcfzncj0_h0000gn/T/ipykernel_54847/2606990425.py:12: UserWarning: FixedFormatter should only be used together with FixedLocator\n",
      "  ax.set_yticklabels([''] + pivot_df_per.index.tolist())\n"
     ]
    },
    {
     "data": {
      "image/png": "[encoded data removed]",
      "text/plain": [
       "<Figure size 400x800 with 2 Axes>"
      ]
     },
     "metadata": {},
     "output_type": "display_data"
    }
   ],
   "source": [
    "##plot: sales and customer categories \n",
    "##plot: use color \n",
    "import pandas as pd\n",
    "import matplotlib.pyplot as plt\n",
    "\n",
    "fig, ax = plt.subplots(figsize=(4, 8))\n",
    "cax = ax.matshow(pivot_df_per, cmap=plt.cm.Blues)\n",
    "fig.colorbar(cax)\n",
    "\n",
    "# Set the x and y-axis labels\n",
    "ax.set_xticklabels([''] + pivot_df_per.columns.tolist())\n",
    "ax.set_yticklabels([''] + pivot_df_per.index.tolist())\n",
    "\n",
    "\n",
    "# Rotate x-axis labels\n",
    "ax.xaxis.set_ticks_position('bottom')\n",
    "plt.xticks(rotation=60)\n",
    "\n",
    "# Add a color legend\n",
    "for i in range(len(pivot_df_per.index)):\n",
    "    for j in range(len(pivot_df_per.columns)):\n",
    "        value = pivot_df_per.iloc[i, j]\n",
    "        text = ax.text(j, i, f'{value:.2%}', ha='center', va='center', color='w')\n",
    "# Set plot title\n",
    "plt.title(\"Proportion of Sales\")\n",
    "\n",
    "# Show the plot\n",
    "plt.show()"
   ]
  },
  {
   "cell_type": "markdown",
   "metadata": {},
   "source": [
    "#### Summary: Sales are coming mainly from Budget - older families, Mainstream - young singles/couples, and Mainstream - retirees"
   ]
  },
  {
   "cell_type": "markdown",
   "metadata": {},
   "source": [
    "  "
   ]
  },
  {
   "cell_type": "markdown",
   "metadata": {},
   "source": [
    "### How many customers are in each segment?"
   ]
  },
  {
   "cell_type": "code",
   "execution_count": 101,
   "metadata": {},
   "outputs": [
    {
     "data": {
      "text/html": [
       "<div>\n",
       "<style scoped>\n",
       "    .dataframe tbody tr th:only-of-type {\n",
       "        vertical-align: middle;\n",
       "    }\n",
       "\n",
       "    .dataframe tbody tr th {\n",
       "        vertical-align: top;\n",
       "    }\n",
       "\n",
       "    .dataframe thead th {\n",
       "        text-align: right;\n",
       "    }\n",
       "</style>\n",
       "<table border=\"1\" class=\"dataframe\">\n",
       "  <thead>\n",
       "    <tr style=\"text-align: right;\">\n",
       "      <th>PREMIUM_CUSTOMER</th>\n",
       "      <th>Budget</th>\n",
       "      <th>Mainstream</th>\n",
       "      <th>Premium</th>\n",
       "    </tr>\n",
       "    <tr>\n",
       "      <th>LIFESTAGE</th>\n",
       "      <th></th>\n",
       "      <th></th>\n",
       "      <th></th>\n",
       "    </tr>\n",
       "  </thead>\n",
       "  <tbody>\n",
       "    <tr>\n",
       "      <th>MIDAGE SINGLES/COUPLES</th>\n",
       "      <td>4691</td>\n",
       "      <td>11095</td>\n",
       "      <td>7612</td>\n",
       "    </tr>\n",
       "    <tr>\n",
       "      <th>NEW FAMILIES</th>\n",
       "      <td>2824</td>\n",
       "      <td>2185</td>\n",
       "      <td>1488</td>\n",
       "    </tr>\n",
       "    <tr>\n",
       "      <th>OLDER FAMILIES</th>\n",
       "      <td>21514</td>\n",
       "      <td>13241</td>\n",
       "      <td>10403</td>\n",
       "    </tr>\n",
       "    <tr>\n",
       "      <th>OLDER SINGLES/COUPLES</th>\n",
       "      <td>17172</td>\n",
       "      <td>17061</td>\n",
       "      <td>16560</td>\n",
       "    </tr>\n",
       "    <tr>\n",
       "      <th>RETIREES</th>\n",
       "      <td>14225</td>\n",
       "      <td>19970</td>\n",
       "      <td>12236</td>\n",
       "    </tr>\n",
       "    <tr>\n",
       "      <th>YOUNG FAMILIES</th>\n",
       "      <td>17763</td>\n",
       "      <td>11947</td>\n",
       "      <td>10784</td>\n",
       "    </tr>\n",
       "    <tr>\n",
       "      <th>YOUNG SINGLES/COUPLES</th>\n",
       "      <td>8573</td>\n",
       "      <td>19544</td>\n",
       "      <td>5852</td>\n",
       "    </tr>\n",
       "  </tbody>\n",
       "</table>\n",
       "</div>"
      ],
      "text/plain": [
       "PREMIUM_CUSTOMER        Budget  Mainstream  Premium\n",
       "LIFESTAGE                                          \n",
       "MIDAGE SINGLES/COUPLES    4691       11095     7612\n",
       "NEW FAMILIES              2824        2185     1488\n",
       "OLDER FAMILIES           21514       13241    10403\n",
       "OLDER SINGLES/COUPLES    17172       17061    16560\n",
       "RETIREES                 14225       19970    12236\n",
       "YOUNG FAMILIES           17763       11947    10784\n",
       "YOUNG SINGLES/COUPLES     8573       19544     5852"
      ]
     },
     "execution_count": 101,
     "metadata": {},
     "output_type": "execute_result"
    }
   ],
   "source": [
    "customer_num = pd.DataFrame(df_all.groupby(['LIFESTAGE', 'PREMIUM_CUSTOMER']).value_counts()).reset_index()\n",
    "customer_num = customer_num.rename(columns = {0 : 'TOT_NUM'})\n",
    "\n",
    "pivot_num_df = pd.crosstab(index = customer_num['LIFESTAGE'], columns = customer_num['PREMIUM_CUSTOMER'], values=customer_num['TOT_NUM'], aggfunc=sum)\n",
    "#pivot_num_df = pd.DataFrame(pivot_num_df)\n",
    "pivot_num_df\n",
    "\n",
    "#pivot_num_df_per = pivot_num_df.apply(lambda r: r/pivot_num_df['Total'][-1].round(2), axis=1).drop('Total', axis=1).drop('Total')\n",
    "#pivot_num_df_per"
   ]
  },
  {
   "cell_type": "code",
   "execution_count": 102,
   "metadata": {},
   "outputs": [
    {
     "data": {
      "image/png": "[encoded data removed]",
      "text/plain": [
       "<Figure size 640x480 with 1 Axes>"
      ]
     },
     "metadata": {},
     "output_type": "display_data"
    }
   ],
   "source": [
    "\n",
    "pl = pivot_num_df.plot(kind=\"bar\", stacked=True, rot=0)\n",
    "pl.legend( bbox_to_anchor=(1, 1.02), \n",
    "         loc='upper left')\n",
    "pl.set_xticklabels(pl.get_xticklabels(), rotation=45, horizontalalignment='right')\n",
    "pl.set_title('Number of Customer in Each Segment')\n",
    "# for p in pl.patches:\n",
    "#     width, height = p.get_width(), p.get_height()\n",
    "#     x, y = p.get_xy()\n",
    "#     pl.annotate(f'{height:.2%}', (x + width / 2, y + height), ha='center', va='center', xytext=(0, 5), textcoords='offset points')\n",
    "\n",
    "plt.show()"
   ]
  },
  {
   "cell_type": "code",
   "execution_count": 51,
   "metadata": {},
   "outputs": [
    {
     "name": "stderr",
     "output_type": "stream",
     "text": [
      "/var/folders/qc/zvz1knc173n7lpbcfzncj0_h0000gn/T/ipykernel_54847/1146526402.py:9: UserWarning: FixedFormatter should only be used together with FixedLocator\n",
      "  ax.set_xticklabels([''] + pivot_num_df_per.columns.tolist())\n",
      "/var/folders/qc/zvz1knc173n7lpbcfzncj0_h0000gn/T/ipykernel_54847/1146526402.py:10: UserWarning: FixedFormatter should only be used together with FixedLocator\n",
      "  ax.set_yticklabels([''] + pivot_num_df_per.index.tolist())\n"
     ]
    },
    {
     "data": {
      "image/png": "[encoded data removed]",
      "text/plain": [
       "<Figure size 400x800 with 2 Axes>"
      ]
     },
     "metadata": {},
     "output_type": "display_data"
    }
   ],
   "source": [
    "import pandas as pd\n",
    "import matplotlib.pyplot as plt\n",
    "\n",
    "fig, ax = plt.subplots(figsize=(4, 8))\n",
    "cax = ax.matshow(pivot_num_df_per, cmap=plt.cm.Blues)\n",
    "fig.colorbar(cax)\n",
    "\n",
    "# Set the x and y-axis labels\n",
    "ax.set_xticklabels([''] + pivot_num_df_per.columns.tolist())\n",
    "ax.set_yticklabels([''] + pivot_num_df_per.index.tolist())\n",
    "\n",
    "\n",
    "# Rotate x-axis labels\n",
    "ax.xaxis.set_ticks_position('bottom')\n",
    "plt.xticks(rotation=60)\n",
    "\n",
    "# Add a color legend\n",
    "for i in range(len(pivot_num_df_per.index)):\n",
    "    for j in range(len(pivot_num_df_per.columns)):\n",
    "        value = pivot_num_df_per.iloc[i, j]\n",
    "        text = ax.text(j, i, f'{value:.2%}', ha='center', va='center', color='w')\n",
    "# Set plot title\n",
    "plt.title(\"Number of Customer\")\n",
    "\n",
    "# Show the plot\n",
    "plt.show()"
   ]
  },
  {
   "cell_type": "markdown",
   "metadata": {},
   "source": [
    "#### There are more Budget - older families, Mainstream - young singles/couples and Mainstream - retirees who buy chips. This contributes to there being more sales to these customer segments."
   ]
  },
  {
   "cell_type": "markdown",
   "metadata": {},
   "source": [
    "   "
   ]
  },
  {
   "cell_type": "markdown",
   "metadata": {},
   "source": [
    "\n",
    "### How many chips are bought per customer by segment?\n"
   ]
  },
  {
   "cell_type": "code",
   "execution_count": 53,
   "metadata": {},
   "outputs": [
    {
     "data": {
      "text/html": [
       "<div>\n",
       "<style scoped>\n",
       "    .dataframe tbody tr th:only-of-type {\n",
       "        vertical-align: middle;\n",
       "    }\n",
       "\n",
       "    .dataframe tbody tr th {\n",
       "        vertical-align: top;\n",
       "    }\n",
       "\n",
       "    .dataframe thead th {\n",
       "        text-align: right;\n",
       "    }\n",
       "</style>\n",
       "<table border=\"1\" class=\"dataframe\">\n",
       "  <thead>\n",
       "    <tr style=\"text-align: right;\">\n",
       "      <th></th>\n",
       "      <th>DATE</th>\n",
       "      <th>STORE_NBR</th>\n",
       "      <th>LYLTY_CARD_NBR</th>\n",
       "      <th>TXN_ID</th>\n",
       "      <th>PROD_NBR</th>\n",
       "      <th>PROD_NAME</th>\n",
       "      <th>PROD_QTY</th>\n",
       "      <th>TOT_SALES</th>\n",
       "      <th>LIFESTAGE</th>\n",
       "      <th>PREMIUM_CUSTOMER</th>\n",
       "      <th>BRAND_NAME</th>\n",
       "    </tr>\n",
       "  </thead>\n",
       "  <tbody>\n",
       "  </tbody>\n",
       "</table>\n",
       "</div>"
      ],
      "text/plain": [
       "Empty DataFrame\n",
       "Columns: [DATE, STORE_NBR, LYLTY_CARD_NBR, TXN_ID, PROD_NBR, PROD_NAME, PROD_QTY, TOT_SALES, LIFESTAGE, PREMIUM_CUSTOMER, BRAND_NAME]\n",
       "Index: []"
      ]
     },
     "execution_count": 53,
     "metadata": {},
     "output_type": "execute_result"
    }
   ],
   "source": [
    "\n",
    "df_all[df_all['BRAND_NAME']==\"WW\"]"
   ]
  },
  {
   "cell_type": "code",
   "execution_count": 54,
   "metadata": {},
   "outputs": [
    {
     "data": {
      "text/html": [
       "<div>\n",
       "<style scoped>\n",
       "    .dataframe tbody tr th:only-of-type {\n",
       "        vertical-align: middle;\n",
       "    }\n",
       "\n",
       "    .dataframe tbody tr th {\n",
       "        vertical-align: top;\n",
       "    }\n",
       "\n",
       "    .dataframe thead th {\n",
       "        text-align: right;\n",
       "    }\n",
       "</style>\n",
       "<table border=\"1\" class=\"dataframe\">\n",
       "  <thead>\n",
       "    <tr style=\"text-align: right;\">\n",
       "      <th></th>\n",
       "      <th>DATE</th>\n",
       "      <th>STORE_NBR</th>\n",
       "      <th>LYLTY_CARD_NBR</th>\n",
       "      <th>TXN_ID</th>\n",
       "      <th>PROD_NBR</th>\n",
       "      <th>PROD_NAME</th>\n",
       "      <th>PROD_QTY</th>\n",
       "      <th>TOT_SALES</th>\n",
       "      <th>LIFESTAGE</th>\n",
       "      <th>PREMIUM_CUSTOMER</th>\n",
       "      <th>BRAND_NAME</th>\n",
       "    </tr>\n",
       "  </thead>\n",
       "  <tbody>\n",
       "    <tr>\n",
       "      <th>0</th>\n",
       "      <td>2018-10-17</td>\n",
       "      <td>1</td>\n",
       "      <td>1000</td>\n",
       "      <td>1</td>\n",
       "      <td>5</td>\n",
       "      <td>Natural Chip        Compny SeaSalt175g</td>\n",
       "      <td>2</td>\n",
       "      <td>6.0</td>\n",
       "      <td>YOUNG SINGLES/COUPLES</td>\n",
       "      <td>Premium</td>\n",
       "      <td>Natural Chip Co</td>\n",
       "    </tr>\n",
       "    <tr>\n",
       "      <th>1</th>\n",
       "      <td>2019-05-14</td>\n",
       "      <td>1</td>\n",
       "      <td>1307</td>\n",
       "      <td>348</td>\n",
       "      <td>66</td>\n",
       "      <td>CCs Nacho Cheese    175g</td>\n",
       "      <td>3</td>\n",
       "      <td>6.3</td>\n",
       "      <td>MIDAGE SINGLES/COUPLES</td>\n",
       "      <td>Budget</td>\n",
       "      <td>CCs</td>\n",
       "    </tr>\n",
       "    <tr>\n",
       "      <th>2</th>\n",
       "      <td>2019-05-20</td>\n",
       "      <td>1</td>\n",
       "      <td>1343</td>\n",
       "      <td>383</td>\n",
       "      <td>61</td>\n",
       "      <td>Smiths Crinkle Cut  Chips Chicken 170g</td>\n",
       "      <td>2</td>\n",
       "      <td>2.9</td>\n",
       "      <td>MIDAGE SINGLES/COUPLES</td>\n",
       "      <td>Budget</td>\n",
       "      <td>Smiths</td>\n",
       "    </tr>\n",
       "    <tr>\n",
       "      <th>3</th>\n",
       "      <td>2018-08-17</td>\n",
       "      <td>2</td>\n",
       "      <td>2373</td>\n",
       "      <td>974</td>\n",
       "      <td>69</td>\n",
       "      <td>Smiths Chip Thinly  S/Cream&amp;Onion 175g</td>\n",
       "      <td>5</td>\n",
       "      <td>15.0</td>\n",
       "      <td>MIDAGE SINGLES/COUPLES</td>\n",
       "      <td>Budget</td>\n",
       "      <td>Smiths</td>\n",
       "    </tr>\n",
       "    <tr>\n",
       "      <th>4</th>\n",
       "      <td>2018-08-18</td>\n",
       "      <td>2</td>\n",
       "      <td>2426</td>\n",
       "      <td>1038</td>\n",
       "      <td>108</td>\n",
       "      <td>Kettle Tortilla ChpsHny&amp;Jlpno Chili 150g</td>\n",
       "      <td>3</td>\n",
       "      <td>13.8</td>\n",
       "      <td>MIDAGE SINGLES/COUPLES</td>\n",
       "      <td>Budget</td>\n",
       "      <td>Kettle</td>\n",
       "    </tr>\n",
       "  </tbody>\n",
       "</table>\n",
       "</div>"
      ],
      "text/plain": [
       "        DATE  STORE_NBR  LYLTY_CARD_NBR  TXN_ID  PROD_NBR  \\\n",
       "0 2018-10-17          1            1000       1         5   \n",
       "1 2019-05-14          1            1307     348        66   \n",
       "2 2019-05-20          1            1343     383        61   \n",
       "3 2018-08-17          2            2373     974        69   \n",
       "4 2018-08-18          2            2426    1038       108   \n",
       "\n",
       "                                  PROD_NAME  PROD_QTY  TOT_SALES  \\\n",
       "0    Natural Chip        Compny SeaSalt175g         2        6.0   \n",
       "1                  CCs Nacho Cheese    175g         3        6.3   \n",
       "2    Smiths Crinkle Cut  Chips Chicken 170g         2        2.9   \n",
       "3    Smiths Chip Thinly  S/Cream&Onion 175g         5       15.0   \n",
       "4  Kettle Tortilla ChpsHny&Jlpno Chili 150g         3       13.8   \n",
       "\n",
       "                LIFESTAGE PREMIUM_CUSTOMER       BRAND_NAME  \n",
       "0   YOUNG SINGLES/COUPLES          Premium  Natural Chip Co  \n",
       "1  MIDAGE SINGLES/COUPLES           Budget              CCs  \n",
       "2  MIDAGE SINGLES/COUPLES           Budget           Smiths  \n",
       "3  MIDAGE SINGLES/COUPLES           Budget           Smiths  \n",
       "4  MIDAGE SINGLES/COUPLES           Budget           Kettle  "
      ]
     },
     "execution_count": 54,
     "metadata": {},
     "output_type": "execute_result"
    }
   ],
   "source": [
    "df_all.head()"
   ]
  },
  {
   "cell_type": "code",
   "execution_count": 55,
   "metadata": {},
   "outputs": [
    {
     "data": {
      "text/html": [
       "<div>\n",
       "<style scoped>\n",
       "    .dataframe tbody tr th:only-of-type {\n",
       "        vertical-align: middle;\n",
       "    }\n",
       "\n",
       "    .dataframe tbody tr th {\n",
       "        vertical-align: top;\n",
       "    }\n",
       "\n",
       "    .dataframe thead th {\n",
       "        text-align: right;\n",
       "    }\n",
       "</style>\n",
       "<table border=\"1\" class=\"dataframe\">\n",
       "  <thead>\n",
       "    <tr style=\"text-align: right;\">\n",
       "      <th>PREMIUM_CUSTOMER</th>\n",
       "      <th>Budget</th>\n",
       "      <th>Mainstream</th>\n",
       "      <th>Premium</th>\n",
       "    </tr>\n",
       "    <tr>\n",
       "      <th>LIFESTAGE</th>\n",
       "      <th></th>\n",
       "      <th></th>\n",
       "      <th></th>\n",
       "    </tr>\n",
       "  </thead>\n",
       "  <tbody>\n",
       "    <tr>\n",
       "      <th>MIDAGE SINGLES/COUPLES</th>\n",
       "      <td>6.026459</td>\n",
       "      <td>6.432080</td>\n",
       "      <td>6.078514</td>\n",
       "    </tr>\n",
       "    <tr>\n",
       "      <th>NEW FAMILIES</th>\n",
       "      <td>4.821527</td>\n",
       "      <td>4.891566</td>\n",
       "      <td>4.815652</td>\n",
       "    </tr>\n",
       "    <tr>\n",
       "      <th>OLDER FAMILIES</th>\n",
       "      <td>9.076773</td>\n",
       "      <td>9.255380</td>\n",
       "      <td>9.071717</td>\n",
       "    </tr>\n",
       "    <tr>\n",
       "      <th>OLDER SINGLES/COUPLES</th>\n",
       "      <td>6.781398</td>\n",
       "      <td>6.712021</td>\n",
       "      <td>6.769543</td>\n",
       "    </tr>\n",
       "    <tr>\n",
       "      <th>RETIREES</th>\n",
       "      <td>6.141847</td>\n",
       "      <td>5.925920</td>\n",
       "      <td>6.103358</td>\n",
       "    </tr>\n",
       "    <tr>\n",
       "      <th>YOUNG FAMILIES</th>\n",
       "      <td>8.722995</td>\n",
       "      <td>8.638361</td>\n",
       "      <td>8.716013</td>\n",
       "    </tr>\n",
       "    <tr>\n",
       "      <th>YOUNG SINGLES/COUPLES</th>\n",
       "      <td>4.250069</td>\n",
       "      <td>4.575597</td>\n",
       "      <td>4.264113</td>\n",
       "    </tr>\n",
       "  </tbody>\n",
       "</table>\n",
       "</div>"
      ],
      "text/plain": [
       "PREMIUM_CUSTOMER          Budget  Mainstream   Premium\n",
       "LIFESTAGE                                             \n",
       "MIDAGE SINGLES/COUPLES  6.026459    6.432080  6.078514\n",
       "NEW FAMILIES            4.821527    4.891566  4.815652\n",
       "OLDER FAMILIES          9.076773    9.255380  9.071717\n",
       "OLDER SINGLES/COUPLES   6.781398    6.712021  6.769543\n",
       "RETIREES                6.141847    5.925920  6.103358\n",
       "YOUNG FAMILIES          8.722995    8.638361  8.716013\n",
       "YOUNG SINGLES/COUPLES   4.250069    4.575597  4.264113"
      ]
     },
     "execution_count": 55,
     "metadata": {},
     "output_type": "execute_result"
    }
   ],
   "source": [
    "customer_per_unit = pd.DataFrame(df_all.groupby(['PREMIUM_CUSTOMER','LIFESTAGE']).apply( lambda x:x['PROD_QTY'].sum()/x['LYLTY_CARD_NBR'].nunique())).reset_index()\n",
    "customer_per_unit = customer_per_unit .rename(columns = {0 : 'PER_UNIT'})\n",
    "\n",
    "customer_per_unit = pd.crosstab(index = customer_per_unit['LIFESTAGE'], columns = customer_per_unit['PREMIUM_CUSTOMER'], values = customer_per_unit['PER_UNIT'], aggfunc=sum)\n",
    "customer_per_unit = pd.DataFrame(customer_per_unit)\n",
    "customer_per_unit\n"
   ]
  },
  {
   "cell_type": "code",
   "execution_count": 56,
   "metadata": {},
   "outputs": [
    {
     "data": {
      "image/png": "[encoded data removed]",
      "text/plain": [
       "<Figure size 1000x600 with 1 Axes>"
      ]
     },
     "metadata": {},
     "output_type": "display_data"
    }
   ],
   "source": [
    "##doggy plot\n",
    "import numpy as np\n",
    "import matplotlib.pyplot as plt\n",
    "\n",
    "lifestages = customer_per_unit.index\n",
    "premium_customers = customer_per_unit.columns\n",
    "unit_prices = customer_per_unit.values.T\n",
    "\n",
    "bar_width = 0.2\n",
    "x = np.arange(len(lifestages))\n",
    "\n",
    "fig, ax = plt.subplots(figsize=(10, 6))\n",
    "\n",
    "\n",
    "for i, premium_customer in enumerate(premium_customers):\n",
    "    ax.bar(x + i * bar_width, unit_prices[i], bar_width, label=premium_customer)\n",
    "\n",
    "ax.set_xlabel('Lifestage')\n",
    "ax.set_ylabel('Units per Customer')\n",
    "ax.set_title('Units per Customer')\n",
    "ax.set_xticks(x + bar_width * (len(premium_customers) - 1) / 2)\n",
    "ax.set_xticklabels(lifestages, rotation=90)\n",
    "ax.legend(title='Premium Customer')\n",
    "\n",
    "plt.tight_layout()\n",
    "plt.show()"
   ]
  },
  {
   "cell_type": "markdown",
   "metadata": {},
   "source": [
    "#### Older families and young families in general buy more chips per customer"
   ]
  },
  {
   "cell_type": "markdown",
   "metadata": {},
   "source": [
    "  "
   ]
  },
  {
   "cell_type": "markdown",
   "metadata": {},
   "source": [
    "\n",
    "\n",
    "### What's the average chip price by customer segment?"
   ]
  },
  {
   "cell_type": "code",
   "execution_count": 57,
   "metadata": {},
   "outputs": [
    {
     "data": {
      "text/html": [
       "<div>\n",
       "<style scoped>\n",
       "    .dataframe tbody tr th:only-of-type {\n",
       "        vertical-align: middle;\n",
       "    }\n",
       "\n",
       "    .dataframe tbody tr th {\n",
       "        vertical-align: top;\n",
       "    }\n",
       "\n",
       "    .dataframe thead th {\n",
       "        text-align: right;\n",
       "    }\n",
       "</style>\n",
       "<table border=\"1\" class=\"dataframe\">\n",
       "  <thead>\n",
       "    <tr style=\"text-align: right;\">\n",
       "      <th>PREMIUM_CUSTOMER</th>\n",
       "      <th>Budget</th>\n",
       "      <th>Mainstream</th>\n",
       "      <th>Premium</th>\n",
       "    </tr>\n",
       "    <tr>\n",
       "      <th>LIFESTAGE</th>\n",
       "      <th></th>\n",
       "      <th></th>\n",
       "      <th></th>\n",
       "    </tr>\n",
       "  </thead>\n",
       "  <tbody>\n",
       "    <tr>\n",
       "      <th>MIDAGE SINGLES/COUPLES</th>\n",
       "      <td>3.753878</td>\n",
       "      <td>3.994449</td>\n",
       "      <td>3.780823</td>\n",
       "    </tr>\n",
       "    <tr>\n",
       "      <th>NEW FAMILIES</th>\n",
       "      <td>3.931969</td>\n",
       "      <td>3.935887</td>\n",
       "      <td>3.886168</td>\n",
       "    </tr>\n",
       "    <tr>\n",
       "      <th>OLDER FAMILIES</th>\n",
       "      <td>3.747969</td>\n",
       "      <td>3.736380</td>\n",
       "      <td>3.717703</td>\n",
       "    </tr>\n",
       "    <tr>\n",
       "      <th>OLDER SINGLES/COUPLES</th>\n",
       "      <td>3.887529</td>\n",
       "      <td>3.822753</td>\n",
       "      <td>3.897698</td>\n",
       "    </tr>\n",
       "    <tr>\n",
       "      <th>RETIREES</th>\n",
       "      <td>3.932731</td>\n",
       "      <td>3.852986</td>\n",
       "      <td>3.924037</td>\n",
       "    </tr>\n",
       "    <tr>\n",
       "      <th>YOUNG FAMILIES</th>\n",
       "      <td>3.761903</td>\n",
       "      <td>3.722439</td>\n",
       "      <td>3.759232</td>\n",
       "    </tr>\n",
       "    <tr>\n",
       "      <th>YOUNG SINGLES/COUPLES</th>\n",
       "      <td>3.685297</td>\n",
       "      <td>4.074043</td>\n",
       "      <td>3.692889</td>\n",
       "    </tr>\n",
       "  </tbody>\n",
       "</table>\n",
       "</div>"
      ],
      "text/plain": [
       "PREMIUM_CUSTOMER          Budget  Mainstream   Premium\n",
       "LIFESTAGE                                             \n",
       "MIDAGE SINGLES/COUPLES  3.753878    3.994449  3.780823\n",
       "NEW FAMILIES            3.931969    3.935887  3.886168\n",
       "OLDER FAMILIES          3.747969    3.736380  3.717703\n",
       "OLDER SINGLES/COUPLES   3.887529    3.822753  3.897698\n",
       "RETIREES                3.932731    3.852986  3.924037\n",
       "YOUNG FAMILIES          3.761903    3.722439  3.759232\n",
       "YOUNG SINGLES/COUPLES   3.685297    4.074043  3.692889"
      ]
     },
     "execution_count": 57,
     "metadata": {},
     "output_type": "execute_result"
    }
   ],
   "source": [
    "customer_per_price = pd.DataFrame(df_all.groupby(['PREMIUM_CUSTOMER','LIFESTAGE']).apply( lambda x:x['TOT_SALES'].sum()/x['PROD_QTY'].sum()).reset_index())\n",
    "customer_per_price = customer_per_price.rename(columns = {0 : 'PER_PRICE'})\n",
    "\n",
    "customer_per_price = pd.crosstab(index = customer_per_price['LIFESTAGE'], columns = customer_per_price['PREMIUM_CUSTOMER'], values = customer_per_price['PER_PRICE'], aggfunc=sum)\n",
    "customer_per_price = pd.DataFrame(customer_per_price)\n",
    "customer_per_price"
   ]
  },
  {
   "cell_type": "code",
   "execution_count": 58,
   "metadata": {},
   "outputs": [
    {
     "data": {
      "image/png": "[encoded data removed]",
      "text/plain": [
       "<Figure size 1000x600 with 1 Axes>"
      ]
     },
     "metadata": {},
     "output_type": "display_data"
    }
   ],
   "source": [
    "##doggy plot\n",
    "import numpy as np\n",
    "import matplotlib.pyplot as plt\n",
    "\n",
    "lifestages = customer_per_price.index\n",
    "premium_customers = customer_per_price.columns\n",
    "unit_prices = customer_per_price.values.T\n",
    "\n",
    "bar_width = 0.2\n",
    "x = np.arange(len(lifestages))\n",
    "\n",
    "fig, ax = plt.subplots(figsize=(10, 6))\n",
    "\n",
    "\n",
    "for i, premium_customer in enumerate(premium_customers):\n",
    "    ax.bar(x + i * bar_width, unit_prices[i], bar_width, label=premium_customer)\n",
    "\n",
    "ax.set_xlabel('Lifestage')\n",
    "ax.set_ylabel('Unit Price per Customer')\n",
    "ax.set_title('Unit Price per Customer')\n",
    "ax.set_xticks(x + bar_width * (len(premium_customers) - 1) / 2)\n",
    "ax.set_xticklabels(lifestages, rotation=90)\n",
    "legend = ax.legend(title='Premium Customer', loc='upper right')\n",
    "\n",
    "for item in legend.get_texts():\n",
    "    item.set_fontsize(8)  # Adjust the font size as needed\n",
    "    \n",
    "plt.tight_layout()\n",
    "plt.show()"
   ]
  },
  {
   "cell_type": "markdown",
   "metadata": {},
   "source": [
    "#### Mainstream midage and young singles and couples are more willing to pay more per packet of chips compared to their budget and premium counterparts. This may be due to premium shoppers being more likely to buy healthy snacks and when they buy chips, this is mainly for entertainment purposes rather than their own consumption. This is also supported by there being fewer premium midage and young singles and couples buying chips compared to their mainstream counterparts."
   ]
  },
  {
   "cell_type": "markdown",
   "metadata": {},
   "source": [
    "----------------------------------------------------------------------------------------------------"
   ]
  },
  {
   "cell_type": "markdown",
   "metadata": {},
   "source": [
    "As the difference in average price per unit isn’t large, we can check if this difference is statistically different."
   ]
  },
  {
   "cell_type": "code",
   "execution_count": 61,
   "metadata": {},
   "outputs": [
    {
     "name": "stdout",
     "output_type": "stream",
     "text": [
      "T-Statistic: 37.83196107667815\n",
      "P-Value: 2.235645611549355e-309\n",
      "Reject the null hypothesis: There is a significant difference.\n"
     ]
    }
   ],
   "source": [
    "#### Perform an independent t-test between mainstream vs premium and budget midage\n",
    "\n",
    "from scipy import stats\n",
    "\n",
    "df_all['Unit_Price'] = df_all['TOT_SALES']/df_all['PROD_QTY']\n",
    "\n",
    "group1 = df_all[(df_all['LIFESTAGE'].isin([\"YOUNG SINGLES/COUPLES\", \"MIDAGE SINGLES/COUPLES\"])) & (df_all['PREMIUM_CUSTOMER'] == \"Mainstream\")]['Unit_Price']\n",
    "\n",
    "group2 = df_all[(df_all['LIFESTAGE'].isin([\"YOUNG SINGLES/COUPLES\", \"MIDAGE SINGLES/COUPLES\"])) & (df_all['PREMIUM_CUSTOMER'] != \"Mainstream\")]['Unit_Price']\n",
    "\n",
    "\n",
    "\n",
    "t_statistic, p_value = stats.ttest_ind(group1, group2)\n",
    "print(\"T-Statistic:\", t_statistic)\n",
    "print(\"P-Value:\", p_value)\n",
    "\n",
    "alpha = 0.05\n",
    "if p_value < alpha:\n",
    "    print(\"Reject the null hypothesis: There is a significant difference.\")\n",
    "else:\n",
    "    print(\"Fail to reject the null hypothesis: There is no significant difference.\")\n",
    "# #stats.ttest_rel(df_all.loc[df_all['LIFESTAGE'].isin([\"YOUNG SINGLES/COUPLES\", \"MIDAGE SINGLES/COUPLES\"])\n",
    "#                                                   & df_all['PREMIUM_CUSTOMER']== \"Mainstream\", 'Unit_Price'],\n",
    "                                       \n",
    "#                                       df_all.loc[df_all['LIFESTAGE'].isin([\"YOUNG SINGLES/COUPLES\", \"MIDAGE SINGLES/COUPLES\"])\n",
    "#                                                   & df_all['PREMIUM_CUSTOMER'] != \"Mainstream\", 'Unit_Price'])\n",
    "                                       \n",
    "# print(\"T-Statistic:\", t_statistic)\n",
    "# print(\"P-Value:\", p_value)\n",
    "# Mainstream = df_all[df['LIFESTAGE'] == ]\n",
    "#Other"
   ]
  },
  {
   "cell_type": "markdown",
   "metadata": {},
   "source": [
    "#### The unit price for mainstream, young and mid-age singles and couples are significantly higher than that of budget or premium, young and midage singles and couples."
   ]
  },
  {
   "cell_type": "markdown",
   "metadata": {},
   "source": [
    "  "
   ]
  },
  {
   "cell_type": "markdown",
   "metadata": {},
   "source": [
    "\n",
    "## Insights -- Brand and Package Size"
   ]
  },
  {
   "cell_type": "code",
   "execution_count": 2,
   "metadata": {},
   "outputs": [
    {
     "ename": "NameError",
     "evalue": "name 'df_all' is not defined",
     "output_type": "error",
     "traceback": [
      "\u001b[0;31m---------------------------------------------------------------------------\u001b[0m",
      "\u001b[0;31mNameError\u001b[0m                                 Traceback (most recent call last)",
      "Cell \u001b[0;32mIn[2], line 4\u001b[0m\n\u001b[1;32m      1\u001b[0m \u001b[38;5;66;03m##brand \u001b[39;00m\n\u001b[0;32m----> 4\u001b[0m segment1 \u001b[38;5;241m=\u001b[39m df_all[(df_all[\u001b[38;5;124m'\u001b[39m\u001b[38;5;124mLIFESTAGE\u001b[39m\u001b[38;5;124m'\u001b[39m]\u001b[38;5;241m==\u001b[39m \u001b[38;5;124m\"\u001b[39m\u001b[38;5;124mYOUNG SINGLES/COUPLES\u001b[39m\u001b[38;5;124m\"\u001b[39m) \u001b[38;5;241m&\u001b[39m (df_all[\u001b[38;5;124m'\u001b[39m\u001b[38;5;124mPREMIUM_CUSTOMER\u001b[39m\u001b[38;5;124m'\u001b[39m]\u001b[38;5;241m==\u001b[39m \u001b[38;5;124m\"\u001b[39m\u001b[38;5;124mMainstream\u001b[39m\u001b[38;5;124m\"\u001b[39m)]\n\u001b[1;32m      6\u001b[0m segment_other \u001b[38;5;241m=\u001b[39m df_all[\u001b[38;5;241m~\u001b[39m((df_all[\u001b[38;5;124m'\u001b[39m\u001b[38;5;124mLIFESTAGE\u001b[39m\u001b[38;5;124m'\u001b[39m]\u001b[38;5;241m==\u001b[39m \u001b[38;5;124m\"\u001b[39m\u001b[38;5;124mYOUNG SINGLES/COUPLES\u001b[39m\u001b[38;5;124m\"\u001b[39m) \u001b[38;5;241m&\u001b[39m (df_all[\u001b[38;5;124m'\u001b[39m\u001b[38;5;124mPREMIUM_CUSTOMER\u001b[39m\u001b[38;5;124m'\u001b[39m]\u001b[38;5;241m==\u001b[39m \u001b[38;5;124m\"\u001b[39m\u001b[38;5;124mMainstream\u001b[39m\u001b[38;5;124m\"\u001b[39m))]\n\u001b[1;32m      8\u001b[0m quantity_segment1 \u001b[38;5;241m=\u001b[39m pd\u001b[38;5;241m.\u001b[39mDataFrame(segment1\u001b[38;5;241m.\u001b[39mgroupby(\u001b[38;5;124m\"\u001b[39m\u001b[38;5;124mBRAND_NAME\u001b[39m\u001b[38;5;124m\"\u001b[39m)[\u001b[38;5;124m'\u001b[39m\u001b[38;5;124mPROD_QTY\u001b[39m\u001b[38;5;124m'\u001b[39m]\u001b[38;5;241m.\u001b[39msum())\u001b[38;5;241m.\u001b[39mreset_index()\n",
      "\u001b[0;31mNameError\u001b[0m: name 'df_all' is not defined"
     ]
    }
   ],
   "source": [
    "##brand \n",
    "\n",
    "\n",
    "segment1 = df_all[(df_all['LIFESTAGE']== \"YOUNG SINGLES/COUPLES\") & (df_all['PREMIUM_CUSTOMER']== \"Mainstream\")]\n",
    "\n",
    "segment_other = df_all[~((df_all['LIFESTAGE']== \"YOUNG SINGLES/COUPLES\") & (df_all['PREMIUM_CUSTOMER']== \"Mainstream\"))]\n",
    "\n",
    "quantity_segment1 = pd.DataFrame(segment1.groupby(\"BRAND_NAME\")['PROD_QTY'].sum()).reset_index()\n",
    "\n",
    "quantity_segmentOther = pd.DataFrame(segment_other.groupby(\"BRAND_NAME\")['PROD_QTY'].sum()).reset_index()\n",
    "\n"
   ]
  },
  {
   "cell_type": "code",
   "execution_count": 71,
   "metadata": {},
   "outputs": [],
   "source": [
    "##quantity_segment1_by_brand <‐ segment1[, .(targetSegment = sum(PROD_QTY)/quantity_segment1), by = BRAND]\n",
    "\n",
    "quantity_segmeny1_by_brand = pd.DataFrame(quantity_segment1.groupby('BRAND_NAME').apply(lambda x: x['PROD_QTY'] / sum(quantity_segment1['PROD_QTY'])))\n",
    "\n",
    "quantity_segmeny1_by_brand = quantity_segmeny1_by_brand.sort_values(by = 'PROD_QTY', ascending=False).reset_index()[['BRAND_NAME', 'PROD_QTY']].rename(columns = {\"PROD_QTY\" : 'Target_per'})\n",
    "\n",
    "\n",
    "quantity_segmenyOth_by_brand = pd.DataFrame(quantity_segmentOther.groupby('BRAND_NAME').apply(lambda x: x['PROD_QTY'] / sum(quantity_segmentOther['PROD_QTY'])))\n",
    "\n",
    "quantity_segmenyOth_by_brand = quantity_segmenyOth_by_brand.sort_values(by = 'PROD_QTY', ascending=False).reset_index()[['BRAND_NAME', 'PROD_QTY']].rename(columns = {\"PROD_QTY\" : 'Other_per'})\n",
    "\n",
    "\n"
   ]
  },
  {
   "cell_type": "code",
   "execution_count": 72,
   "metadata": {},
   "outputs": [
    {
     "data": {
      "text/html": [
       "<div>\n",
       "<style scoped>\n",
       "    .dataframe tbody tr th:only-of-type {\n",
       "        vertical-align: middle;\n",
       "    }\n",
       "\n",
       "    .dataframe tbody tr th {\n",
       "        vertical-align: top;\n",
       "    }\n",
       "\n",
       "    .dataframe thead th {\n",
       "        text-align: right;\n",
       "    }\n",
       "</style>\n",
       "<table border=\"1\" class=\"dataframe\">\n",
       "  <thead>\n",
       "    <tr style=\"text-align: right;\">\n",
       "      <th></th>\n",
       "      <th>BRAND_NAME</th>\n",
       "      <th>Target_per</th>\n",
       "      <th>Other_per</th>\n",
       "      <th>Difference</th>\n",
       "    </tr>\n",
       "  </thead>\n",
       "  <tbody>\n",
       "    <tr>\n",
       "      <th>11</th>\n",
       "      <td>Tyrrells</td>\n",
       "      <td>0.031553</td>\n",
       "      <td>0.025692</td>\n",
       "      <td>1.228095</td>\n",
       "    </tr>\n",
       "    <tr>\n",
       "      <th>6</th>\n",
       "      <td>Twisties</td>\n",
       "      <td>0.046184</td>\n",
       "      <td>0.037877</td>\n",
       "      <td>1.219319</td>\n",
       "    </tr>\n",
       "    <tr>\n",
       "      <th>1</th>\n",
       "      <td>Doritos</td>\n",
       "      <td>0.122761</td>\n",
       "      <td>0.101075</td>\n",
       "      <td>1.214553</td>\n",
       "    </tr>\n",
       "    <tr>\n",
       "      <th>0</th>\n",
       "      <td>Kettle</td>\n",
       "      <td>0.197985</td>\n",
       "      <td>0.165553</td>\n",
       "      <td>1.195897</td>\n",
       "    </tr>\n",
       "    <tr>\n",
       "      <th>7</th>\n",
       "      <td>Tostitos</td>\n",
       "      <td>0.045411</td>\n",
       "      <td>0.037978</td>\n",
       "      <td>1.195713</td>\n",
       "    </tr>\n",
       "    <tr>\n",
       "      <th>2</th>\n",
       "      <td>Pringles</td>\n",
       "      <td>0.119420</td>\n",
       "      <td>0.100635</td>\n",
       "      <td>1.186670</td>\n",
       "    </tr>\n",
       "    <tr>\n",
       "      <th>8</th>\n",
       "      <td>Cobs</td>\n",
       "      <td>0.044638</td>\n",
       "      <td>0.039049</td>\n",
       "      <td>1.143124</td>\n",
       "    </tr>\n",
       "    <tr>\n",
       "      <th>4</th>\n",
       "      <td>Infuzions</td>\n",
       "      <td>0.064679</td>\n",
       "      <td>0.057065</td>\n",
       "      <td>1.133435</td>\n",
       "    </tr>\n",
       "    <tr>\n",
       "      <th>5</th>\n",
       "      <td>Thins</td>\n",
       "      <td>0.060373</td>\n",
       "      <td>0.056986</td>\n",
       "      <td>1.059423</td>\n",
       "    </tr>\n",
       "    <tr>\n",
       "      <th>9</th>\n",
       "      <td>Grain Waves</td>\n",
       "      <td>0.032712</td>\n",
       "      <td>0.031188</td>\n",
       "      <td>1.048873</td>\n",
       "    </tr>\n",
       "    <tr>\n",
       "      <th>14</th>\n",
       "      <td>Cheezels</td>\n",
       "      <td>0.017971</td>\n",
       "      <td>0.018647</td>\n",
       "      <td>0.963753</td>\n",
       "    </tr>\n",
       "    <tr>\n",
       "      <th>3</th>\n",
       "      <td>Smiths</td>\n",
       "      <td>0.096370</td>\n",
       "      <td>0.124584</td>\n",
       "      <td>0.773536</td>\n",
       "    </tr>\n",
       "    <tr>\n",
       "      <th>19</th>\n",
       "      <td>French</td>\n",
       "      <td>0.003948</td>\n",
       "      <td>0.005758</td>\n",
       "      <td>0.685569</td>\n",
       "    </tr>\n",
       "    <tr>\n",
       "      <th>17</th>\n",
       "      <td>Cheetos</td>\n",
       "      <td>0.008033</td>\n",
       "      <td>0.012067</td>\n",
       "      <td>0.665733</td>\n",
       "    </tr>\n",
       "    <tr>\n",
       "      <th>10</th>\n",
       "      <td>RRD</td>\n",
       "      <td>0.032022</td>\n",
       "      <td>0.049151</td>\n",
       "      <td>0.651507</td>\n",
       "    </tr>\n",
       "    <tr>\n",
       "      <th>15</th>\n",
       "      <td>red</td>\n",
       "      <td>0.011787</td>\n",
       "      <td>0.018343</td>\n",
       "      <td>0.642617</td>\n",
       "    </tr>\n",
       "    <tr>\n",
       "      <th>13</th>\n",
       "      <td>Natural Chip Co</td>\n",
       "      <td>0.019600</td>\n",
       "      <td>0.030854</td>\n",
       "      <td>0.635241</td>\n",
       "    </tr>\n",
       "    <tr>\n",
       "      <th>16</th>\n",
       "      <td>CCs</td>\n",
       "      <td>0.011180</td>\n",
       "      <td>0.018896</td>\n",
       "      <td>0.591677</td>\n",
       "    </tr>\n",
       "    <tr>\n",
       "      <th>18</th>\n",
       "      <td>Sunbites</td>\n",
       "      <td>0.006349</td>\n",
       "      <td>0.012580</td>\n",
       "      <td>0.504698</td>\n",
       "    </tr>\n",
       "    <tr>\n",
       "      <th>12</th>\n",
       "      <td>Woolworths</td>\n",
       "      <td>0.024099</td>\n",
       "      <td>0.049427</td>\n",
       "      <td>0.487573</td>\n",
       "    </tr>\n",
       "    <tr>\n",
       "      <th>20</th>\n",
       "      <td>Burger</td>\n",
       "      <td>0.002926</td>\n",
       "      <td>0.006596</td>\n",
       "      <td>0.443597</td>\n",
       "    </tr>\n",
       "  </tbody>\n",
       "</table>\n",
       "</div>"
      ],
      "text/plain": [
       "         BRAND_NAME  Target_per  Other_per  Difference\n",
       "11         Tyrrells    0.031553   0.025692    1.228095\n",
       "6          Twisties    0.046184   0.037877    1.219319\n",
       "1           Doritos    0.122761   0.101075    1.214553\n",
       "0            Kettle    0.197985   0.165553    1.195897\n",
       "7          Tostitos    0.045411   0.037978    1.195713\n",
       "2          Pringles    0.119420   0.100635    1.186670\n",
       "8              Cobs    0.044638   0.039049    1.143124\n",
       "4         Infuzions    0.064679   0.057065    1.133435\n",
       "5             Thins    0.060373   0.056986    1.059423\n",
       "9       Grain Waves    0.032712   0.031188    1.048873\n",
       "14         Cheezels    0.017971   0.018647    0.963753\n",
       "3            Smiths    0.096370   0.124584    0.773536\n",
       "19           French    0.003948   0.005758    0.685569\n",
       "17          Cheetos    0.008033   0.012067    0.665733\n",
       "10              RRD    0.032022   0.049151    0.651507\n",
       "15              red    0.011787   0.018343    0.642617\n",
       "13  Natural Chip Co    0.019600   0.030854    0.635241\n",
       "16              CCs    0.011180   0.018896    0.591677\n",
       "18         Sunbites    0.006349   0.012580    0.504698\n",
       "12       Woolworths    0.024099   0.049427    0.487573\n",
       "20           Burger    0.002926   0.006596    0.443597"
      ]
     },
     "execution_count": 72,
     "metadata": {},
     "output_type": "execute_result"
    }
   ],
   "source": [
    "propotion_brand = quantity_segmeny1_by_brand.merge(quantity_segmenyOth_by_brand, left_on = 'BRAND_NAME', right_on = 'BRAND_NAME')\n",
    "propotion_brand['Difference'] = propotion_brand['Target_per']/ propotion_brand['Other_per']\n",
    "\n",
    "propotion_brand.sort_values(by = 'Difference', ascending=False)"
   ]
  },
  {
   "cell_type": "markdown",
   "metadata": {},
   "source": [
    "#### • Mainstream young singles/couples are 23% more likely to purchase Tyrrells chips compared to the rest of the population\n",
    "#### • Mainstream young singles/couples are 56% less likely to purchase Burger Rings compared to the rest of the population"
   ]
  },
  {
   "cell_type": "code",
   "execution_count": 73,
   "metadata": {},
   "outputs": [],
   "source": [
    "##size\n",
    "df_all['Pack_Size'] = df_all[\"PROD_NAME\"].str.extract('(\\d+)', expand=False)\n"
   ]
  },
  {
   "cell_type": "code",
   "execution_count": 74,
   "metadata": {},
   "outputs": [],
   "source": [
    "segmentSize1 = df_all[(df_all['LIFESTAGE']== \"YOUNG SINGLES/COUPLES\") & (df_all['PREMIUM_CUSTOMER']== \"Mainstream\")]\n",
    "\n",
    "segment_SizeOther = df_all[~((df_all['LIFESTAGE']== \"YOUNG SINGLES/COUPLES\") & (df_all['PREMIUM_CUSTOMER']== \"Mainstream\"))]\n",
    "\n",
    "quantity_segmentSize1 = pd.DataFrame(segmentSize1.groupby(\"Pack_Size\")['PROD_QTY'].sum()).reset_index()\n",
    "\n",
    "quantity_segmentSizeOther = pd.DataFrame(segment_SizeOther.groupby(\"Pack_Size\")['PROD_QTY'].sum()).reset_index()"
   ]
  },
  {
   "cell_type": "code",
   "execution_count": 75,
   "metadata": {},
   "outputs": [],
   "source": [
    "\n",
    "quantity_segmeny1_by_size = pd.DataFrame(quantity_segmentSize1 .groupby('Pack_Size').apply(lambda x: x['PROD_QTY'] / sum(quantity_segmentSize1 ['PROD_QTY'])))\n",
    "\n",
    "quantity_segmeny1_by_size = quantity_segmeny1_by_size.sort_values(by = 'PROD_QTY', ascending=False).reset_index()[['Pack_Size', 'PROD_QTY']].rename(columns = {\"PROD_QTY\" : 'Target_per'})\n",
    "\n",
    "\n",
    "quantity_segmenyOth_by_size = pd.DataFrame(quantity_segmentSizeOther.groupby('Pack_Size').apply(lambda x: x['PROD_QTY'] / sum(quantity_segmentSizeOther['PROD_QTY'])))\n",
    "\n",
    "quantity_segmenyOth_by_size = quantity_segmenyOth_by_size.sort_values(by = 'PROD_QTY', ascending=False).reset_index()[['Pack_Size', 'PROD_QTY']].rename(columns = {\"PROD_QTY\" : 'Other_per'})"
   ]
  },
  {
   "cell_type": "code",
   "execution_count": 76,
   "metadata": {},
   "outputs": [
    {
     "data": {
      "text/html": [
       "<div>\n",
       "<style scoped>\n",
       "    .dataframe tbody tr th:only-of-type {\n",
       "        vertical-align: middle;\n",
       "    }\n",
       "\n",
       "    .dataframe tbody tr th {\n",
       "        vertical-align: top;\n",
       "    }\n",
       "\n",
       "    .dataframe thead th {\n",
       "        text-align: right;\n",
       "    }\n",
       "</style>\n",
       "<table border=\"1\" class=\"dataframe\">\n",
       "  <thead>\n",
       "    <tr style=\"text-align: right;\">\n",
       "      <th></th>\n",
       "      <th>Pack_Size</th>\n",
       "      <th>Target_per</th>\n",
       "      <th>Other_per</th>\n",
       "      <th>Difference</th>\n",
       "    </tr>\n",
       "  </thead>\n",
       "  <tbody>\n",
       "    <tr>\n",
       "      <th>8</th>\n",
       "      <td>270</td>\n",
       "      <td>0.032516</td>\n",
       "      <td>0.025735</td>\n",
       "      <td>1.263465</td>\n",
       "    </tr>\n",
       "    <tr>\n",
       "      <th>7</th>\n",
       "      <td>380</td>\n",
       "      <td>0.032854</td>\n",
       "      <td>0.026236</td>\n",
       "      <td>1.252250</td>\n",
       "    </tr>\n",
       "    <tr>\n",
       "      <th>9</th>\n",
       "      <td>210</td>\n",
       "      <td>0.015792</td>\n",
       "      <td>0.012922</td>\n",
       "      <td>1.222143</td>\n",
       "    </tr>\n",
       "    <tr>\n",
       "      <th>5</th>\n",
       "      <td>330</td>\n",
       "      <td>0.062606</td>\n",
       "      <td>0.051440</td>\n",
       "      <td>1.217071</td>\n",
       "    </tr>\n",
       "    <tr>\n",
       "      <th>2</th>\n",
       "      <td>134</td>\n",
       "      <td>0.121997</td>\n",
       "      <td>0.103198</td>\n",
       "      <td>1.182158</td>\n",
       "    </tr>\n",
       "    <tr>\n",
       "      <th>3</th>\n",
       "      <td>110</td>\n",
       "      <td>0.108573</td>\n",
       "      <td>0.092078</td>\n",
       "      <td>1.179136</td>\n",
       "    </tr>\n",
       "    <tr>\n",
       "      <th>10</th>\n",
       "      <td>135</td>\n",
       "      <td>0.015087</td>\n",
       "      <td>0.013408</td>\n",
       "      <td>1.125216</td>\n",
       "    </tr>\n",
       "    <tr>\n",
       "      <th>11</th>\n",
       "      <td>250</td>\n",
       "      <td>0.014664</td>\n",
       "      <td>0.013106</td>\n",
       "      <td>1.118895</td>\n",
       "    </tr>\n",
       "    <tr>\n",
       "      <th>4</th>\n",
       "      <td>170</td>\n",
       "      <td>0.082516</td>\n",
       "      <td>0.083049</td>\n",
       "      <td>0.993577</td>\n",
       "    </tr>\n",
       "    <tr>\n",
       "      <th>1</th>\n",
       "      <td>150</td>\n",
       "      <td>0.156881</td>\n",
       "      <td>0.161211</td>\n",
       "      <td>0.973140</td>\n",
       "    </tr>\n",
       "    <tr>\n",
       "      <th>0</th>\n",
       "      <td>175</td>\n",
       "      <td>0.256994</td>\n",
       "      <td>0.270623</td>\n",
       "      <td>0.949636</td>\n",
       "    </tr>\n",
       "    <tr>\n",
       "      <th>6</th>\n",
       "      <td>165</td>\n",
       "      <td>0.056853</td>\n",
       "      <td>0.063854</td>\n",
       "      <td>0.890359</td>\n",
       "    </tr>\n",
       "    <tr>\n",
       "      <th>13</th>\n",
       "      <td>190</td>\n",
       "      <td>0.007642</td>\n",
       "      <td>0.012759</td>\n",
       "      <td>0.598984</td>\n",
       "    </tr>\n",
       "    <tr>\n",
       "      <th>16</th>\n",
       "      <td>180</td>\n",
       "      <td>0.003666</td>\n",
       "      <td>0.006221</td>\n",
       "      <td>0.589289</td>\n",
       "    </tr>\n",
       "    <tr>\n",
       "      <th>14</th>\n",
       "      <td>160</td>\n",
       "      <td>0.006543</td>\n",
       "      <td>0.012688</td>\n",
       "      <td>0.515647</td>\n",
       "    </tr>\n",
       "    <tr>\n",
       "      <th>15</th>\n",
       "      <td>90</td>\n",
       "      <td>0.006486</td>\n",
       "      <td>0.012901</td>\n",
       "      <td>0.502779</td>\n",
       "    </tr>\n",
       "    <tr>\n",
       "      <th>18</th>\n",
       "      <td>125</td>\n",
       "      <td>0.003074</td>\n",
       "      <td>0.006191</td>\n",
       "      <td>0.496547</td>\n",
       "    </tr>\n",
       "    <tr>\n",
       "      <th>12</th>\n",
       "      <td>200</td>\n",
       "      <td>0.009165</td>\n",
       "      <td>0.019131</td>\n",
       "      <td>0.479070</td>\n",
       "    </tr>\n",
       "    <tr>\n",
       "      <th>17</th>\n",
       "      <td>70</td>\n",
       "      <td>0.003102</td>\n",
       "      <td>0.006483</td>\n",
       "      <td>0.478466</td>\n",
       "    </tr>\n",
       "    <tr>\n",
       "      <th>19</th>\n",
       "      <td>220</td>\n",
       "      <td>0.002989</td>\n",
       "      <td>0.006764</td>\n",
       "      <td>0.441910</td>\n",
       "    </tr>\n",
       "  </tbody>\n",
       "</table>\n",
       "</div>"
      ],
      "text/plain": [
       "   Pack_Size  Target_per  Other_per  Difference\n",
       "8        270    0.032516   0.025735    1.263465\n",
       "7        380    0.032854   0.026236    1.252250\n",
       "9        210    0.015792   0.012922    1.222143\n",
       "5        330    0.062606   0.051440    1.217071\n",
       "2        134    0.121997   0.103198    1.182158\n",
       "3        110    0.108573   0.092078    1.179136\n",
       "10       135    0.015087   0.013408    1.125216\n",
       "11       250    0.014664   0.013106    1.118895\n",
       "4        170    0.082516   0.083049    0.993577\n",
       "1        150    0.156881   0.161211    0.973140\n",
       "0        175    0.256994   0.270623    0.949636\n",
       "6        165    0.056853   0.063854    0.890359\n",
       "13       190    0.007642   0.012759    0.598984\n",
       "16       180    0.003666   0.006221    0.589289\n",
       "14       160    0.006543   0.012688    0.515647\n",
       "15        90    0.006486   0.012901    0.502779\n",
       "18       125    0.003074   0.006191    0.496547\n",
       "12       200    0.009165   0.019131    0.479070\n",
       "17        70    0.003102   0.006483    0.478466\n",
       "19       220    0.002989   0.006764    0.441910"
      ]
     },
     "execution_count": 76,
     "metadata": {},
     "output_type": "execute_result"
    }
   ],
   "source": [
    "propotion_size = quantity_segmeny1_by_size.merge(quantity_segmenyOth_by_size, left_on = 'Pack_Size', right_on = 'Pack_Size')\n",
    "propotion_size['Difference'] = propotion_size['Target_per']/ propotion_size['Other_per']\n",
    "\n",
    "propotion_size.sort_values(by = 'Difference', ascending=False)"
   ]
  },
  {
   "cell_type": "markdown",
   "metadata": {},
   "source": [
    "####  Mainstream young singles/couples seemingly are 27% more likely to purchase a 270g pack of chips compared to the rest of the population but let’s dive into what brands sell this pack size."
   ]
  },
  {
   "cell_type": "code",
   "execution_count": 77,
   "metadata": {},
   "outputs": [
    {
     "data": {
      "text/plain": [
       "array(['Twisties'], dtype=object)"
      ]
     },
     "execution_count": 77,
     "metadata": {},
     "output_type": "execute_result"
    }
   ],
   "source": [
    "df_all[df_all['Pack_Size'] == '270'][\"BRAND_NAME\"].unique()"
   ]
  },
  {
   "cell_type": "markdown",
   "metadata": {},
   "source": [
    "#### Twisties are the only brand offering 270g packs and so this may instead be reflecting a higher likelihood of purchasing Twisties."
   ]
  },
  {
   "cell_type": "markdown",
   "metadata": {},
   "source": [
    "## Conclusion"
   ]
  },
  {
   "cell_type": "markdown",
   "metadata": {},
   "source": [
    "\n",
    "Sales have primarily been driven by three customer segments: Budget - older families, Mainstream - young singles/couples, and Mainstream - retirees shoppers. The notable increase in chip spending for these segments is attributed to their larger population compared to other buyer groups.\n",
    "\n",
    "Furthermore, Mainstream - midage and young singles/couples demonstrate a higher willingness to pay more per packet of chips, indicative of impulsive buying behavior.\n",
    "\n",
    "A particularly noteworthy insight is that Mainstream - young singles and couples are 23% more likely to purchase Tyrrells chips than the rest of the population.\n",
    "\n",
    "To enhance the category's performance, the Category Manager may consider strategically placing Tyrrells and smaller chip packs in discretionary spaces frequented by young singles and couples. This approach aims to boost visibility and encourage impulse buying behavior among this demographic.\n"
   ]
  },
  {
   "cell_type": "code",
   "execution_count": null,
   "metadata": {},
   "outputs": [],
   "source": []
  }
 ],
 "metadata": {
  "kernelspec": {
   "display_name": "Python 3 (ipykernel)",
   "language": "python",
   "name": "python3"
  },
  "language_info": {
   "codemirror_mode": {
    "name": "ipython",
    "version": 3
   },
   "file_extension": ".py",
   "mimetype": "text/x-python",
   "name": "python",
   "nbconvert_exporter": "python",
   "pygments_lexer": "ipython3",
   "version": "3.11.4"
  },
  "widgets": {
   "application/vnd.jupyter.widget-state+json": {
    "state": {},
    "version_major": 2,
    "version_minor": 0
   }
  }
 },
 "nbformat": 4,
 "nbformat_minor": 4
}
