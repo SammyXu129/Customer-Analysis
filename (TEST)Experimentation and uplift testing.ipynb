{
 "cells": [
  {
   "cell_type": "markdown",
   "id": "06e6fcf4",
   "metadata": {},
   "source": [
    "# Experimentation and Uplift Testing 🕵️"
   ]
  },
  {
   "cell_type": "markdown",
   "id": "f504a7ac",
   "metadata": {},
   "source": [
    "\n",
    "### PLAN: Outline of this project\n",
    "\n"
   ]
  },
  {
   "cell_type": "markdown",
   "id": "5696a7d8",
   "metadata": {},
   "source": [
    "\n",
    "\n",
    "1. **GOAL**: Examine the performance in Trial vs Control stores.\n",
    "\n",
    "2. **STRATEGY**: Recommendaion on the store layout "
   ]
  },
  {
   "cell_type": "markdown",
   "id": "65f75056",
   "metadata": {},
   "source": "### ANALYZE: Statistical hypothesis test\n"
  },
  {
   "cell_type": "markdown",
   "id": "490be281",
   "metadata": {},
   "source": [
    "1. Define metrics to select control stores.\n",
    "2. Analyze trial stores against controls, i.e A/B testing.\n",
    "3. Data analysis and visualization and summarise findings and provide recommendations."
   ]
  },
  {
   "cell_type": "markdown",
   "id": "a8be49a5",
   "metadata": {},
   "source": [
    "### 1.1 Load Data and Data Cleaning"
   ]
  },
  {
   "cell_type": "code",
   "id": "6c361921",
   "metadata": {
    "ExecuteTime": {
     "end_time": "2024-06-19T01:31:11.779897Z",
     "start_time": "2024-06-19T01:31:11.773738Z"
    }
   },
   "source": [
    "import pandas as pd\n",
    "import numpy as np\n",
    "import matplotlib.pyplot as plt\n",
    "from scipy.stats import ttest_ind, t\n",
    "import seaborn as sns"
   ],
   "outputs": [],
   "execution_count": 1
  },
  {
   "cell_type": "code",
   "id": "118e6e7f",
   "metadata": {
    "ExecuteTime": {
     "end_time": "2024-06-19T01:31:12.384048Z",
     "start_time": "2024-06-19T01:31:11.782578Z"
    }
   },
   "source": [
    "data = pd.read_csv(\"QVI_data.csv\")"
   ],
   "outputs": [],
   "execution_count": 2
  },
  {
   "cell_type": "code",
   "id": "a9d99304",
   "metadata": {
    "ExecuteTime": {
     "end_time": "2024-06-19T01:31:12.408317Z",
     "start_time": "2024-06-19T01:31:12.385569Z"
    }
   },
   "source": "data.head()",
   "outputs": [
    {
     "data": {
      "text/plain": [
       "   LYLTY_CARD_NBR        DATE  STORE_NBR  TXN_ID  PROD_NBR  \\\n",
       "0            1000  2018-10-17          1       1         5   \n",
       "1            1002  2018-09-16          1       2        58   \n",
       "2            1003  2019-03-07          1       3        52   \n",
       "3            1003  2019-03-08          1       4       106   \n",
       "4            1004  2018-11-02          1       5        96   \n",
       "\n",
       "                                PROD_NAME  PROD_QTY  TOT_SALES  PACK_SIZE  \\\n",
       "0  Natural Chip        Compny SeaSalt175g         2        6.0        175   \n",
       "1   Red Rock Deli Chikn&Garlic Aioli 150g         1        2.7        150   \n",
       "2   Grain Waves Sour    Cream&Chives 210G         1        3.6        210   \n",
       "3  Natural ChipCo      Hony Soy Chckn175g         1        3.0        175   \n",
       "4          WW Original Stacked Chips 160g         1        1.9        160   \n",
       "\n",
       "        BRAND              LIFESTAGE PREMIUM_CUSTOMER  \n",
       "0     NATURAL  YOUNG SINGLES/COUPLES          Premium  \n",
       "1         RRD  YOUNG SINGLES/COUPLES       Mainstream  \n",
       "2     GRNWVES         YOUNG FAMILIES           Budget  \n",
       "3     NATURAL         YOUNG FAMILIES           Budget  \n",
       "4  WOOLWORTHS  OLDER SINGLES/COUPLES       Mainstream  "
      ],
      "text/html": [
       "<div>\n",
       "<style scoped>\n",
       "    .dataframe tbody tr th:only-of-type {\n",
       "        vertical-align: middle;\n",
       "    }\n",
       "\n",
       "    .dataframe tbody tr th {\n",
       "        vertical-align: top;\n",
       "    }\n",
       "\n",
       "    .dataframe thead th {\n",
       "        text-align: right;\n",
       "    }\n",
       "</style>\n",
       "<table border=\"1\" class=\"dataframe\">\n",
       "  <thead>\n",
       "    <tr style=\"text-align: right;\">\n",
       "      <th></th>\n",
       "      <th>LYLTY_CARD_NBR</th>\n",
       "      <th>DATE</th>\n",
       "      <th>STORE_NBR</th>\n",
       "      <th>TXN_ID</th>\n",
       "      <th>PROD_NBR</th>\n",
       "      <th>PROD_NAME</th>\n",
       "      <th>PROD_QTY</th>\n",
       "      <th>TOT_SALES</th>\n",
       "      <th>PACK_SIZE</th>\n",
       "      <th>BRAND</th>\n",
       "      <th>LIFESTAGE</th>\n",
       "      <th>PREMIUM_CUSTOMER</th>\n",
       "    </tr>\n",
       "  </thead>\n",
       "  <tbody>\n",
       "    <tr>\n",
       "      <th>0</th>\n",
       "      <td>1000</td>\n",
       "      <td>2018-10-17</td>\n",
       "      <td>1</td>\n",
       "      <td>1</td>\n",
       "      <td>5</td>\n",
       "      <td>Natural Chip        Compny SeaSalt175g</td>\n",
       "      <td>2</td>\n",
       "      <td>6.0</td>\n",
       "      <td>175</td>\n",
       "      <td>NATURAL</td>\n",
       "      <td>YOUNG SINGLES/COUPLES</td>\n",
       "      <td>Premium</td>\n",
       "    </tr>\n",
       "    <tr>\n",
       "      <th>1</th>\n",
       "      <td>1002</td>\n",
       "      <td>2018-09-16</td>\n",
       "      <td>1</td>\n",
       "      <td>2</td>\n",
       "      <td>58</td>\n",
       "      <td>Red Rock Deli Chikn&amp;Garlic Aioli 150g</td>\n",
       "      <td>1</td>\n",
       "      <td>2.7</td>\n",
       "      <td>150</td>\n",
       "      <td>RRD</td>\n",
       "      <td>YOUNG SINGLES/COUPLES</td>\n",
       "      <td>Mainstream</td>\n",
       "    </tr>\n",
       "    <tr>\n",
       "      <th>2</th>\n",
       "      <td>1003</td>\n",
       "      <td>2019-03-07</td>\n",
       "      <td>1</td>\n",
       "      <td>3</td>\n",
       "      <td>52</td>\n",
       "      <td>Grain Waves Sour    Cream&amp;Chives 210G</td>\n",
       "      <td>1</td>\n",
       "      <td>3.6</td>\n",
       "      <td>210</td>\n",
       "      <td>GRNWVES</td>\n",
       "      <td>YOUNG FAMILIES</td>\n",
       "      <td>Budget</td>\n",
       "    </tr>\n",
       "    <tr>\n",
       "      <th>3</th>\n",
       "      <td>1003</td>\n",
       "      <td>2019-03-08</td>\n",
       "      <td>1</td>\n",
       "      <td>4</td>\n",
       "      <td>106</td>\n",
       "      <td>Natural ChipCo      Hony Soy Chckn175g</td>\n",
       "      <td>1</td>\n",
       "      <td>3.0</td>\n",
       "      <td>175</td>\n",
       "      <td>NATURAL</td>\n",
       "      <td>YOUNG FAMILIES</td>\n",
       "      <td>Budget</td>\n",
       "    </tr>\n",
       "    <tr>\n",
       "      <th>4</th>\n",
       "      <td>1004</td>\n",
       "      <td>2018-11-02</td>\n",
       "      <td>1</td>\n",
       "      <td>5</td>\n",
       "      <td>96</td>\n",
       "      <td>WW Original Stacked Chips 160g</td>\n",
       "      <td>1</td>\n",
       "      <td>1.9</td>\n",
       "      <td>160</td>\n",
       "      <td>WOOLWORTHS</td>\n",
       "      <td>OLDER SINGLES/COUPLES</td>\n",
       "      <td>Mainstream</td>\n",
       "    </tr>\n",
       "  </tbody>\n",
       "</table>\n",
       "</div>"
      ]
     },
     "execution_count": 3,
     "metadata": {},
     "output_type": "execute_result"
    }
   ],
   "execution_count": 3
  },
  {
   "cell_type": "code",
   "id": "827f5525",
   "metadata": {
    "ExecuteTime": {
     "end_time": "2024-06-19T01:31:12.648703Z",
     "start_time": "2024-06-19T01:31:12.410287Z"
    }
   },
   "source": [
    "data.info()"
   ],
   "outputs": [
    {
     "name": "stdout",
     "output_type": "stream",
     "text": [
      "<class 'pandas.core.frame.DataFrame'>\n",
      "RangeIndex: 264834 entries, 0 to 264833\n",
      "Data columns (total 12 columns):\n",
      " #   Column            Non-Null Count   Dtype  \n",
      "---  ------            --------------   -----  \n",
      " 0   LYLTY_CARD_NBR    264834 non-null  int64  \n",
      " 1   DATE              264834 non-null  object \n",
      " 2   STORE_NBR         264834 non-null  int64  \n",
      " 3   TXN_ID            264834 non-null  int64  \n",
      " 4   PROD_NBR          264834 non-null  int64  \n",
      " 5   PROD_NAME         264834 non-null  object \n",
      " 6   PROD_QTY          264834 non-null  int64  \n",
      " 7   TOT_SALES         264834 non-null  float64\n",
      " 8   PACK_SIZE         264834 non-null  int64  \n",
      " 9   BRAND             264834 non-null  object \n",
      " 10  LIFESTAGE         264834 non-null  object \n",
      " 11  PREMIUM_CUSTOMER  264834 non-null  object \n",
      "dtypes: float64(1), int64(6), object(5)\n",
      "memory usage: 24.2+ MB\n"
     ]
    }
   ],
   "execution_count": 4
  },
  {
   "cell_type": "code",
   "id": "6dcacd0f",
   "metadata": {
    "ExecuteTime": {
     "end_time": "2024-06-19T01:31:12.728964Z",
     "start_time": "2024-06-19T01:31:12.650249Z"
    }
   },
   "source": [
    "data['DATE'] = pd.to_datetime(data['DATE'])\n",
    "data['YM'] = data.DATE.dt.to_period('M')\n",
    "data.head()"
   ],
   "outputs": [
    {
     "data": {
      "text/plain": [
       "   LYLTY_CARD_NBR       DATE  STORE_NBR  TXN_ID  PROD_NBR  \\\n",
       "0            1000 2018-10-17          1       1         5   \n",
       "1            1002 2018-09-16          1       2        58   \n",
       "2            1003 2019-03-07          1       3        52   \n",
       "3            1003 2019-03-08          1       4       106   \n",
       "4            1004 2018-11-02          1       5        96   \n",
       "\n",
       "                                PROD_NAME  PROD_QTY  TOT_SALES  PACK_SIZE  \\\n",
       "0  Natural Chip        Compny SeaSalt175g         2        6.0        175   \n",
       "1   Red Rock Deli Chikn&Garlic Aioli 150g         1        2.7        150   \n",
       "2   Grain Waves Sour    Cream&Chives 210G         1        3.6        210   \n",
       "3  Natural ChipCo      Hony Soy Chckn175g         1        3.0        175   \n",
       "4          WW Original Stacked Chips 160g         1        1.9        160   \n",
       "\n",
       "        BRAND              LIFESTAGE PREMIUM_CUSTOMER       YM  \n",
       "0     NATURAL  YOUNG SINGLES/COUPLES          Premium  2018-10  \n",
       "1         RRD  YOUNG SINGLES/COUPLES       Mainstream  2018-09  \n",
       "2     GRNWVES         YOUNG FAMILIES           Budget  2019-03  \n",
       "3     NATURAL         YOUNG FAMILIES           Budget  2019-03  \n",
       "4  WOOLWORTHS  OLDER SINGLES/COUPLES       Mainstream  2018-11  "
      ],
      "text/html": [
       "<div>\n",
       "<style scoped>\n",
       "    .dataframe tbody tr th:only-of-type {\n",
       "        vertical-align: middle;\n",
       "    }\n",
       "\n",
       "    .dataframe tbody tr th {\n",
       "        vertical-align: top;\n",
       "    }\n",
       "\n",
       "    .dataframe thead th {\n",
       "        text-align: right;\n",
       "    }\n",
       "</style>\n",
       "<table border=\"1\" class=\"dataframe\">\n",
       "  <thead>\n",
       "    <tr style=\"text-align: right;\">\n",
       "      <th></th>\n",
       "      <th>LYLTY_CARD_NBR</th>\n",
       "      <th>DATE</th>\n",
       "      <th>STORE_NBR</th>\n",
       "      <th>TXN_ID</th>\n",
       "      <th>PROD_NBR</th>\n",
       "      <th>PROD_NAME</th>\n",
       "      <th>PROD_QTY</th>\n",
       "      <th>TOT_SALES</th>\n",
       "      <th>PACK_SIZE</th>\n",
       "      <th>BRAND</th>\n",
       "      <th>LIFESTAGE</th>\n",
       "      <th>PREMIUM_CUSTOMER</th>\n",
       "      <th>YM</th>\n",
       "    </tr>\n",
       "  </thead>\n",
       "  <tbody>\n",
       "    <tr>\n",
       "      <th>0</th>\n",
       "      <td>1000</td>\n",
       "      <td>2018-10-17</td>\n",
       "      <td>1</td>\n",
       "      <td>1</td>\n",
       "      <td>5</td>\n",
       "      <td>Natural Chip        Compny SeaSalt175g</td>\n",
       "      <td>2</td>\n",
       "      <td>6.0</td>\n",
       "      <td>175</td>\n",
       "      <td>NATURAL</td>\n",
       "      <td>YOUNG SINGLES/COUPLES</td>\n",
       "      <td>Premium</td>\n",
       "      <td>2018-10</td>\n",
       "    </tr>\n",
       "    <tr>\n",
       "      <th>1</th>\n",
       "      <td>1002</td>\n",
       "      <td>2018-09-16</td>\n",
       "      <td>1</td>\n",
       "      <td>2</td>\n",
       "      <td>58</td>\n",
       "      <td>Red Rock Deli Chikn&amp;Garlic Aioli 150g</td>\n",
       "      <td>1</td>\n",
       "      <td>2.7</td>\n",
       "      <td>150</td>\n",
       "      <td>RRD</td>\n",
       "      <td>YOUNG SINGLES/COUPLES</td>\n",
       "      <td>Mainstream</td>\n",
       "      <td>2018-09</td>\n",
       "    </tr>\n",
       "    <tr>\n",
       "      <th>2</th>\n",
       "      <td>1003</td>\n",
       "      <td>2019-03-07</td>\n",
       "      <td>1</td>\n",
       "      <td>3</td>\n",
       "      <td>52</td>\n",
       "      <td>Grain Waves Sour    Cream&amp;Chives 210G</td>\n",
       "      <td>1</td>\n",
       "      <td>3.6</td>\n",
       "      <td>210</td>\n",
       "      <td>GRNWVES</td>\n",
       "      <td>YOUNG FAMILIES</td>\n",
       "      <td>Budget</td>\n",
       "      <td>2019-03</td>\n",
       "    </tr>\n",
       "    <tr>\n",
       "      <th>3</th>\n",
       "      <td>1003</td>\n",
       "      <td>2019-03-08</td>\n",
       "      <td>1</td>\n",
       "      <td>4</td>\n",
       "      <td>106</td>\n",
       "      <td>Natural ChipCo      Hony Soy Chckn175g</td>\n",
       "      <td>1</td>\n",
       "      <td>3.0</td>\n",
       "      <td>175</td>\n",
       "      <td>NATURAL</td>\n",
       "      <td>YOUNG FAMILIES</td>\n",
       "      <td>Budget</td>\n",
       "      <td>2019-03</td>\n",
       "    </tr>\n",
       "    <tr>\n",
       "      <th>4</th>\n",
       "      <td>1004</td>\n",
       "      <td>2018-11-02</td>\n",
       "      <td>1</td>\n",
       "      <td>5</td>\n",
       "      <td>96</td>\n",
       "      <td>WW Original Stacked Chips 160g</td>\n",
       "      <td>1</td>\n",
       "      <td>1.9</td>\n",
       "      <td>160</td>\n",
       "      <td>WOOLWORTHS</td>\n",
       "      <td>OLDER SINGLES/COUPLES</td>\n",
       "      <td>Mainstream</td>\n",
       "      <td>2018-11</td>\n",
       "    </tr>\n",
       "  </tbody>\n",
       "</table>\n",
       "</div>"
      ]
     },
     "execution_count": 5,
     "metadata": {},
     "output_type": "execute_result"
    }
   ],
   "execution_count": 5
  },
  {
   "cell_type": "code",
   "id": "97bccf49",
   "metadata": {
    "ExecuteTime": {
     "end_time": "2024-06-19T01:31:12.756529Z",
     "start_time": "2024-06-19T01:31:12.730373Z"
    }
   },
   "source": [
    "set(data.BRAND)"
   ],
   "outputs": [
    {
     "data": {
      "text/plain": [
       "{'BURGER',\n",
       " 'CCS',\n",
       " 'CHEETOS',\n",
       " 'CHEEZELS',\n",
       " 'COBS',\n",
       " 'DORITOS',\n",
       " 'FRENCH',\n",
       " 'GRNWVES',\n",
       " 'INFUZIONS',\n",
       " 'KETTLE',\n",
       " 'NATURAL',\n",
       " 'OLD',\n",
       " 'PRINGLES',\n",
       " 'RRD',\n",
       " 'SMITHS',\n",
       " 'SUNBITES',\n",
       " 'THINS',\n",
       " 'TOSTITOS',\n",
       " 'TWISTIES',\n",
       " 'TYRRELLS',\n",
       " 'WOOLWORTHS'}"
      ]
     },
     "execution_count": 6,
     "metadata": {},
     "output_type": "execute_result"
    }
   ],
   "execution_count": 6
  },
  {
   "cell_type": "code",
   "id": "1ecc3716",
   "metadata": {
    "ExecuteTime": {
     "end_time": "2024-06-19T01:31:12.823751Z",
     "start_time": "2024-06-19T01:31:12.757771Z"
    }
   },
   "source": [
    "data.describe()"
   ],
   "outputs": [
    {
     "data": {
      "text/plain": [
       "       LYLTY_CARD_NBR      STORE_NBR        TXN_ID       PROD_NBR  \\\n",
       "count    2.648340e+05  264834.000000  2.648340e+05  264834.000000   \n",
       "mean     1.355488e+05     135.079423  1.351576e+05      56.583554   \n",
       "std      8.057990e+04      76.784063  7.813292e+04      32.826444   \n",
       "min      1.000000e+03       1.000000  1.000000e+00       1.000000   \n",
       "25%      7.002100e+04      70.000000  6.760050e+04      28.000000   \n",
       "50%      1.303570e+05     130.000000  1.351365e+05      56.000000   \n",
       "75%      2.030940e+05     203.000000  2.026998e+05      85.000000   \n",
       "max      2.373711e+06     272.000000  2.415841e+06     114.000000   \n",
       "\n",
       "            PROD_QTY      TOT_SALES      PACK_SIZE  \n",
       "count  264834.000000  264834.000000  264834.000000  \n",
       "mean        1.905813       7.299346     182.425512  \n",
       "std         0.343436       2.527241      64.325148  \n",
       "min         1.000000       1.500000      70.000000  \n",
       "25%         2.000000       5.400000     150.000000  \n",
       "50%         2.000000       7.400000     170.000000  \n",
       "75%         2.000000       9.200000     175.000000  \n",
       "max         5.000000      29.500000     380.000000  "
      ],
      "text/html": [
       "<div>\n",
       "<style scoped>\n",
       "    .dataframe tbody tr th:only-of-type {\n",
       "        vertical-align: middle;\n",
       "    }\n",
       "\n",
       "    .dataframe tbody tr th {\n",
       "        vertical-align: top;\n",
       "    }\n",
       "\n",
       "    .dataframe thead th {\n",
       "        text-align: right;\n",
       "    }\n",
       "</style>\n",
       "<table border=\"1\" class=\"dataframe\">\n",
       "  <thead>\n",
       "    <tr style=\"text-align: right;\">\n",
       "      <th></th>\n",
       "      <th>LYLTY_CARD_NBR</th>\n",
       "      <th>STORE_NBR</th>\n",
       "      <th>TXN_ID</th>\n",
       "      <th>PROD_NBR</th>\n",
       "      <th>PROD_QTY</th>\n",
       "      <th>TOT_SALES</th>\n",
       "      <th>PACK_SIZE</th>\n",
       "    </tr>\n",
       "  </thead>\n",
       "  <tbody>\n",
       "    <tr>\n",
       "      <th>count</th>\n",
       "      <td>2.648340e+05</td>\n",
       "      <td>264834.000000</td>\n",
       "      <td>2.648340e+05</td>\n",
       "      <td>264834.000000</td>\n",
       "      <td>264834.000000</td>\n",
       "      <td>264834.000000</td>\n",
       "      <td>264834.000000</td>\n",
       "    </tr>\n",
       "    <tr>\n",
       "      <th>mean</th>\n",
       "      <td>1.355488e+05</td>\n",
       "      <td>135.079423</td>\n",
       "      <td>1.351576e+05</td>\n",
       "      <td>56.583554</td>\n",
       "      <td>1.905813</td>\n",
       "      <td>7.299346</td>\n",
       "      <td>182.425512</td>\n",
       "    </tr>\n",
       "    <tr>\n",
       "      <th>std</th>\n",
       "      <td>8.057990e+04</td>\n",
       "      <td>76.784063</td>\n",
       "      <td>7.813292e+04</td>\n",
       "      <td>32.826444</td>\n",
       "      <td>0.343436</td>\n",
       "      <td>2.527241</td>\n",
       "      <td>64.325148</td>\n",
       "    </tr>\n",
       "    <tr>\n",
       "      <th>min</th>\n",
       "      <td>1.000000e+03</td>\n",
       "      <td>1.000000</td>\n",
       "      <td>1.000000e+00</td>\n",
       "      <td>1.000000</td>\n",
       "      <td>1.000000</td>\n",
       "      <td>1.500000</td>\n",
       "      <td>70.000000</td>\n",
       "    </tr>\n",
       "    <tr>\n",
       "      <th>25%</th>\n",
       "      <td>7.002100e+04</td>\n",
       "      <td>70.000000</td>\n",
       "      <td>6.760050e+04</td>\n",
       "      <td>28.000000</td>\n",
       "      <td>2.000000</td>\n",
       "      <td>5.400000</td>\n",
       "      <td>150.000000</td>\n",
       "    </tr>\n",
       "    <tr>\n",
       "      <th>50%</th>\n",
       "      <td>1.303570e+05</td>\n",
       "      <td>130.000000</td>\n",
       "      <td>1.351365e+05</td>\n",
       "      <td>56.000000</td>\n",
       "      <td>2.000000</td>\n",
       "      <td>7.400000</td>\n",
       "      <td>170.000000</td>\n",
       "    </tr>\n",
       "    <tr>\n",
       "      <th>75%</th>\n",
       "      <td>2.030940e+05</td>\n",
       "      <td>203.000000</td>\n",
       "      <td>2.026998e+05</td>\n",
       "      <td>85.000000</td>\n",
       "      <td>2.000000</td>\n",
       "      <td>9.200000</td>\n",
       "      <td>175.000000</td>\n",
       "    </tr>\n",
       "    <tr>\n",
       "      <th>max</th>\n",
       "      <td>2.373711e+06</td>\n",
       "      <td>272.000000</td>\n",
       "      <td>2.415841e+06</td>\n",
       "      <td>114.000000</td>\n",
       "      <td>5.000000</td>\n",
       "      <td>29.500000</td>\n",
       "      <td>380.000000</td>\n",
       "    </tr>\n",
       "  </tbody>\n",
       "</table>\n",
       "</div>"
      ]
     },
     "execution_count": 7,
     "metadata": {},
     "output_type": "execute_result"
    }
   ],
   "execution_count": 7
  },
  {
   "cell_type": "code",
   "id": "152808cd",
   "metadata": {
    "ExecuteTime": {
     "end_time": "2024-06-19T01:31:13.797002Z",
     "start_time": "2024-06-19T01:31:12.828905Z"
    }
   },
   "source": [
    "data[data.duplicated(keep='last')]\n"
   ],
   "outputs": [
    {
     "data": {
      "text/plain": [
       "        LYLTY_CARD_NBR       DATE  STORE_NBR  TXN_ID  PROD_NBR  \\\n",
       "106247          107024 2018-10-01        107  108462        45   \n",
       "\n",
       "                                     PROD_NAME  PROD_QTY  TOT_SALES  \\\n",
       "106247  Smiths Thinly Cut   Roast Chicken 175g         2        6.0   \n",
       "\n",
       "        PACK_SIZE   BRAND              LIFESTAGE PREMIUM_CUSTOMER       YM  \n",
       "106247        175  SMITHS  OLDER SINGLES/COUPLES          Premium  2018-10  "
      ],
      "text/html": [
       "<div>\n",
       "<style scoped>\n",
       "    .dataframe tbody tr th:only-of-type {\n",
       "        vertical-align: middle;\n",
       "    }\n",
       "\n",
       "    .dataframe tbody tr th {\n",
       "        vertical-align: top;\n",
       "    }\n",
       "\n",
       "    .dataframe thead th {\n",
       "        text-align: right;\n",
       "    }\n",
       "</style>\n",
       "<table border=\"1\" class=\"dataframe\">\n",
       "  <thead>\n",
       "    <tr style=\"text-align: right;\">\n",
       "      <th></th>\n",
       "      <th>LYLTY_CARD_NBR</th>\n",
       "      <th>DATE</th>\n",
       "      <th>STORE_NBR</th>\n",
       "      <th>TXN_ID</th>\n",
       "      <th>PROD_NBR</th>\n",
       "      <th>PROD_NAME</th>\n",
       "      <th>PROD_QTY</th>\n",
       "      <th>TOT_SALES</th>\n",
       "      <th>PACK_SIZE</th>\n",
       "      <th>BRAND</th>\n",
       "      <th>LIFESTAGE</th>\n",
       "      <th>PREMIUM_CUSTOMER</th>\n",
       "      <th>YM</th>\n",
       "    </tr>\n",
       "  </thead>\n",
       "  <tbody>\n",
       "    <tr>\n",
       "      <th>106247</th>\n",
       "      <td>107024</td>\n",
       "      <td>2018-10-01</td>\n",
       "      <td>107</td>\n",
       "      <td>108462</td>\n",
       "      <td>45</td>\n",
       "      <td>Smiths Thinly Cut   Roast Chicken 175g</td>\n",
       "      <td>2</td>\n",
       "      <td>6.0</td>\n",
       "      <td>175</td>\n",
       "      <td>SMITHS</td>\n",
       "      <td>OLDER SINGLES/COUPLES</td>\n",
       "      <td>Premium</td>\n",
       "      <td>2018-10</td>\n",
       "    </tr>\n",
       "  </tbody>\n",
       "</table>\n",
       "</div>"
      ]
     },
     "execution_count": 8,
     "metadata": {},
     "output_type": "execute_result"
    }
   ],
   "execution_count": 8
  },
  {
   "cell_type": "code",
   "id": "12609b4a",
   "metadata": {
    "ExecuteTime": {
     "end_time": "2024-06-19T01:31:14.806980Z",
     "start_time": "2024-06-19T01:31:13.799125Z"
    }
   },
   "source": [
    "df= data.drop_duplicates()\n"
   ],
   "outputs": [],
   "execution_count": 9
  },
  {
   "cell_type": "code",
   "id": "8c6acf1f",
   "metadata": {
    "ExecuteTime": {
     "end_time": "2024-06-19T01:31:16.002354Z",
     "start_time": "2024-06-19T01:31:14.809545Z"
    }
   },
   "source": "df[df.duplicated(keep='last')].shape\n",
   "outputs": [
    {
     "data": {
      "text/plain": [
       "(0, 13)"
      ]
     },
     "execution_count": 10,
     "metadata": {},
     "output_type": "execute_result"
    }
   ],
   "execution_count": 10
  },
  {
   "cell_type": "markdown",
   "id": "e0327d81",
   "metadata": {},
   "source": [
    "### 1.2 Define Metrics"
   ]
  },
  {
   "cell_type": "code",
   "id": "f50bd126",
   "metadata": {
    "scrolled": true,
    "ExecuteTime": {
     "end_time": "2024-06-19T01:31:16.042372Z",
     "start_time": "2024-06-19T01:31:16.004645Z"
    }
   },
   "source": [
    "#For each store and month calculate total sales, number of customers, \n",
    "# transactions per customer, chips per customer and the average price per unit.\n",
    "data = df.copy()\n",
    "def monthly_measure_metric():\n",
    "    measureOverTime = data.groupby([\"STORE_NBR\", \"YM\"]).agg(\n",
    "        totSales = (\"TOT_SALES\", np.sum),\n",
    "        nCustomers = (\"LYLTY_CARD_NBR\", lambda x: x.nunique()),\n",
    "        nTxn = (\"TXN_ID\", lambda x: x.nunique()),\n",
    "        totProd = (\"PROD_QTY\", np.sum)\n",
    "    )\n",
    "\n",
    "    measureOverTime = measureOverTime.assign(nTxnPerCust = measureOverTime['nTxn'] / measureOverTime['nCustomers'],\n",
    "                        nChipsPerTxn = measureOverTime['totProd']/measureOverTime['nTxn'],\n",
    "                         avgPricePerUnit = measureOverTime['totSales']/measureOverTime['totProd'] ).drop(columns = [\"nTxn\", \"totProd\"])\n",
    "\n",
    "\n",
    "    measureOverTime = measureOverTime.reset_index().sort_values(by = ['STORE_NBR','YM'])\n",
    "    return measureOverTime\n",
    "\n"
   ],
   "outputs": [],
   "execution_count": 11
  },
  {
   "cell_type": "code",
   "id": "2aa3e87a",
   "metadata": {
    "ExecuteTime": {
     "end_time": "2024-06-19T01:31:17.021270Z",
     "start_time": "2024-06-19T01:31:16.044444Z"
    }
   },
   "source": [
    "\n",
    "qvi_metric = monthly_measure_metric()\n",
    "qvi_metric.info()"
   ],
   "outputs": [
    {
     "name": "stdout",
     "output_type": "stream",
     "text": [
      "<class 'pandas.core.frame.DataFrame'>\n",
      "Int64Index: 3169 entries, 0 to 3168\n",
      "Data columns (total 7 columns):\n",
      " #   Column           Non-Null Count  Dtype    \n",
      "---  ------           --------------  -----    \n",
      " 0   STORE_NBR        3169 non-null   int64    \n",
      " 1   YM               3169 non-null   period[M]\n",
      " 2   totSales         3169 non-null   float64  \n",
      " 3   nCustomers       3169 non-null   int64    \n",
      " 4   nTxnPerCust      3169 non-null   float64  \n",
      " 5   nChipsPerTxn     3169 non-null   float64  \n",
      " 6   avgPricePerUnit  3169 non-null   float64  \n",
      "dtypes: float64(4), int64(2), period[M](1)\n",
      "memory usage: 198.1 KB\n"
     ]
    }
   ],
   "execution_count": 12
  },
  {
   "cell_type": "code",
   "id": "adcb0f81",
   "metadata": {
    "ExecuteTime": {
     "end_time": "2024-06-19T01:31:17.077023Z",
     "start_time": "2024-06-19T01:31:17.023925Z"
    }
   },
   "source": [
    "### Filter to the pre‐trial period and stores with full observation periods \n",
    "result1 = qvi_metric['STORE_NBR'].value_counts()\n",
    "print(set(result1))\n",
    "### choose the store that has 12 month records\n",
    "storesWithFullObs = result1[result1==12].index.unique().tolist()\n",
    "full_observ = qvi_metric[qvi_metric['STORE_NBR'].isin(storesWithFullObs)]\n",
    "full_observ.head(10)"
   ],
   "outputs": [
    {
     "name": "stdout",
     "output_type": "stream",
     "text": [
      "{1, 2, 3, 11, 12}\n"
     ]
    },
    {
     "data": {
      "text/plain": [
       "   STORE_NBR       YM  totSales  nCustomers  nTxnPerCust  nChipsPerTxn  \\\n",
       "0          1  2018-07     206.9          49     1.061224      1.192308   \n",
       "1          1  2018-08     176.1          42     1.023810      1.255814   \n",
       "2          1  2018-09     278.8          59     1.050847      1.209677   \n",
       "3          1  2018-10     188.1          44     1.022727      1.288889   \n",
       "4          1  2018-11     192.6          46     1.021739      1.212766   \n",
       "5          1  2018-12     189.6          42     1.119048      1.212766   \n",
       "6          1  2019-01     154.8          35     1.028571      1.166667   \n",
       "7          1  2019-02     225.4          52     1.057692      1.181818   \n",
       "8          1  2019-03     192.9          45     1.088889      1.183673   \n",
       "9          1  2019-04     192.9          42     1.023810      1.325581   \n",
       "\n",
       "   avgPricePerUnit  \n",
       "0         3.337097  \n",
       "1         3.261111  \n",
       "2         3.717333  \n",
       "3         3.243103  \n",
       "4         3.378947  \n",
       "5         3.326316  \n",
       "6         3.685714  \n",
       "7         3.467692  \n",
       "8         3.325862  \n",
       "9         3.384211  "
      ],
      "text/html": [
       "<div>\n",
       "<style scoped>\n",
       "    .dataframe tbody tr th:only-of-type {\n",
       "        vertical-align: middle;\n",
       "    }\n",
       "\n",
       "    .dataframe tbody tr th {\n",
       "        vertical-align: top;\n",
       "    }\n",
       "\n",
       "    .dataframe thead th {\n",
       "        text-align: right;\n",
       "    }\n",
       "</style>\n",
       "<table border=\"1\" class=\"dataframe\">\n",
       "  <thead>\n",
       "    <tr style=\"text-align: right;\">\n",
       "      <th></th>\n",
       "      <th>STORE_NBR</th>\n",
       "      <th>YM</th>\n",
       "      <th>totSales</th>\n",
       "      <th>nCustomers</th>\n",
       "      <th>nTxnPerCust</th>\n",
       "      <th>nChipsPerTxn</th>\n",
       "      <th>avgPricePerUnit</th>\n",
       "    </tr>\n",
       "  </thead>\n",
       "  <tbody>\n",
       "    <tr>\n",
       "      <th>0</th>\n",
       "      <td>1</td>\n",
       "      <td>2018-07</td>\n",
       "      <td>206.9</td>\n",
       "      <td>49</td>\n",
       "      <td>1.061224</td>\n",
       "      <td>1.192308</td>\n",
       "      <td>3.337097</td>\n",
       "    </tr>\n",
       "    <tr>\n",
       "      <th>1</th>\n",
       "      <td>1</td>\n",
       "      <td>2018-08</td>\n",
       "      <td>176.1</td>\n",
       "      <td>42</td>\n",
       "      <td>1.023810</td>\n",
       "      <td>1.255814</td>\n",
       "      <td>3.261111</td>\n",
       "    </tr>\n",
       "    <tr>\n",
       "      <th>2</th>\n",
       "      <td>1</td>\n",
       "      <td>2018-09</td>\n",
       "      <td>278.8</td>\n",
       "      <td>59</td>\n",
       "      <td>1.050847</td>\n",
       "      <td>1.209677</td>\n",
       "      <td>3.717333</td>\n",
       "    </tr>\n",
       "    <tr>\n",
       "      <th>3</th>\n",
       "      <td>1</td>\n",
       "      <td>2018-10</td>\n",
       "      <td>188.1</td>\n",
       "      <td>44</td>\n",
       "      <td>1.022727</td>\n",
       "      <td>1.288889</td>\n",
       "      <td>3.243103</td>\n",
       "    </tr>\n",
       "    <tr>\n",
       "      <th>4</th>\n",
       "      <td>1</td>\n",
       "      <td>2018-11</td>\n",
       "      <td>192.6</td>\n",
       "      <td>46</td>\n",
       "      <td>1.021739</td>\n",
       "      <td>1.212766</td>\n",
       "      <td>3.378947</td>\n",
       "    </tr>\n",
       "    <tr>\n",
       "      <th>5</th>\n",
       "      <td>1</td>\n",
       "      <td>2018-12</td>\n",
       "      <td>189.6</td>\n",
       "      <td>42</td>\n",
       "      <td>1.119048</td>\n",
       "      <td>1.212766</td>\n",
       "      <td>3.326316</td>\n",
       "    </tr>\n",
       "    <tr>\n",
       "      <th>6</th>\n",
       "      <td>1</td>\n",
       "      <td>2019-01</td>\n",
       "      <td>154.8</td>\n",
       "      <td>35</td>\n",
       "      <td>1.028571</td>\n",
       "      <td>1.166667</td>\n",
       "      <td>3.685714</td>\n",
       "    </tr>\n",
       "    <tr>\n",
       "      <th>7</th>\n",
       "      <td>1</td>\n",
       "      <td>2019-02</td>\n",
       "      <td>225.4</td>\n",
       "      <td>52</td>\n",
       "      <td>1.057692</td>\n",
       "      <td>1.181818</td>\n",
       "      <td>3.467692</td>\n",
       "    </tr>\n",
       "    <tr>\n",
       "      <th>8</th>\n",
       "      <td>1</td>\n",
       "      <td>2019-03</td>\n",
       "      <td>192.9</td>\n",
       "      <td>45</td>\n",
       "      <td>1.088889</td>\n",
       "      <td>1.183673</td>\n",
       "      <td>3.325862</td>\n",
       "    </tr>\n",
       "    <tr>\n",
       "      <th>9</th>\n",
       "      <td>1</td>\n",
       "      <td>2019-04</td>\n",
       "      <td>192.9</td>\n",
       "      <td>42</td>\n",
       "      <td>1.023810</td>\n",
       "      <td>1.325581</td>\n",
       "      <td>3.384211</td>\n",
       "    </tr>\n",
       "  </tbody>\n",
       "</table>\n",
       "</div>"
      ]
     },
     "execution_count": 13,
     "metadata": {},
     "output_type": "execute_result"
    }
   ],
   "execution_count": 13
  },
  {
   "cell_type": "code",
   "id": "8edcf3b2",
   "metadata": {
    "ExecuteTime": {
     "end_time": "2024-06-19T01:31:17.095489Z",
     "start_time": "2024-06-19T01:31:17.079205Z"
    }
   },
   "source": [
    "### filter to the pre-trial obser\n",
    "preTrial_full_observ = full_observ.loc[(full_observ['YM']< '2019-03')]\n",
    "preTrial_full_observ.info()"
   ],
   "outputs": [
    {
     "name": "stdout",
     "output_type": "stream",
     "text": [
      "<class 'pandas.core.frame.DataFrame'>\n",
      "Int64Index: 2080 entries, 0 to 3164\n",
      "Data columns (total 7 columns):\n",
      " #   Column           Non-Null Count  Dtype    \n",
      "---  ------           --------------  -----    \n",
      " 0   STORE_NBR        2080 non-null   int64    \n",
      " 1   YM               2080 non-null   period[M]\n",
      " 2   totSales         2080 non-null   float64  \n",
      " 3   nCustomers       2080 non-null   int64    \n",
      " 4   nTxnPerCust      2080 non-null   float64  \n",
      " 5   nChipsPerTxn     2080 non-null   float64  \n",
      " 6   avgPricePerUnit  2080 non-null   float64  \n",
      "dtypes: float64(4), int64(2), period[M](1)\n",
      "memory usage: 130.0 KB\n"
     ]
    }
   ],
   "execution_count": 14
  },
  {
   "cell_type": "code",
   "id": "2c8ecff0",
   "metadata": {
    "ExecuteTime": {
     "end_time": "2024-06-19T01:31:17.102249Z",
     "start_time": "2024-06-19T01:31:17.097580Z"
    }
   },
   "source": [
    "##all data with full observation periods\n",
    "print(full_observ.shape)\n",
    "\n",
    "##pretrial period with all store_NBR\n",
    "print(preTrial_full_observ.shape)"
   ],
   "outputs": [
    {
     "name": "stdout",
     "output_type": "stream",
     "text": [
      "(3120, 7)\n",
      "(2080, 7)\n"
     ]
    }
   ],
   "execution_count": 15
  },
  {
   "cell_type": "code",
   "id": "57d8914f",
   "metadata": {
    "ExecuteTime": {
     "end_time": "2024-06-19T01:31:17.112482Z",
     "start_time": "2024-06-19T01:31:17.104703Z"
    }
   },
   "source": [
    "def calculate_correlation(input_table, metric_col, store_comparison):\n",
    "    \n",
    "    calc_dist_table = pd.DataFrame(columns=[\"Control_store\", \"Trial_store\", \"Corr_measure\"])\n",
    "    \n",
    "\n",
    "    control_store_nbr = input_table[~input_table['STORE_NBR'].isin([77, 86, 88])]['STORE_NBR'].unique()\n",
    "    \n",
    "\n",
    "    for i in control_store_nbr:\n",
    "\n",
    "        control_store = input_table[input_table['STORE_NBR'] == i][metric_col].tolist()\n",
    "        trial_store = input_table[input_table['STORE_NBR'] == store_comparison][metric_col].tolist()\n",
    "        df_corr = pd.DataFrame({\n",
    "            'control_val':control_store,\n",
    "            'trial_val': trial_store\n",
    "        })\n",
    "        Corr_measure =  df_corr['control_val'].corr(df_corr['trial_val'])\n",
    "        \n",
    "        calculated_measure = pd.DataFrame({\n",
    "            \"Control_store\": [i],\n",
    "            \"Trial_store\": [store_comparison],\n",
    "            \"Corr_measure\": [Corr_measure]\n",
    "        })\n",
    "        \n",
    "\n",
    "        calc_dist_table = pd.concat([calc_dist_table, calculated_measure], ignore_index=True)\n",
    "        \n",
    "    \n",
    "    return calc_dist_table"
   ],
   "outputs": [],
   "execution_count": 16
  },
  {
   "cell_type": "code",
   "id": "c16d9cdf",
   "metadata": {
    "ExecuteTime": {
     "end_time": "2024-06-19T01:31:17.717340Z",
     "start_time": "2024-06-19T01:31:17.114845Z"
    }
   },
   "source": [
    "calculate_correlation(preTrial_full_observ, 'nCustomers', 77)\n"
   ],
   "outputs": [
    {
     "data": {
      "text/plain": [
       "    Control_store Trial_store  Corr_measure\n",
       "0               1          77      0.350572\n",
       "1               2          77     -0.455226\n",
       "2               3          77      0.756913\n",
       "3               4          77     -0.302046\n",
       "4               5          77      0.277619\n",
       "..            ...         ...           ...\n",
       "252           268          77      0.283287\n",
       "253           269          77     -0.492708\n",
       "254           270          77     -0.176932\n",
       "255           271          77     -0.056788\n",
       "256           272          77      0.238448\n",
       "\n",
       "[257 rows x 3 columns]"
      ],
      "text/html": [
       "<div>\n",
       "<style scoped>\n",
       "    .dataframe tbody tr th:only-of-type {\n",
       "        vertical-align: middle;\n",
       "    }\n",
       "\n",
       "    .dataframe tbody tr th {\n",
       "        vertical-align: top;\n",
       "    }\n",
       "\n",
       "    .dataframe thead th {\n",
       "        text-align: right;\n",
       "    }\n",
       "</style>\n",
       "<table border=\"1\" class=\"dataframe\">\n",
       "  <thead>\n",
       "    <tr style=\"text-align: right;\">\n",
       "      <th></th>\n",
       "      <th>Control_store</th>\n",
       "      <th>Trial_store</th>\n",
       "      <th>Corr_measure</th>\n",
       "    </tr>\n",
       "  </thead>\n",
       "  <tbody>\n",
       "    <tr>\n",
       "      <th>0</th>\n",
       "      <td>1</td>\n",
       "      <td>77</td>\n",
       "      <td>0.350572</td>\n",
       "    </tr>\n",
       "    <tr>\n",
       "      <th>1</th>\n",
       "      <td>2</td>\n",
       "      <td>77</td>\n",
       "      <td>-0.455226</td>\n",
       "    </tr>\n",
       "    <tr>\n",
       "      <th>2</th>\n",
       "      <td>3</td>\n",
       "      <td>77</td>\n",
       "      <td>0.756913</td>\n",
       "    </tr>\n",
       "    <tr>\n",
       "      <th>3</th>\n",
       "      <td>4</td>\n",
       "      <td>77</td>\n",
       "      <td>-0.302046</td>\n",
       "    </tr>\n",
       "    <tr>\n",
       "      <th>4</th>\n",
       "      <td>5</td>\n",
       "      <td>77</td>\n",
       "      <td>0.277619</td>\n",
       "    </tr>\n",
       "    <tr>\n",
       "      <th>...</th>\n",
       "      <td>...</td>\n",
       "      <td>...</td>\n",
       "      <td>...</td>\n",
       "    </tr>\n",
       "    <tr>\n",
       "      <th>252</th>\n",
       "      <td>268</td>\n",
       "      <td>77</td>\n",
       "      <td>0.283287</td>\n",
       "    </tr>\n",
       "    <tr>\n",
       "      <th>253</th>\n",
       "      <td>269</td>\n",
       "      <td>77</td>\n",
       "      <td>-0.492708</td>\n",
       "    </tr>\n",
       "    <tr>\n",
       "      <th>254</th>\n",
       "      <td>270</td>\n",
       "      <td>77</td>\n",
       "      <td>-0.176932</td>\n",
       "    </tr>\n",
       "    <tr>\n",
       "      <th>255</th>\n",
       "      <td>271</td>\n",
       "      <td>77</td>\n",
       "      <td>-0.056788</td>\n",
       "    </tr>\n",
       "    <tr>\n",
       "      <th>256</th>\n",
       "      <td>272</td>\n",
       "      <td>77</td>\n",
       "      <td>0.238448</td>\n",
       "    </tr>\n",
       "  </tbody>\n",
       "</table>\n",
       "<p>257 rows × 3 columns</p>\n",
       "</div>"
      ]
     },
     "execution_count": 17,
     "metadata": {},
     "output_type": "execute_result"
    }
   ],
   "execution_count": 17
  },
  {
   "cell_type": "code",
   "id": "96bcf12f",
   "metadata": {
    "ExecuteTime": {
     "end_time": "2024-06-19T01:31:17.729971Z",
     "start_time": "2024-06-19T01:31:17.719515Z"
    }
   },
   "source": [
    "#### Create a function to calculate a standardised magnitude distance for a measure,\n",
    "#### looping through each control store\n",
    "\n",
    "def calculateMagnitudeDistance(inputTable, metricCol, storeComparison):\n",
    "    calcDistTable = pd.DataFrame(columns = [ \"Control_store\", \"Trial_store\", \"YearMonth\", 'Measure'])\n",
    "    control_store_nbr = inputTable[~inputTable['STORE_NBR'].isin([77, 86, 88])]['STORE_NBR'].unique()\n",
    "    \n",
    "    for i in control_store_nbr:\n",
    "        \n",
    "        control_store = inputTable[inputTable['STORE_NBR'] == i][[metricCol, 'YM']]\n",
    "        trial_store = inputTable[inputTable['STORE_NBR'] == storeComparison][[metricCol, 'YM']]\n",
    "        \n",
    "        merged_data = pd.merge(control_store, trial_store, on='YM', suffixes=('_control', '_trial'))\n",
    "       \n",
    "        merged_data['Measure'] = abs(merged_data[metricCol + '_control'] - merged_data[metricCol + '_trial'])\n",
    "        \n",
    "        calculated_measure = pd.DataFrame({\n",
    "            \"Control_store\": i,\n",
    "            \"Trial_store\": storeComparison,\n",
    "            \"YearMonth\": merged_data['YM'],\n",
    "            \"Measure\": merged_data['Measure']\n",
    "        })\n",
    "        \n",
    "        calcDistTable = pd.concat([calcDistTable, calculated_measure], ignore_index=True)\n",
    "    \n",
    "    min_max_dist = calcDistTable.groupby(['Trial_store', 'YearMonth']).agg(minDist=('Measure', 'min'), maxDist=('Measure', 'max')).reset_index()\n",
    "        \n",
    "    distTable = pd.merge(calcDistTable, min_max_dist, on = ['Trial_store', 'YearMonth'])\n",
    "\n",
    "    distTable['magnitudeMeasure'] = 1 - (distTable['Measure'] - distTable['minDist']) / (distTable['maxDist'] - distTable['minDist'])\n",
    "    finalDistTable = distTable.groupby(['Control_store', 'Trial_store'])['magnitudeMeasure'].mean().reset_index()\n",
    "    #final_dist_table = dist_table.groupby(['Store1', 'Store2']).agg(mag_measure=('magnitudeMeasure', 'mean')).reset_index()\n",
    "       \n",
    "    return finalDistTable\n",
    "        \n"
   ],
   "outputs": [],
   "execution_count": 18
  },
  {
   "cell_type": "code",
   "id": "cde3abe7",
   "metadata": {
    "ExecuteTime": {
     "end_time": "2024-06-19T01:31:19.811327Z",
     "start_time": "2024-06-19T01:31:17.731886Z"
    }
   },
   "source": [
    "calculateMagnitudeDistance(preTrial_full_observ, 'nCustomers', 77)"
   ],
   "outputs": [
    {
     "data": {
      "text/plain": [
       "     Control_store  Trial_store  magnitudeMeasure\n",
       "0                1           77          0.936978\n",
       "1                2           77          0.909367\n",
       "2                3           77          0.317365\n",
       "3                4           77          0.219894\n",
       "4                5           77          0.481234\n",
       "..             ...          ...               ...\n",
       "252            268           77          0.933530\n",
       "253            269           77          0.336097\n",
       "254            270           77          0.362392\n",
       "255            271           77          0.484754\n",
       "256            272           77          0.954681\n",
       "\n",
       "[257 rows x 3 columns]"
      ],
      "text/html": [
       "<div>\n",
       "<style scoped>\n",
       "    .dataframe tbody tr th:only-of-type {\n",
       "        vertical-align: middle;\n",
       "    }\n",
       "\n",
       "    .dataframe tbody tr th {\n",
       "        vertical-align: top;\n",
       "    }\n",
       "\n",
       "    .dataframe thead th {\n",
       "        text-align: right;\n",
       "    }\n",
       "</style>\n",
       "<table border=\"1\" class=\"dataframe\">\n",
       "  <thead>\n",
       "    <tr style=\"text-align: right;\">\n",
       "      <th></th>\n",
       "      <th>Control_store</th>\n",
       "      <th>Trial_store</th>\n",
       "      <th>magnitudeMeasure</th>\n",
       "    </tr>\n",
       "  </thead>\n",
       "  <tbody>\n",
       "    <tr>\n",
       "      <th>0</th>\n",
       "      <td>1</td>\n",
       "      <td>77</td>\n",
       "      <td>0.936978</td>\n",
       "    </tr>\n",
       "    <tr>\n",
       "      <th>1</th>\n",
       "      <td>2</td>\n",
       "      <td>77</td>\n",
       "      <td>0.909367</td>\n",
       "    </tr>\n",
       "    <tr>\n",
       "      <th>2</th>\n",
       "      <td>3</td>\n",
       "      <td>77</td>\n",
       "      <td>0.317365</td>\n",
       "    </tr>\n",
       "    <tr>\n",
       "      <th>3</th>\n",
       "      <td>4</td>\n",
       "      <td>77</td>\n",
       "      <td>0.219894</td>\n",
       "    </tr>\n",
       "    <tr>\n",
       "      <th>4</th>\n",
       "      <td>5</td>\n",
       "      <td>77</td>\n",
       "      <td>0.481234</td>\n",
       "    </tr>\n",
       "    <tr>\n",
       "      <th>...</th>\n",
       "      <td>...</td>\n",
       "      <td>...</td>\n",
       "      <td>...</td>\n",
       "    </tr>\n",
       "    <tr>\n",
       "      <th>252</th>\n",
       "      <td>268</td>\n",
       "      <td>77</td>\n",
       "      <td>0.933530</td>\n",
       "    </tr>\n",
       "    <tr>\n",
       "      <th>253</th>\n",
       "      <td>269</td>\n",
       "      <td>77</td>\n",
       "      <td>0.336097</td>\n",
       "    </tr>\n",
       "    <tr>\n",
       "      <th>254</th>\n",
       "      <td>270</td>\n",
       "      <td>77</td>\n",
       "      <td>0.362392</td>\n",
       "    </tr>\n",
       "    <tr>\n",
       "      <th>255</th>\n",
       "      <td>271</td>\n",
       "      <td>77</td>\n",
       "      <td>0.484754</td>\n",
       "    </tr>\n",
       "    <tr>\n",
       "      <th>256</th>\n",
       "      <td>272</td>\n",
       "      <td>77</td>\n",
       "      <td>0.954681</td>\n",
       "    </tr>\n",
       "  </tbody>\n",
       "</table>\n",
       "<p>257 rows × 3 columns</p>\n",
       "</div>"
      ]
     },
     "execution_count": 19,
     "metadata": {},
     "output_type": "execute_result"
    }
   ],
   "execution_count": 19
  },
  {
   "cell_type": "code",
   "id": "016bd309",
   "metadata": {
    "ExecuteTime": {
     "end_time": "2024-06-19T01:31:19.817651Z",
     "start_time": "2024-06-19T01:31:19.812776Z"
    }
   },
   "source": [
    "def combine_corr_dist(inputTable, metricCol, storeComparison, corr_weight):\n",
    "    \n",
    "    corrs = calculate_correlation(input_table = inputTable, metric_col = metricCol, store_comparison = storeComparison)\n",
    "    dists = calculateMagnitudeDistance(inputTable = inputTable, metricCol = metricCol, storeComparison = storeComparison)\n",
    "    \n",
    "    combine = pd.merge(corrs, dists, on =[\"Control_store\", \"Trial_store\"])\n",
    "    combine['scoreNCust'] = combine[\"Corr_measure\"] * corr_weight + combine[\"magnitudeMeasure\"] * (1-corr_weight)\n",
    "    \n",
    "    \n",
    "    return combine"
   ],
   "outputs": [],
   "execution_count": 20
  },
  {
   "cell_type": "code",
   "id": "a1d21cac",
   "metadata": {
    "ExecuteTime": {
     "end_time": "2024-06-19T01:31:19.826368Z",
     "start_time": "2024-06-19T01:31:19.819352Z"
    }
   },
   "source": [
    "\n",
    "def get_final_result(trial_store):\n",
    "\n",
    "    combined_results = pd.DataFrame()\n",
    "    metrics = ['nCustomers', 'totSales']\n",
    "    \n",
    "    for metric in metrics:\n",
    "        result = combine_corr_dist(preTrial_full_observ, metric, trial_store, 0.5)\n",
    "        if combined_results.empty:\n",
    "            combined_results = result\n",
    "        else:\n",
    "            combined_results = pd.merge(result, combined_results, on=['Control_store', 'Trial_store'])\n",
    "\n",
    "    combined_results['finalControlScore'] = (\n",
    "        combined_results['scoreNCust_x'] * 0.5 + combined_results['scoreNCust_y'] * 0.5\n",
    "    )\n",
    "    \n",
    "    final_scores = combined_results.groupby(['Control_store', 'Trial_store'])['finalControlScore'].mean().reset_index()\n",
    "    \n",
    "\n",
    "    top_control_stores = final_scores.sort_values('finalControlScore', ascending=False)\n",
    "    top_control_stores = top_control_stores.groupby('Trial_store').head(1).sort_values(['Trial_store', 'finalControlScore'], ascending=False)\n",
    "    \n",
    "    control_store = top_control_stores['Control_store'].values[0]\n",
    "    \n",
    "    return f\"The control store is {control_store} for trial store {trial_store}\"\n"
   ],
   "outputs": [],
   "execution_count": 21
  },
  {
   "cell_type": "code",
   "id": "7eb29ee4",
   "metadata": {
    "ExecuteTime": {
     "end_time": "2024-06-19T01:31:33.943117Z",
     "start_time": "2024-06-19T01:31:19.828686Z"
    }
   },
   "source": [
    "for i in [77, 86, 88]:\n",
    "    print(get_final_result(i))"
   ],
   "outputs": [
    {
     "name": "stdout",
     "output_type": "stream",
     "text": [
      "The control store is 233 for trial store 77\n",
      "The control store is 155 for trial store 86\n",
      "The control store is 237 for trial store 88\n"
     ]
    }
   ],
   "execution_count": 22
  },
  {
   "cell_type": "markdown",
   "id": "00004e6e",
   "metadata": {},
   "source": [
    "Now that we have found a control store：\n",
    "\n",
    "Trial store 77: Control Store 233\n",
    "\n",
    "Trial store 86: Control Store 155\n",
    "\n",
    "Trial store 88: Control Store 237"
   ]
  },
  {
   "cell_type": "markdown",
   "id": "14177bb1",
   "metadata": {},
   "source": [
    "  "
   ]
  },
  {
   "cell_type": "markdown",
   "id": "d573f8ea",
   "metadata": {},
   "source": [
    "### 2. Analyze Trial Stores Against Controls."
   ]
  },
  {
   "cell_type": "code",
   "id": "63a550cd",
   "metadata": {
    "ExecuteTime": {
     "end_time": "2024-06-19T01:31:34.113811Z",
     "start_time": "2024-06-19T01:31:33.946968Z"
    }
   },
   "source": [
    "control_store = [233,155,237]\n",
    "trial_store = [88, 86, 77]\n",
    "\n",
    "comparison_date = pd.Period('2019-02', freq='M')\n",
    "preTrial_full_observ[\"Store_type\"] = 'Other'  # Default value for all rows\n",
    "    \n",
    "for index, row in preTrial_full_observ.iterrows():\n",
    "    if row['STORE_NBR'] in trial_store: \n",
    "        preTrial_full_observ.loc[index, \"Store_type\"] = 'Trail'\n",
    "        \n",
    "    elif row['STORE_NBR'] in control_store:\n",
    "        preTrial_full_observ.loc[index, \"Store_type\"] = 'Control'\n",
    "\n",
    "preTrial_full_observ"
   ],
   "outputs": [
    {
     "name": "stderr",
     "output_type": "stream",
     "text": [
      "/var/folders/qc/zvz1knc173n7lpbcfzncj0_h0000gn/T/ipykernel_15559/332612289.py:5: SettingWithCopyWarning: \n",
      "A value is trying to be set on a copy of a slice from a DataFrame.\n",
      "Try using .loc[row_indexer,col_indexer] = value instead\n",
      "\n",
      "See the caveats in the documentation: https://pandas.pydata.org/pandas-docs/stable/user_guide/indexing.html#returning-a-view-versus-a-copy\n",
      "  preTrial_full_observ[\"Store_type\"] = 'Other'  # Default value for all rows\n"
     ]
    },
    {
     "data": {
      "text/plain": [
       "      STORE_NBR       YM  totSales  nCustomers  nTxnPerCust  nChipsPerTxn  \\\n",
       "0             1  2018-07     206.9          49     1.061224      1.192308   \n",
       "1             1  2018-08     176.1          42     1.023810      1.255814   \n",
       "2             1  2018-09     278.8          59     1.050847      1.209677   \n",
       "3             1  2018-10     188.1          44     1.022727      1.288889   \n",
       "4             1  2018-11     192.6          46     1.021739      1.212766   \n",
       "...         ...      ...       ...         ...          ...           ...   \n",
       "3160        272  2018-10     430.6          44     1.136364      1.980000   \n",
       "3161        272  2018-11     376.2          41     1.097561      1.933333   \n",
       "3162        272  2018-12     403.9          47     1.000000      1.893617   \n",
       "3163        272  2019-01     423.0          46     1.086957      1.920000   \n",
       "3164        272  2019-02     395.5          45     1.066667      1.895833   \n",
       "\n",
       "      avgPricePerUnit Store_type  \n",
       "0            3.337097      Other  \n",
       "1            3.261111      Other  \n",
       "2            3.717333      Other  \n",
       "3            3.243103      Other  \n",
       "4            3.378947      Other  \n",
       "...               ...        ...  \n",
       "3160         4.349495      Other  \n",
       "3161         4.324138      Other  \n",
       "3162         4.538202      Other  \n",
       "3163         4.406250      Other  \n",
       "3164         4.346154      Other  \n",
       "\n",
       "[2080 rows x 8 columns]"
      ],
      "text/html": [
       "<div>\n",
       "<style scoped>\n",
       "    .dataframe tbody tr th:only-of-type {\n",
       "        vertical-align: middle;\n",
       "    }\n",
       "\n",
       "    .dataframe tbody tr th {\n",
       "        vertical-align: top;\n",
       "    }\n",
       "\n",
       "    .dataframe thead th {\n",
       "        text-align: right;\n",
       "    }\n",
       "</style>\n",
       "<table border=\"1\" class=\"dataframe\">\n",
       "  <thead>\n",
       "    <tr style=\"text-align: right;\">\n",
       "      <th></th>\n",
       "      <th>STORE_NBR</th>\n",
       "      <th>YM</th>\n",
       "      <th>totSales</th>\n",
       "      <th>nCustomers</th>\n",
       "      <th>nTxnPerCust</th>\n",
       "      <th>nChipsPerTxn</th>\n",
       "      <th>avgPricePerUnit</th>\n",
       "      <th>Store_type</th>\n",
       "    </tr>\n",
       "  </thead>\n",
       "  <tbody>\n",
       "    <tr>\n",
       "      <th>0</th>\n",
       "      <td>1</td>\n",
       "      <td>2018-07</td>\n",
       "      <td>206.9</td>\n",
       "      <td>49</td>\n",
       "      <td>1.061224</td>\n",
       "      <td>1.192308</td>\n",
       "      <td>3.337097</td>\n",
       "      <td>Other</td>\n",
       "    </tr>\n",
       "    <tr>\n",
       "      <th>1</th>\n",
       "      <td>1</td>\n",
       "      <td>2018-08</td>\n",
       "      <td>176.1</td>\n",
       "      <td>42</td>\n",
       "      <td>1.023810</td>\n",
       "      <td>1.255814</td>\n",
       "      <td>3.261111</td>\n",
       "      <td>Other</td>\n",
       "    </tr>\n",
       "    <tr>\n",
       "      <th>2</th>\n",
       "      <td>1</td>\n",
       "      <td>2018-09</td>\n",
       "      <td>278.8</td>\n",
       "      <td>59</td>\n",
       "      <td>1.050847</td>\n",
       "      <td>1.209677</td>\n",
       "      <td>3.717333</td>\n",
       "      <td>Other</td>\n",
       "    </tr>\n",
       "    <tr>\n",
       "      <th>3</th>\n",
       "      <td>1</td>\n",
       "      <td>2018-10</td>\n",
       "      <td>188.1</td>\n",
       "      <td>44</td>\n",
       "      <td>1.022727</td>\n",
       "      <td>1.288889</td>\n",
       "      <td>3.243103</td>\n",
       "      <td>Other</td>\n",
       "    </tr>\n",
       "    <tr>\n",
       "      <th>4</th>\n",
       "      <td>1</td>\n",
       "      <td>2018-11</td>\n",
       "      <td>192.6</td>\n",
       "      <td>46</td>\n",
       "      <td>1.021739</td>\n",
       "      <td>1.212766</td>\n",
       "      <td>3.378947</td>\n",
       "      <td>Other</td>\n",
       "    </tr>\n",
       "    <tr>\n",
       "      <th>...</th>\n",
       "      <td>...</td>\n",
       "      <td>...</td>\n",
       "      <td>...</td>\n",
       "      <td>...</td>\n",
       "      <td>...</td>\n",
       "      <td>...</td>\n",
       "      <td>...</td>\n",
       "      <td>...</td>\n",
       "    </tr>\n",
       "    <tr>\n",
       "      <th>3160</th>\n",
       "      <td>272</td>\n",
       "      <td>2018-10</td>\n",
       "      <td>430.6</td>\n",
       "      <td>44</td>\n",
       "      <td>1.136364</td>\n",
       "      <td>1.980000</td>\n",
       "      <td>4.349495</td>\n",
       "      <td>Other</td>\n",
       "    </tr>\n",
       "    <tr>\n",
       "      <th>3161</th>\n",
       "      <td>272</td>\n",
       "      <td>2018-11</td>\n",
       "      <td>376.2</td>\n",
       "      <td>41</td>\n",
       "      <td>1.097561</td>\n",
       "      <td>1.933333</td>\n",
       "      <td>4.324138</td>\n",
       "      <td>Other</td>\n",
       "    </tr>\n",
       "    <tr>\n",
       "      <th>3162</th>\n",
       "      <td>272</td>\n",
       "      <td>2018-12</td>\n",
       "      <td>403.9</td>\n",
       "      <td>47</td>\n",
       "      <td>1.000000</td>\n",
       "      <td>1.893617</td>\n",
       "      <td>4.538202</td>\n",
       "      <td>Other</td>\n",
       "    </tr>\n",
       "    <tr>\n",
       "      <th>3163</th>\n",
       "      <td>272</td>\n",
       "      <td>2019-01</td>\n",
       "      <td>423.0</td>\n",
       "      <td>46</td>\n",
       "      <td>1.086957</td>\n",
       "      <td>1.920000</td>\n",
       "      <td>4.406250</td>\n",
       "      <td>Other</td>\n",
       "    </tr>\n",
       "    <tr>\n",
       "      <th>3164</th>\n",
       "      <td>272</td>\n",
       "      <td>2019-02</td>\n",
       "      <td>395.5</td>\n",
       "      <td>45</td>\n",
       "      <td>1.066667</td>\n",
       "      <td>1.895833</td>\n",
       "      <td>4.346154</td>\n",
       "      <td>Other</td>\n",
       "    </tr>\n",
       "  </tbody>\n",
       "</table>\n",
       "<p>2080 rows × 8 columns</p>\n",
       "</div>"
      ]
     },
     "execution_count": 23,
     "metadata": {},
     "output_type": "execute_result"
    }
   ],
   "execution_count": 23
  },
  {
   "cell_type": "code",
   "id": "f1c5df3c",
   "metadata": {
    "ExecuteTime": {
     "end_time": "2024-06-19T01:32:16.650801Z",
     "start_time": "2024-06-19T01:32:12.761645Z"
    }
   },
   "source": [
    "Pretrail_sales = pd.DataFrame(preTrial_full_observ.groupby(['YM','STORE_NBR','Store_type'])['totSales'].mean()).reset_index()\n",
    "trial_control_dict = {77:233, 86:155, 88:237}\n",
    "d_other = Pretrail_sales[Pretrail_sales['Store_type'] == 'Other']\n",
    "\n",
    "for key, value in trial_control_dict.items(): \n",
    "    d_triCon = Pretrail_sales[Pretrail_sales['STORE_NBR'].isin([key, value])]\n",
    "    pre_plt = pd.concat([d_triCon, d_other])\n",
    "\n",
    "\n",
    "    plt.figure()  \n",
    "    sns.lineplot(\n",
    "            data = pre_plt,\n",
    "            x=pre_plt[\"YM\"].astype(str),\n",
    "            y=pre_plt[\"totSales\"],\n",
    "            hue=pre_plt[\"Store_type\"]\n",
    "        )\n",
    "    plt.title(f\"Total Sales: Trial Store {key} and Control Store {value}\")\n",
    "    plt.xlabel(\"Date\")\n",
    "    plt.ylabel(\"Total Sales\")\n",
    "    plt.legend(loc='upper right')  \n",
    "\n",
    "    plt.show()"
   ],
   "outputs": [
    {
     "data": {
      "text/plain": [
       "<Figure size 640x480 with 1 Axes>"
      ],
      "image/png": "[encoded data removed]"
     },
     "metadata": {},
     "output_type": "display_data"
    },
    {
     "data": {
      "text/plain": [
       "<Figure size 640x480 with 1 Axes>"
      ],
      "image/png": "[encoded data removed]"
     },
     "metadata": {},
     "output_type": "display_data"
    },
    {
     "data": {
      "text/plain": [
       "<Figure size 640x480 with 1 Axes>"
      ],
      "image/png": "[encoded data removed]"
     },
     "metadata": {},
     "output_type": "display_data"
    }
   ],
   "execution_count": 25
  },
  {
   "cell_type": "code",
   "id": "a6f6298b",
   "metadata": {
    "ExecuteTime": {
     "end_time": "2024-06-19T01:32:20.486880Z",
     "start_time": "2024-06-19T01:32:17.900762Z"
    }
   },
   "source": [
    "Pretrail_nCustomer = pd.DataFrame(preTrial_full_observ.groupby(['YM','STORE_NBR','Store_type'])['nCustomers'].mean()).reset_index()\n",
    "\n",
    "trial_control_dict = {77:233, 86:155, 88:237}\n",
    "d_other = Pretrail_nCustomer[Pretrail_nCustomer['Store_type'] == 'Other']\n",
    "\n",
    "for key, value in trial_control_dict.items(): \n",
    "    d_triCon = Pretrail_nCustomer[Pretrail_nCustomer['STORE_NBR'].isin([key, value])]\n",
    "    pre_plt = pd.concat([d_triCon, d_other])\n",
    "    plt.figure()  # Create a new figure for each plot\n",
    "    sns.lineplot(\n",
    "        x=pre_plt[\"YM\"].astype(str),\n",
    "        y=pre_plt[\"nCustomers\"],\n",
    "        hue=pre_plt[\"Store_type\"]\n",
    "    )\n",
    "    plt.title(f\"Number of Customer: Trial Store {key} and Control Store {value}\")\n",
    "    plt.xlabel(\"Date\")\n",
    "    plt.ylabel(\"Total number of customers\")\n",
    "    plt.legend(loc='upper right')  # Adjust the legend location as needed\n",
    "    \n",
    "plt.show()\n",
    "\n"
   ],
   "outputs": [
    {
     "data": {
      "text/plain": [
       "<Figure size 640x480 with 1 Axes>"
      ],
      "image/png": "[encoded data removed]"
     },
     "metadata": {},
     "output_type": "display_data"
    },
    {
     "data": {
      "text/plain": [
       "<Figure size 640x480 with 1 Axes>"
      ],
      "image/png": "[encoded data removed]"
     },
     "metadata": {},
     "output_type": "display_data"
    },
    {
     "data": {
      "text/plain": [
       "<Figure size 640x480 with 1 Axes>"
      ],
      "image/png": "[encoded data removed]"
     },
     "metadata": {},
     "output_type": "display_data"
    }
   ],
   "execution_count": 26
  },
  {
   "cell_type": "markdown",
   "id": "1a514809",
   "metadata": {},
   "source": [
    "Total number of total sales and customers of the control and trial stores are similar."
   ]
  },
  {
   "cell_type": "markdown",
   "id": "594b7068",
   "metadata": {},
   "source": "### Assess the impact of the trial"
  },
  {
   "metadata": {
    "ExecuteTime": {
     "end_time": "2024-06-19T01:53:32.738588Z",
     "start_time": "2024-06-19T01:53:32.686504Z"
    }
   },
   "cell_type": "code",
   "source": [
    "def get_test(trial_num, column):\n",
    "    # Suppress SettingWithCopyWarning\n",
    "    pd.options.mode.chained_assignment = None\n",
    "    \n",
    "    # Trial and control store dictionary\n",
    "    trial_control_dict = {88: 237, 86: 155, 77: 233}\n",
    "    \n",
    "    # Calculate ratio control\n",
    "    trial_data = preTrial_full_observ[(preTrial_full_observ['STORE_NBR'] == trial_num) & (preTrial_full_observ['YM'] < '2019-02')]\n",
    "    control_data = preTrial_full_observ[(preTrial_full_observ['STORE_NBR'] == trial_control_dict[trial_num]) & (preTrial_full_observ['YM'] < '2019-02')]\n",
    "    ratio_control = trial_data[column].sum() / control_data[column].sum()\n",
    "    \n",
    "    # Get monthly measure metric and scale control store \n",
    "    measure_over_time = monthly_measure_metric()\n",
    "    Control_Store_Scale = measure_over_time[measure_over_time['STORE_NBR'] == trial_control_dict[trial_num]].copy()\n",
    "    Control_Store_Scale['Scale_Control_Value'] = Control_Store_Scale[column] * ratio_control\n",
    "    \n",
    "    # Calculate percentage differences\n",
    "    temp1 = Control_Store_Scale[['YM', 'STORE_NBR', 'Scale_Control_Value']]\n",
    "    temp2 = measure_over_time[measure_over_time['STORE_NBR'] == trial_num][['YM', 'STORE_NBR', column]]\n",
    "    percentage_diff = temp1.merge(temp2, how='left', on='YM', suffixes=('_control', '_trial'))\n",
    "    \n",
    "    #t-testing\n",
    "    control_value = percentage_diff['Scale_Control_Value']\n",
    "    trial_value = percentage_diff[column]\n",
    "    t_result = stats.ttest_ind(a=control_value, b=trial_value, equal_var=False)\n",
    "    \n",
    "    #show monthly testing result\n",
    "    percentage_diff['percentage_diff'] = abs(percentage_diff[column] - percentage_diff['Scale_Control_Value']) / percentage_diff['Scale_Control_Value']\n",
    "    \n",
    "    # Calculate standard deviation\n",
    "    std_dev = percentage_diff[percentage_diff.YM < '2019-02']['percentage_diff'].std(ddof=0)\n",
    "    \n",
    "    # Calculate t-values for the post-trial period\n",
    "    result = percentage_diff[(percentage_diff.YM > '2019-01') & (percentage_diff.YM < '2019-05')].copy()\n",
    "    result['t_value'] = (result['percentage_diff'] - 0) / std_dev\n",
    "    \n",
    "    # Critical t-value\n",
    "    alpha = 0.05\n",
    "    critical_t_value = t.ppf(1 - alpha, df=len(result) - 1)\n",
    "    print(\"T-test Result:\", t_result)\n",
    "    print(\"\\nT-values DataFrame:\\n\", result[['YM', 't_value']])\n",
    "    print(\"\\nCritical T-value:\", critical_t_value)\n",
    "    #return t_result, result[['YM', 't_value']], critical_t_value\n",
    "    "
   ],
   "id": "c4994a3913633773",
   "outputs": [],
   "execution_count": 55
  },
  {
   "metadata": {
    "ExecuteTime": {
     "end_time": "2024-06-19T01:32:24.101192Z",
     "start_time": "2024-06-19T01:32:24.087751Z"
    }
   },
   "cell_type": "code",
   "source": [
    "def get_line_chart(trial_store_num, column):\n",
    "    measure_over_time = qvi_metric.copy()\n",
    "    \n",
    "    trial_control_dict = {88: 237, 86: 155, 77: 233}\n",
    "    \n",
    "    ratio_control = (preTrial_full_observ[(preTrial_full_observ['STORE_NBR'] == trial_store_num) & \n",
    "                                          (preTrial_full_observ['YM'] < '2019-02')][column].sum()) / \\\n",
    "                    (preTrial_full_observ[(preTrial_full_observ['STORE_NBR'] == trial_control_dict[trial_store_num]) & \n",
    "                                          (preTrial_full_observ['YM'] < '2019-02')][column].sum())\n",
    "    \n",
    "    measure_over_time_sales = monthly_measure_metric()\n",
    "    Control_Store_Sales_Scale = measure_over_time_sales[measure_over_time_sales['STORE_NBR'] == trial_control_dict[trial_store_num]].copy()\n",
    "    Control_Store_Sales_Scale['Scale_Control_Value'] = Control_Store_Sales_Scale[column] * ratio_control\n",
    "    \n",
    "    percentage_diff = pd.DataFrame()\n",
    "    \n",
    "    temp1 = Control_Store_Sales_Scale[['YM', 'STORE_NBR', 'Scale_Control_Value']]\n",
    "    temp2 = measure_over_time_sales[measure_over_time_sales['STORE_NBR'] == trial_store_num][['YM', 'STORE_NBR', column]]\n",
    "    \n",
    "    aa = temp1.merge(temp2, how='left', on='YM', suffixes=('_control', '_trial'))\n",
    "    \n",
    "    percentage_diff = pd.concat([percentage_diff, aa])\n",
    "    percentage_diff['percentage_diff'] = abs(percentage_diff[column] - percentage_diff['Scale_Control_Value']) / percentage_diff['Scale_Control_Value']\n",
    "    \n",
    "    std_dev = percentage_diff[percentage_diff.YM < '2019-02']['percentage_diff'].std(ddof=0)\n",
    "    print(std_dev)\n",
    "    \n",
    "    \n",
    "    measure_over_time['store_type'] = measure_over_time['STORE_NBR'].apply(\n",
    "        lambda x: 'trial' if x in trial_control_dict.keys() else ('control' if x in trial_control_dict.values() else 'others')\n",
    "    )\n",
    "    \n",
    "    test = measure_over_time[(measure_over_time.STORE_NBR == trial_store_num) | \n",
    "                             (measure_over_time.STORE_NBR == trial_control_dict[trial_store_num])]\n",
    "    \n",
    "    test = test.groupby(['YM', 'store_type']).agg({column: 'mean'}).reset_index()\n",
    "    test['YM'] = pd.to_datetime(test['YM'].dt.year.astype(str) + '-' + test['YM'].dt.month.astype(str) + '-01')\n",
    "    \n",
    "    test_95 = test[test.store_type == 'control'].copy()\n",
    "    test_95[column] *= (1 + std_dev * 2)\n",
    "    test_95['store_type'] = 'Control 95th % confidence interval'\n",
    "    \n",
    "    test_5 = test[test.store_type == 'control'].copy()\n",
    "    test_5[column] *= (1 - std_dev * 2)\n",
    "    test_5['store_type'] = 'Control 5th % confidence interval'\n",
    "    \n",
    "    assessment = pd.concat([test, test_95, test_5]).sort_values(by=['YM', 'store_type']).reset_index(drop=True)\n",
    "    \n",
    "    column_display_name = {'totSales': 'Total Number of Sales', 'nCustomers': 'Total Number of Customers'}.get(column, column)\n",
    "    \n",
    "    plt.figure(figsize=(10, 6))\n",
    "    sns.set_style(\"whitegrid\")\n",
    "    sns.lineplot(\n",
    "        x=assessment[\"YM\"].astype(str),\n",
    "        y=assessment[column],\n",
    "        hue=assessment[\"store_type\"]\n",
    "    )\n",
    "    \n",
    "    plt.title(f\"Monthly {column_display_name} for Trial Store {trial_store_num}\", fontsize=16, color='black')\n",
    "    plt.xlabel(\"Date\")\n",
    "    plt.ylabel(column_display_name, fontsize=12, color='black')\n",
    "    \n",
    "    start_date = '2019-02-01'\n",
    "    end_date = '2019-04-01'\n",
    "    plt.axvspan(start_date, end_date, color='gray', alpha=0.5)\n",
    "    \n",
    "    plt.legend(loc='upper left', bbox_to_anchor=(1, 1), prop={'size': 6})\n",
    "    plt.xticks(rotation=45, ha='right')\n",
    "    plt.ylim(0, assessment[column].max())\n",
    "    plt.tight_layout()\n",
    "    plt.show()"
   ],
   "id": "9ed559bef888706b",
   "outputs": [],
   "execution_count": 28
  },
  {
   "metadata": {},
   "cell_type": "markdown",
   "source": "#### Trial Store 77",
   "id": "2da67cca35f10bc1"
  },
  {
   "metadata": {
    "ExecuteTime": {
     "end_time": "2024-06-19T01:53:37.502553Z",
     "start_time": "2024-06-19T01:53:36.505820Z"
    }
   },
   "cell_type": "code",
   "source": "get_test(77,'totSales')",
   "id": "42c0a3c0b6cbd7ff",
   "outputs": [
    {
     "name": "stdout",
     "output_type": "stream",
     "text": [
      "T-test Result: Ttest_indResult(statistic=-0.6530505751779069, pvalue=0.5223023147946262)\n",
      "\n",
      "T-values DataFrame:\n",
      "         YM    t_value\n",
      "7  2019-02   1.278363\n",
      "8  2019-03   7.927151\n",
      "9  2019-04  13.476023\n",
      "\n",
      "Critical T-value: 2.919985580355516\n"
     ]
    }
   ],
   "execution_count": 56
  },
  {
   "metadata": {},
   "cell_type": "code",
   "source": "get_line_chart(77, 'totSales')",
   "id": "dc223d68f67b0d99",
   "outputs": [],
   "execution_count": null
  },
  {
   "metadata": {},
   "cell_type": "code",
   "source": "get_test(77,'nCustomers')",
   "id": "14ee281341af244d",
   "outputs": [],
   "execution_count": null
  },
  {
   "metadata": {},
   "cell_type": "code",
   "source": "get_line_chart(77, 'nCustomers')",
   "id": "79fc46dc83c2248f",
   "outputs": [],
   "execution_count": null
  },
  {
   "metadata": {},
   "cell_type": "markdown",
   "source": [
    "The results show that the trial in store 77 is significantly different to its control store in the trial period as\n",
    "the trial store performance lies outside the 5% to 95% confidence interval of the control store in two of the\n",
    "three trial months."
   ],
   "id": "703fb18c4e0c2f3e"
  },
  {
   "metadata": {},
   "cell_type": "markdown",
   "source": "#### Trial Store: 88",
   "id": "83af9b9f292b836d"
  },
  {
   "metadata": {},
   "cell_type": "code",
   "source": "get_test(88, 'totSales')",
   "id": "97358ef9fcba47b3",
   "outputs": [],
   "execution_count": null
  },
  {
   "metadata": {},
   "cell_type": "code",
   "source": "get_line_chart(88, 'totSales')",
   "id": "2e21b80cf1fdd078",
   "outputs": [],
   "execution_count": null
  },
  {
   "metadata": {},
   "cell_type": "code",
   "source": "get_test(88, 'nCustomers')",
   "id": "5ec0477593f0bab4",
   "outputs": [],
   "execution_count": null
  },
  {
   "metadata": {},
   "cell_type": "code",
   "source": "get_line_chart(88, 'nCustomers')",
   "id": "39e43791603d4b10",
   "outputs": [],
   "execution_count": null
  },
  {
   "metadata": {},
   "cell_type": "markdown",
   "source": "#### Trial Store 86",
   "id": "4438297ea08d7298"
  },
  {
   "metadata": {},
   "cell_type": "code",
   "source": "get_test(86, 'totSales')",
   "id": "4e4d093252be2ad",
   "outputs": [],
   "execution_count": null
  },
  {
   "metadata": {},
   "cell_type": "code",
   "source": "get_line_chart(86, 'totSales')",
   "id": "35aae187b7e2ed64",
   "outputs": [],
   "execution_count": null
  },
  {
   "metadata": {},
   "cell_type": "code",
   "source": "get_test(86, 'nCustomers')",
   "id": "135c328305199d00",
   "outputs": [],
   "execution_count": null
  },
  {
   "metadata": {},
   "cell_type": "code",
   "source": "get_line_chart(86, 'nCustomers')",
   "id": "d83cd37a9ead91f4",
   "outputs": [],
   "execution_count": null
  },
  {
   "metadata": {},
   "cell_type": "markdown",
   "source": [
    "Conclusion \n",
    "\n",
    "We’ve found control stores 233, 155, 237 for trial stores 77, 86 and 88 respectively.\n",
    "\n",
    "The results for trial stores 77 and 88 during the trial period show a significant difference in at least two of the\n",
    "three trial months but this is not the case for trial store 86. We can check with the client if the implementation\n",
    "of the trial was different in trial store 86 but overall, the trial shows a significant increase in sales. "
   ],
   "id": "652a318d606145c8"
  },
  {
   "metadata": {
    "ExecuteTime": {
     "end_time": "2024-06-19T01:42:20.977041Z",
     "start_time": "2024-06-19T01:42:20.955922Z"
    }
   },
   "cell_type": "code",
   "source": [
    "def get_test(trial_num, column):\n",
    "    # Suppress SettingWithCopyWarning\n",
    "    pd.options.mode.chained_assignment = None\n",
    "    \n",
    "    # Trial and control store dictionary\n",
    "    trial_control_dict = {88: 237, 86: 155, 77: 233}\n",
    "    \n",
    "    # Calculate ratio control\n",
    "    trial_data = preTrial_full_observ[(preTrial_full_observ['STORE_NBR'] == trial_num) & (preTrial_full_observ['YM'] < '2019-02')]\n",
    "    control_data = preTrial_full_observ[(preTrial_full_observ['STORE_NBR'] == trial_control_dict[trial_num]) & (preTrial_full_observ['YM'] < '2019-02')]\n",
    "    ratio_control = trial_data[column].sum() / control_data[column].sum()\n",
    "    \n",
    "    # Get monthly measure metric and scale control store \n",
    "    measure_over_time = monthly_measure_metric()\n",
    "    Control_Store_Scale = measure_over_time[measure_over_time['STORE_NBR'] == trial_control_dict[trial_num]].copy()\n",
    "    Control_Store_Scale['Scale_Control_Value'] = Control_Store_Scale[column] * ratio_control\n",
    "    \n",
    "    # Calculate percentage differences\n",
    "    temp1 = Control_Store_Scale[['YM', 'STORE_NBR', 'Scale_Control_Value']]\n",
    "    temp2 = measure_over_time[measure_over_time['STORE_NBR'] == trial_num][['YM', 'STORE_NBR', column]]\n",
    "    percentage_diff = temp1.merge(temp2, how='left', on='YM', suffixes=('_control', '_trial'))\n",
    "    \n",
    "    #t-testing\n",
    "    control_value = percentage_diff['Scale_Control_Value']\n",
    "    trial_value = percentage_diff[column]\n",
    "    t_result = stats.ttest_ind(a=control_value, b=trial_value, equal_var=False)\n",
    "\n",
    "\n",
    "    percentage_diff['percentage_diff'] = abs(percentage_diff[column] - percentage_diff['Scale_Control_Value']) / percentage_diff['Scale_Control_Value']\n",
    "    \n",
    "    # Calculate standard deviation\n",
    "    std_dev = percentage_diff[percentage_diff.YM < '2019-02']['percentage_diff'].std(ddof=0)\n",
    "    \n",
    "    # Calculate t-values for the post-trial period\n",
    "    result = percentage_diff[(percentage_diff.YM > '2019-01') & (percentage_diff.YM < '2019-05')].copy()\n",
    "    result['t_value'] = (result['percentage_diff'] - 0) / std_dev\n",
    "    \n",
    "    # Critical t-value\n",
    "    alpha = 0.05\n",
    "    critical_t_value = t.ppf(1 - alpha, df=len(result) - 1)\n",
    "    \n",
    "    return t_result, result[['YM', 't_value']], critical_t_value"
   ],
   "id": "c65f28885ad144d1",
   "outputs": [],
   "execution_count": 38
  },
  {
   "metadata": {
    "ExecuteTime": {
     "end_time": "2024-06-19T01:36:23.534170Z",
     "start_time": "2024-06-19T01:36:21.994587Z"
    }
   },
   "cell_type": "code",
   "source": [
    "trial_control_dict = {88: 237, 86: 155, 77: 233}\n",
    "\n",
    "trial_data = preTrial_full_observ[(preTrial_full_observ['STORE_NBR'] == 77) & (preTrial_full_observ['YM'] < '2019-02')]\n",
    "control_data = preTrial_full_observ[(preTrial_full_observ['STORE_NBR'] == trial_control_dict[77]) & (preTrial_full_observ['YM'] < '2019-02')]\n",
    "ratio_control = trial_data['totSales'].sum() / control_data['totSales'].sum()\n",
    "    \n",
    "    \n",
    "measure_over_time = monthly_measure_metric()\n",
    "Control_Store_Scale = measure_over_time[measure_over_time['STORE_NBR'] == trial_control_dict[77]].copy()\n",
    "Control_Store_Scale['Scale_Control_Value'] = Control_Store_Scale['totSales'] * ratio_control\n",
    "\n",
    "measure_over_time = monthly_measure_metric()\n",
    "Control_Store_Scale = measure_over_time[measure_over_time['STORE_NBR'] == trial_control_dict[77]].copy()\n",
    "Control_Store_Scale['Scale_Control_Value'] = Control_Store_Scale['totSales'] * ratio_control\n",
    "\n",
    "temp1 = Control_Store_Scale[['YM', 'STORE_NBR', 'Scale_Control_Value']]\n",
    "temp2 = measure_over_time[measure_over_time['STORE_NBR'] == 77][['YM', 'STORE_NBR', 'totSales']]\n",
    "percentage_diff = temp1.merge(temp2, how='left', on='YM', suffixes=('_control', '_trial'))\n",
    "percentage_diff.head()"
   ],
   "id": "f4b5c543599ef033",
   "outputs": [
    {
     "data": {
      "text/plain": [
       "        YM  STORE_NBR_control  Scale_Control_Value  STORE_NBR_trial  totSales\n",
       "0  2018-07                233           297.565550               77     296.8\n",
       "1  2018-08                233           292.652187               77     255.5\n",
       "2  2018-09                233           233.998916               77     225.2\n",
       "3  2018-10                233           190.085733               77     204.5\n",
       "4  2018-11                233           216.597421               77     245.3"
      ],
      "text/html": [
       "<div>\n",
       "<style scoped>\n",
       "    .dataframe tbody tr th:only-of-type {\n",
       "        vertical-align: middle;\n",
       "    }\n",
       "\n",
       "    .dataframe tbody tr th {\n",
       "        vertical-align: top;\n",
       "    }\n",
       "\n",
       "    .dataframe thead th {\n",
       "        text-align: right;\n",
       "    }\n",
       "</style>\n",
       "<table border=\"1\" class=\"dataframe\">\n",
       "  <thead>\n",
       "    <tr style=\"text-align: right;\">\n",
       "      <th></th>\n",
       "      <th>YM</th>\n",
       "      <th>STORE_NBR_control</th>\n",
       "      <th>Scale_Control_Value</th>\n",
       "      <th>STORE_NBR_trial</th>\n",
       "      <th>totSales</th>\n",
       "    </tr>\n",
       "  </thead>\n",
       "  <tbody>\n",
       "    <tr>\n",
       "      <th>0</th>\n",
       "      <td>2018-07</td>\n",
       "      <td>233</td>\n",
       "      <td>297.565550</td>\n",
       "      <td>77</td>\n",
       "      <td>296.8</td>\n",
       "    </tr>\n",
       "    <tr>\n",
       "      <th>1</th>\n",
       "      <td>2018-08</td>\n",
       "      <td>233</td>\n",
       "      <td>292.652187</td>\n",
       "      <td>77</td>\n",
       "      <td>255.5</td>\n",
       "    </tr>\n",
       "    <tr>\n",
       "      <th>2</th>\n",
       "      <td>2018-09</td>\n",
       "      <td>233</td>\n",
       "      <td>233.998916</td>\n",
       "      <td>77</td>\n",
       "      <td>225.2</td>\n",
       "    </tr>\n",
       "    <tr>\n",
       "      <th>3</th>\n",
       "      <td>2018-10</td>\n",
       "      <td>233</td>\n",
       "      <td>190.085733</td>\n",
       "      <td>77</td>\n",
       "      <td>204.5</td>\n",
       "    </tr>\n",
       "    <tr>\n",
       "      <th>4</th>\n",
       "      <td>2018-11</td>\n",
       "      <td>233</td>\n",
       "      <td>216.597421</td>\n",
       "      <td>77</td>\n",
       "      <td>245.3</td>\n",
       "    </tr>\n",
       "  </tbody>\n",
       "</table>\n",
       "</div>"
      ]
     },
     "execution_count": 31,
     "metadata": {},
     "output_type": "execute_result"
    }
   ],
   "execution_count": 31
  },
  {
   "metadata": {
    "ExecuteTime": {
     "end_time": "2024-06-19T01:38:53.226919Z",
     "start_time": "2024-06-19T01:38:53.179946Z"
    }
   },
   "cell_type": "code",
   "source": [
    "from scipy import stats\n",
    "control_value = percentage_diff['Scale_Control_Value']\n",
    "trial_value = percentage_diff['totSales']\n",
    "stats.ttest_ind(a=control_value, b=trial_value, equal_var=False)"
   ],
   "id": "7245bdf8c43aa821",
   "outputs": [
    {
     "data": {
      "text/plain": [
       "Ttest_indResult(statistic=-0.6530505751779069, pvalue=0.5223023147946262)"
      ]
     },
     "execution_count": 36,
     "metadata": {},
     "output_type": "execute_result"
    }
   ],
   "execution_count": 36
  },
  {
   "metadata": {},
   "cell_type": "code",
   "outputs": [],
   "execution_count": null,
   "source": "",
   "id": "206a2a11fdacd6fd"
  }
 ],
 "metadata": {
  "kernelspec": {
   "display_name": "Python 3 (ipykernel)",
   "language": "python",
   "name": "python3"
  },
  "language_info": {
   "codemirror_mode": {
    "name": "ipython",
    "version": 3
   },
   "file_extension": ".py",
   "mimetype": "text/x-python",
   "name": "python",
   "nbconvert_exporter": "python",
   "pygments_lexer": "ipython3",
   "version": "3.11.4"
  }
 },
 "nbformat": 4,
 "nbformat_minor": 5
}
